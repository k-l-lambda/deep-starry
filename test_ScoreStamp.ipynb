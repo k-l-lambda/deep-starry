{
 "cells": [
  {
   "cell_type": "code",
   "execution_count": 1,
   "metadata": {},
   "outputs": [
    {
     "name": "stdout",
     "output_type": "stream",
     "text": [
      "(tensor([[[240, 240, 240,  ..., 142, 151, 240],\n",
      "         [239, 239, 239,  ..., 144, 146, 240],\n",
      "         [240, 240, 239,  ..., 107,  93, 240],\n",
      "         ...,\n",
      "         [239, 239, 239,  ..., 240, 240, 240],\n",
      "         [239, 239, 239,  ..., 240, 240, 240],\n",
      "         [239, 239, 239,  ..., 240, 240, 240]]], dtype=torch.uint8), tensor([2]))\n"
     ]
    }
   ],
   "source": [
    "import os\n",
    "\n",
    "from starry.utils.config import Configuration\n",
    "from starry.utils.dataset_factory import loadDataset\n",
    "\n",
    "\n",
    "DATA_DIR = os.environ.get('VISION_DATA_DIR')\n",
    "\n",
    "config = Configuration.create('configs/scorestamp-data.yaml')\n",
    "train, val = loadDataset(config, data_dir=DATA_DIR, device='cpu')\n",
    "\n",
    "it = iter(train)\n",
    "batch = next(it)\n",
    "print(batch)\n"
   ]
  }
 ],
 "metadata": {
  "kernelspec": {
   "display_name": "Python 3",
   "language": "python",
   "name": "python3"
  },
  "language_info": {
   "codemirror_mode": {
    "name": "ipython",
    "version": 3
   },
   "file_extension": ".py",
   "mimetype": "text/x-python",
   "name": "python",
   "nbconvert_exporter": "python",
   "pygments_lexer": "ipython3",
   "version": "3.6.9"
  },
  "orig_nbformat": 4,
  "vscode": {
   "interpreter": {
    "hash": "31f2aee4e71d21fbe5cf8b01ff0e069b9275f58929596ceb00d14d90e3e16cd6"
   }
  }
 },
 "nbformat": 4,
 "nbformat_minor": 2
}
