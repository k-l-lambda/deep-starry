{
 "cells": [
  {
   "cell_type": "code",
   "execution_count": 1,
   "metadata": {},
   "outputs": [
    {
     "name": "stdout",
     "output_type": "stream",
     "text": [
      "torch.float32 torch.Size([1, 1, 32, 32]) torch.int64 torch.Size([1])\n"
     ]
    }
   ],
   "source": [
    "import os\n",
    "\n",
    "from starry.utils.config import Configuration\n",
    "from starry.utils.dataset_factory import loadDataset\n",
    "import matplotlib.pyplot as plt\n",
    "\n",
    "\n",
    "DATA_DIR = os.environ.get('VISION_DATA_DIR')\n",
    "\n",
    "config = Configuration.create('configs/scorestamp-data.yaml')\n",
    "train, val = loadDataset(config, data_dir=DATA_DIR, device='cpu')\n",
    "\n",
    "it = iter(train)\n",
    "batch = next(it)\n",
    "print(batch[0].dtype, batch[0].shape, batch[1].dtype, batch[1].shape)\n"
   ]
  },
  {
   "cell_type": "code",
   "execution_count": 2,
   "metadata": {},
   "outputs": [
    {
     "name": "stdout",
     "output_type": "stream",
     "text": [
      "label: 0\n"
     ]
    },
    {
     "data": {
      "text/plain": [
       "<matplotlib.image.AxesImage at 0x7f504aa648d0>"
      ]
     },
     "execution_count": 2,
     "metadata": {},
     "output_type": "execute_result"
    },
    {
     "data": {
      "image/png": "[encoded data removed]",
      "text/plain": [
       "<Figure size 432x288 with 1 Axes>"
      ]
     },
     "metadata": {
      "needs_background": "light"
     },
     "output_type": "display_data"
    }
   ],
   "source": [
    "batch = next(it)\n",
    "\n",
    "print('label:', batch[1][0].item())\n",
    "plt.imshow(batch[0][0, 0])\n"
   ]
  },
  {
   "cell_type": "code",
   "execution_count": 1,
   "metadata": {},
   "outputs": [
    {
     "data": {
      "text/plain": [
       "torch.Size([2, 10])"
      ]
     },
     "execution_count": 1,
     "metadata": {},
     "output_type": "execute_result"
    }
   ],
   "source": [
    "import torch\n",
    "from starry.vision.models.glyphRecognizer import GlyphRecognizer\n",
    "\n",
    "\n",
    "model = GlyphRecognizer(n_classes=10)\n",
    "y = model(torch.randn(2, 1, 32, 32))\n",
    "\n",
    "y.shape"
   ]
  },
  {
   "cell_type": "code",
   "execution_count": 1,
   "metadata": {},
   "outputs": [
    {
     "name": "stdout",
     "output_type": "stream",
     "text": [
      "loss: tensor(2.7821, grad_fn=<NllLossBackward0>)\n",
      "metric: {'acc': tensor(0.)}\n"
     ]
    }
   ],
   "source": [
    "import os\n",
    "import torch\n",
    "from starry.utils.config import Configuration\n",
    "from starry.utils.dataset_factory import loadDataset\n",
    "from starry.utils.model_factory import loadModel\n",
    "\n",
    "\n",
    "DATA_DIR = os.environ.get('VISION_DATA_DIR')\n",
    "\n",
    "config = Configuration.create('configs/scoreglyph-timesig-test.yaml')\n",
    "train, val = loadDataset(config, data_dir=DATA_DIR, device='cpu')\n",
    "model = loadModel(config['model'], postfix='Loss')\n",
    "\n",
    "it = iter(train)\n",
    "\n",
    "batch = next(it)\n",
    "loss, metric = model(batch)\n",
    "\n",
    "print('loss:', loss)\n",
    "print('metric:', metric)\n"
   ]
  }
 ],
 "metadata": {
  "kernelspec": {
   "display_name": "Python 3",
   "language": "python",
   "name": "python3"
  },
  "language_info": {
   "codemirror_mode": {
    "name": "ipython",
    "version": 3
   },
   "file_extension": ".py",
   "mimetype": "text/x-python",
   "name": "python",
   "nbconvert_exporter": "python",
   "pygments_lexer": "ipython3",
   "version": "3.6.9"
  },
  "orig_nbformat": 4,
  "vscode": {
   "interpreter": {
    "hash": "31f2aee4e71d21fbe5cf8b01ff0e069b9275f58929596ceb00d14d90e3e16cd6"
   }
  }
 },
 "nbformat": 4,
 "nbformat_minor": 2
}
