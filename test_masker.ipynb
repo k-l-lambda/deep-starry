{
 "cells": [
  {
   "cell_type": "code",
   "execution_count": null,
   "metadata": {},
   "outputs": [],
   "source": [
    "# load schp\n",
    "import os\n",
    "from collections import OrderedDict\n",
    "import torch\n",
    "\n",
    "import starry.utils.env\n",
    "from starry.schp import networks as schp_networks\n",
    "\n",
    "\n",
    "SCHP_PRETRAINED = os.getenv('SCHP_PRETRAINED')\n",
    "\n",
    "model = schp_networks.init_model('resnet101', num_classes=18, pretrained=None)\n",
    "\n",
    "state_dict = torch.load(SCHP_PRETRAINED)['state_dict']\n",
    "new_state_dict = OrderedDict()\n",
    "for k, v in state_dict.items():\n",
    "\tname = k[7:]  # remove `module.`\n",
    "\tnew_state_dict[name] = v\n",
    "model.load_state_dict(new_state_dict)\n",
    "\n",
    "model.eval()\n",
    "for param in model.parameters():\n",
    "\tparam.requires_grad = False\n"
   ]
  },
  {
   "cell_type": "code",
   "execution_count": null,
   "metadata": {},
   "outputs": [],
   "source": [
    "# load dataset\n",
    "import matplotlib.pyplot as plt\n",
    "import numpy as np\n",
    "\n",
    "from starry.utils.config import Configuration\n",
    "from starry.utils.dataset_factory import loadDataset\n",
    "\n",
    "\n",
    "DATA_DIR = os.getenv('DATA_DIR')\n",
    "\n",
    "config = Configuration.create('configs/peris-score-simple-balance.yaml', volatile=True)\n",
    "data, = loadDataset(config, data_dir=DATA_DIR, splits='*0/1')\n",
    "\n",
    "it = iter(data)"
   ]
  },
  {
   "cell_type": "code",
   "execution_count": null,
   "metadata": {},
   "outputs": [],
   "source": [
    "import cv2\n",
    "import numpy as np\n",
    "import matplotlib.pyplot as plt\n",
    "\n",
    "from starry.vision.data.masker import Masker\n",
    "\n",
    "\n",
    "masker = Masker(model, resize=512, mask_semantic=0, blur_iterations=40)\n",
    "\n",
    "image = cv2.imread('./test/download.jpg')\n",
    "image = torch.from_numpy((image / 255.).astype(np.float32)).permute(2, 0, 1)\n",
    "masked = masker.mask(image)\n",
    "masked_img = masked.permute(1, 2, 0).numpy()\n",
    "masked_img = (masked_img * 255).astype(np.uint8)\n",
    "print('masked_img:', masked_img.shape)\n",
    "cv2.imwrite('test/download_masked.jpg', masked_img)\n",
    "\n",
    "plt.imshow(masked_img)\n",
    "plt.show()\n"
   ]
  }
 ],
 "metadata": {
  "interpreter": {
   "hash": "078bcf56f605c67cdda7655337024c2e7603822d51da37d4185dad0e464471a1"
  },
  "kernelspec": {
   "display_name": "Python 3.6.8 64-bit",
   "language": "python",
   "name": "python3"
  },
  "language_info": {
   "codemirror_mode": {
    "name": "ipython",
    "version": 3
   },
   "file_extension": ".py",
   "mimetype": "text/x-python",
   "name": "python",
   "nbconvert_exporter": "python",
   "pygments_lexer": "ipython3",
   "version": "3.6.8"
  },
  "orig_nbformat": 4
 },
 "nbformat": 4,
 "nbformat_minor": 2
}
