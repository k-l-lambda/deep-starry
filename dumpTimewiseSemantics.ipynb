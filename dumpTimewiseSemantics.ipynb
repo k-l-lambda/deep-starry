{
 "cells": [
  {
   "cell_type": "code",
   "execution_count": 4,
   "metadata": {},
   "outputs": [
    {
     "data": {
      "text/plain": [
       "(80,\n",
       " ['_PAD',\n",
       "  '_EOS',\n",
       "  'ClefG',\n",
       "  'ClefF',\n",
       "  'ClefC',\n",
       "  'TimesigC44',\n",
       "  'TimesigC22',\n",
       "  'TimesigZero',\n",
       "  'TimesigOne',\n",
       "  'TimesigTwo',\n",
       "  'TimesigThree',\n",
       "  'TimesigFour',\n",
       "  'TimesigFive',\n",
       "  'TimesigSix',\n",
       "  'TimesigSeven',\n",
       "  'TimesigEight',\n",
       "  'TimesigNine',\n",
       "  'NoteheadS0',\n",
       "  'NoteheadS1',\n",
       "  'NoteheadS2',\n",
       "  'vline_Stem',\n",
       "  'Flag3',\n",
       "  'Dot',\n",
       "  'Rest0',\n",
       "  'Rest1',\n",
       "  'Rest2',\n",
       "  'Rest3',\n",
       "  'Rest4',\n",
       "  'Rest5',\n",
       "  'Rest6',\n",
       "  'AccNatural',\n",
       "  'AccSharp',\n",
       "  'AccDoublesharp',\n",
       "  'AccFlat',\n",
       "  'AccFlatflat',\n",
       "  'OctaveShift8',\n",
       "  'OctaveShift0',\n",
       "  'BeamLeft',\n",
       "  'BeamContinue',\n",
       "  'BeamRight',\n",
       "  'TremoloLeft',\n",
       "  'TremoloRight',\n",
       "  'TremoloMiddle',\n",
       "  'KeyAcc',\n",
       "  'TempoNotehead',\n",
       "  'GraceNotehead',\n",
       "  'SignLined',\n",
       "  'SignInterval',\n",
       "  'StemTip',\n",
       "  'StemHead',\n",
       "  'SlurBegin',\n",
       "  'SlurEnd',\n",
       "  'f',\n",
       "  'p',\n",
       "  'm',\n",
       "  'n',\n",
       "  'r',\n",
       "  's',\n",
       "  'z',\n",
       "  'CrescendoBegin',\n",
       "  'CrescendoEnd',\n",
       "  'DecrescendoBegin',\n",
       "  'DecrescendoEnd',\n",
       "  'ScriptFermata',\n",
       "  'ScriptShortFermata',\n",
       "  'ScriptSforzato',\n",
       "  'ScriptStaccato',\n",
       "  'ScriptStaccatissimo',\n",
       "  'ScriptTurn',\n",
       "  'ScriptTrill',\n",
       "  'ScriptSegno',\n",
       "  'ScriptCoda',\n",
       "  'ScriptArpeggio',\n",
       "  'ScriptPrall',\n",
       "  'ScriptMordent',\n",
       "  'ScriptMarcato',\n",
       "  'ScriptTenuto',\n",
       "  'ScriptPortato',\n",
       "  'PedalStar',\n",
       "  'PedalPed'])"
      ]
     },
     "execution_count": 4,
     "metadata": {},
     "output_type": "execute_result"
    }
   ],
   "source": [
    "from starry.paraff.data.timewiseGraph import SEMANTIC_TABLE\n",
    "\n",
    "\n",
    "len(SEMANTIC_TABLE), SEMANTIC_TABLE"
   ]
  },
  {
   "cell_type": "code",
   "execution_count": 5,
   "metadata": {},
   "outputs": [],
   "source": [
    "import json\n",
    "\n",
    "\n",
    "with open('training/paraff/20230807-paraff-graph-trans-test/semantics.txt', 'w') as file:\n",
    "\tfile.write('\\n'.join(SEMANTIC_TABLE))\n"
   ]
  }
 ],
 "metadata": {
  "kernelspec": {
   "display_name": "env",
   "language": "python",
   "name": "python3"
  },
  "language_info": {
   "codemirror_mode": {
    "name": "ipython",
    "version": 3
   },
   "file_extension": ".py",
   "mimetype": "text/x-python",
   "name": "python",
   "nbconvert_exporter": "python",
   "pygments_lexer": "ipython3",
   "version": "3.8.17"
  },
  "orig_nbformat": 4
 },
 "nbformat": 4,
 "nbformat_minor": 2
}
