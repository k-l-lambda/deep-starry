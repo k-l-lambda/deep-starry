{
 "cells": [
  {
   "cell_type": "code",
   "execution_count": null,
   "metadata": {},
   "outputs": [],
   "source": [
    "\n",
    "import cv2\n",
    "import matplotlib.pyplot as plt\n",
    "from ipywidgets import interact_manual\n",
    "\n",
    "from starry.vision.data.distorter import Distorter\n",
    "\n",
    "\n",
    "\n",
    "def show(file):\n",
    "\tdistorter = Distorter()\n",
    "\timage = cv2.imread(file)\n",
    "\n",
    "\tnx, ny = distorter.make_maps(image.shape, 1, 10, 8)\n",
    "\ttarget = distorter.distort(image, nx, ny)\n",
    "\n",
    "\tplt.imshow(target)\n",
    "\tplt.show()\n",
    "\n",
    "\n",
    "interact_manual(show, file='')\n"
   ]
  }
 ],
 "metadata": {
  "interpreter": {
   "hash": "31f2aee4e71d21fbe5cf8b01ff0e069b9275f58929596ceb00d14d90e3e16cd6"
  },
  "kernelspec": {
   "display_name": "Python 3.6.9 64-bit",
   "language": "python",
   "name": "python3"
  },
  "language_info": {
   "codemirror_mode": {
    "name": "ipython",
    "version": 3
   },
   "file_extension": ".py",
   "mimetype": "text/x-python",
   "name": "python",
   "nbconvert_exporter": "python",
   "pygments_lexer": "ipython3",
   "version": "3.6.9"
  },
  "orig_nbformat": 4
 },
 "nbformat": 4,
 "nbformat_minor": 2
}
