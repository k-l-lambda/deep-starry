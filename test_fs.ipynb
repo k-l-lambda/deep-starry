{
 "cells": [
  {
   "cell_type": "code",
   "execution_count": 13,
   "metadata": {},
   "outputs": [
    {
     "name": "stdout",
     "output_type": "stream",
     "text": [
      "[<file 'bmidi_12.布列舞曲.pkl'>, <file 'vmidi_19.波罗涅兹舞曲_video.pkl'>, <file 'vmidi_12.布列舞曲_video.pkl'>, <file 'vmidi_22.波罗涅兹舞曲_video.pkl'>, <file 'bmidi_11.摩塞塔舞曲.pkl'>, <file 'bmidi_05.进行曲.pkl'>, <file 'bmidi_20.加伏特舞曲.pkl'>, <file 'vmidi_01.小步舞曲_video.pkl'>, <file 'bmidi_28.序曲.pkl'>, <file 'vmidi_09.进行曲_video.pkl'>, <file 'bmidi_21.小步舞曲.pkl'>, <file 'vmidi_18.加伏特舞曲_video.pkl'>, <file 'vmidi_10.小步舞曲_video.pkl'>, <file 'bmidi_27.小步舞曲.pkl'>, <file 'vmidi_25.谐谑曲_video.pkl'>, <file 'bmidi_02.小步舞曲.pkl'>, <file 'bmidi_26.萨拉班德舞曲.pkl'>, <file 'bmidi_22.波罗涅兹舞曲.pkl'>, <file 'bmidi_01.小步舞曲.pkl'>, <file 'vmidi_24.小步舞曲_video.pkl'>, <file 'bmidi_25.谐谑曲.pkl'>, <file 'bmidi_08.小步舞曲.pkl'>, <file 'vmidi_26.萨拉班德舞曲_video.pkl'>, <file 'bmidi_16.进行曲.pkl'>, <file 'vmidi_21.小步舞曲_video.pkl'>, <file 'bmidi_17.波罗涅兹舞曲.pkl'>, <file 'vmidi_27.小步舞曲_video.pkl'>, <file 'bmidi_24.小步舞曲.pkl'>, <file 'bmidi_19.波罗涅兹舞曲.pkl'>, <file 'vmidi_02.小步舞曲_video.pkl'>, <file 'vmidi_15.加伏特舞曲_video.pkl'>, <file 'bmidi_03.小步舞曲.pkl'>, <file 'vmidi_20.加伏特舞曲_video.pkl'>, <file 'vmidi_23.加伏特舞曲_video.pkl'>, <file 'vmidi_08.小步舞曲_video.pkl'>, <file 'bmidi_23.加伏特舞曲.pkl'>, <file 'vmidi_17.波罗涅兹舞曲_video.pkl'>, <file 'vmidi_06.小步舞曲_video.pkl'>, <file 'bmidi_09.进行曲.pkl'>, <file 'bmidi_06.小步舞曲.pkl'>, <file 'vmidi_13.摩塞塔舞曲_video.pkl'>, <file 'vmidi_11.摩塞塔舞曲_video.pkl'>, <file 'vmidi_16.进行曲_video.pkl'>, <file 'vmidi_05.进行曲_video.pkl'>, <file 'bmidi_10.小步舞曲.pkl'>, <file 'bmidi_13.摩塞塔舞曲.pkl'>, <file 'vmidi_14.小步舞曲_video.pkl'>, <file 'bmidi_18.加伏特舞曲.pkl'>, <file 'bmidi_07.小步舞曲.pkl'>, <file 'bmidi_14.小步舞曲.pkl'>, <file 'bmidi_04.波罗涅兹舞曲.pkl'>, <file 'bmidi_15.加伏特舞曲.pkl'>, <file 'vmidi_04.波罗涅兹舞曲_video.pkl'>, <file 'vmidi_03.小步舞曲_video.pkl'>, <file 'vmidi_28.序曲_video.pkl'>, <file 'vmidi_07.小步舞曲_video.pkl'>]\n",
      "['__class__', '__delattr__', '__dir__', '__doc__', '__eq__', '__format__', '__ge__', '__getattribute__', '__gt__', '__hash__', '__init__', '__init_subclass__', '__le__', '__lt__', '__module__', '__ne__', '__new__', '__reduce__', '__reduce_ex__', '__repr__', '__setattr__', '__sizeof__', '__slots__', '__str__', '__subclasshook__', '_make_datetime', '_require_namespace', '_to_datetime', 'accessed', 'copy', 'created', 'get', 'gid', 'group', 'has_namespace', 'is_dir', 'is_file', 'is_link', 'is_writeable', 'make_path', 'metadata_changed', 'modified', 'name', 'namespaces', 'permissions', 'raw', 'size', 'stem', 'suffix', 'suffixes', 'target', 'type', 'uid', 'user']\n",
      "<_io.TextIOWrapper name='bmidi_12.布列舞曲.pkl' encoding='utf-8'>\n"
     ]
    }
   ],
   "source": [
    "import os\n",
    "from fs import open_fs\n",
    "import starry.utils.env\n",
    "\n",
    "\n",
    "package = open_fs(f'zip://{os.environ.get(\"DATA_DIR\")}/bach-20220607.zip')\n",
    "#for step in package.walk(filter=['*']):\n",
    "#\tprint(step.files)\n",
    "files = [file for step in package.walk(filter=['*']) for file in step.files]\n",
    "print(files)\n",
    "\n",
    "file0 = files[0]\n",
    "print(dir(file0))\n",
    "\n",
    "f = package.open(files[0].name)\n",
    "print(f)"
   ]
  }
 ],
 "metadata": {
  "interpreter": {
   "hash": "31f2aee4e71d21fbe5cf8b01ff0e069b9275f58929596ceb00d14d90e3e16cd6"
  },
  "kernelspec": {
   "display_name": "Python 3.6.9 64-bit",
   "language": "python",
   "name": "python3"
  },
  "language_info": {
   "codemirror_mode": {
    "name": "ipython",
    "version": 3
   },
   "file_extension": ".py",
   "mimetype": "text/x-python",
   "name": "python",
   "nbconvert_exporter": "python",
   "pygments_lexer": "ipython3",
   "version": "3.6.9"
  },
  "orig_nbformat": 4
 },
 "nbformat": 4,
 "nbformat_minor": 2
}
