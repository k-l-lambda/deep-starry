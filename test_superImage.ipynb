{
 "cells": [
  {
   "cell_type": "code",
   "execution_count": 1,
   "metadata": {},
   "outputs": [
    {
     "name": "stdout",
     "output_type": "stream",
     "text": [
      "((248, 344), ['cat.334.jpg', 'cat.487.jpg'])\n",
      "((248, 248), ['cat.157.jpg', 'cat.168.jpg', 'cat.322.jpg', 'cat.629.jpg', 'cat.874.jpg'])\n",
      "((112, 80), ['cat.146.jpg'])\n"
     ]
    }
   ],
   "source": [
    "# DimensionCluster\n",
    "from starry.vision.data.superImage import DimensionCluster\n",
    "\n",
    "\n",
    "cluster = DimensionCluster(r\"~\\Dataset\\cats_and_dogs_filtered\\train\\cats\\dimensions.csv\", shuffle=True, no_repeat=True)\n",
    "#print(cluster.name_dict)\n",
    "\n",
    "it = iter(cluster)\n",
    "print(next(it))\n",
    "print(next(it))\n",
    "print(next(it))\n"
   ]
  },
  {
   "cell_type": "code",
   "execution_count": 1,
   "metadata": {},
   "outputs": [
    {
     "name": "stdout",
     "output_type": "stream",
     "text": [
      "((248, 248), ['cat.157.jpg', 'cat.168.jpg', 'cat.322.jpg', 'cat.629.jpg', 'cat.874.jpg'])\n",
      "((496, 296), ['cat.324.jpg', 'cat.469.jpg', 'cat.918.jpg'])\n",
      "((208, 424), ['cat.295.jpg'])\n"
     ]
    }
   ],
   "source": [
    "from starry.vision.data.superImage import SuperImage\n",
    "\n",
    "\n",
    "data = SuperImage(r\"~\\Dataset\\cats_and_dogs_filtered\\train\\cats\", dimensions=r\"~\\Dataset\\cats_and_dogs_filtered\\train\\cats\\dimensions.csv\", shuffle=False)\n",
    "\n",
    "it = iter(data)\n",
    "print(next(it))\n",
    "print(next(it))\n",
    "print(next(it))\n"
   ]
  }
 ],
 "metadata": {
  "kernelspec": {
   "display_name": "Python 3.6.8 64-bit",
   "language": "python",
   "name": "python3"
  },
  "language_info": {
   "codemirror_mode": {
    "name": "ipython",
    "version": 3
   },
   "file_extension": ".py",
   "mimetype": "text/x-python",
   "name": "python",
   "nbconvert_exporter": "python",
   "pygments_lexer": "ipython3",
   "version": "3.6.8"
  },
  "orig_nbformat": 4,
  "vscode": {
   "interpreter": {
    "hash": "a7d38e74bfe13cb98d9c208d510fb3d2ada38d33ea651cd79db8b0db1ba5c65d"
   }
  }
 },
 "nbformat": 4,
 "nbformat_minor": 2
}
