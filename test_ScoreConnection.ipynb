{
 "cells": [
  {
   "cell_type": "code",
   "execution_count": null,
   "source": [
    "from score_connection.data import *\n",
    "\n",
    "\n",
    "file = open('./test/test.json', 'rb')\n",
    "data = loadConnectionSet(file)\n",
    "\n",
    "#seqs, matrixH, masks = exampleToTensors(data['connections'][0], 0x100, 0x200)\n",
    "#print(seqs, matrixH, masks)\n",
    "\n",
    "examples = list(map(lambda ex: exampleToTensors(ex, 0x100, 0x200), data['connections']))\n",
    "dataset = batchizeTensorExamples(examples, 4)\n",
    "\n",
    "print('dataset:', dataset[0]['seq_id'].shape, dataset[0]['seq_position'].shape, dataset[0]['mask'].shape, dataset[0]['matrixH'].shape)\n",
    "print('seq_id.0', dataset[0]['seq_id'][0])\n",
    "print('seq_position.0', dataset[0]['seq_position'][0][1])\n"
   ],
   "outputs": [],
   "metadata": {}
  },
  {
   "cell_type": "code",
   "execution_count": null,
   "source": [
    "import torch\n",
    "from transformer.models import get_subsequent_mask, get_pad_mask\n",
    "\n",
    "\n",
    "seq = torch.tensor([[3,2,1], [4,5,6]])\n",
    "mask1 = get_pad_mask(seq, 1)\n",
    "mask2 = get_subsequent_mask(seq)\n",
    "print(mask1)\n",
    "print(mask2)\n",
    "print(mask1 & mask2)\n"
   ],
   "outputs": [],
   "metadata": {}
  }
 ],
 "metadata": {
  "orig_nbformat": 4,
  "language_info": {
   "name": "python",
   "version": "3.6.9",
   "mimetype": "text/x-python",
   "codemirror_mode": {
    "name": "ipython",
    "version": 3
   },
   "pygments_lexer": "ipython3",
   "nbconvert_exporter": "python",
   "file_extension": ".py"
  },
  "kernelspec": {
   "name": "python3",
   "display_name": "Python 3.6.9 64-bit"
  },
  "interpreter": {
   "hash": "31f2aee4e71d21fbe5cf8b01ff0e069b9275f58929596ceb00d14d90e3e16cd6"
  }
 },
 "nbformat": 4,
 "nbformat_minor": 2
}