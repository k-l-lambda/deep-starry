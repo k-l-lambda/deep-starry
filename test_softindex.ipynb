{
 "cells": [
  {
   "cell_type": "code",
   "execution_count": 2,
   "metadata": {},
   "outputs": [
    {
     "data": {
      "text/plain": [
       "tensor([[-3.1410, -2.1544, -2.0609, -1.9985, -1.0000,  0.0000,  0.1244,  1.1244],\n",
       "        [ 0.0000,  0.0000,  1.0000,  2.0000,  3.0000,  4.0000,  5.0000,  6.0000]])"
      ]
     },
     "execution_count": 2,
     "metadata": {},
     "output_type": "execute_result"
    }
   ],
   "source": [
    "\n",
    "import torch\n",
    "\n",
    "from starry.melody.models.modules import SoftIndex\n",
    "\n",
    "\n",
    "si = SoftIndex(scale=32, seq_len=8)\n",
    "\n",
    "x = torch.tensor([[-380, -300, -297, -295, -180, 0, 4, 600], [0, 0, 2000, 3000, 4000, 5000, 6000, 7000]]).float()\n",
    "\n",
    "y = si(x)\n",
    "\n",
    "y\n"
   ]
  }
 ],
 "metadata": {
  "kernelspec": {
   "display_name": "env",
   "language": "python",
   "name": "python3"
  },
  "language_info": {
   "codemirror_mode": {
    "name": "ipython",
    "version": 3
   },
   "file_extension": ".py",
   "mimetype": "text/x-python",
   "name": "python",
   "nbconvert_exporter": "python",
   "pygments_lexer": "ipython3",
   "version": "3.6.9"
  },
  "orig_nbformat": 4,
  "vscode": {
   "interpreter": {
    "hash": "be3796fc9b55cd7f6a5d10711c997676f9730370d5a1c0260123ba12108861c5"
   }
  }
 },
 "nbformat": 4,
 "nbformat_minor": 2
}
