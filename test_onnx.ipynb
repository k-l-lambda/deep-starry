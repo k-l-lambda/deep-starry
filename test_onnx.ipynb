{
 "cells": [
  {
   "cell_type": "code",
   "execution_count": 1,
   "metadata": {},
   "outputs": [],
   "source": [
    "# save a default checkpoint\n",
    "import torch\n",
    "\n",
    "from starry.utils.config import Configuration\n",
    "from starry.utils.model_factory import loadModel\n",
    "\n",
    "\n",
    "#config = Configuration.createOrLoad('configs/testencoder.yaml')\n",
    "config = Configuration.createOrLoad('training/melody/20220601-matchjointer-raw')\n",
    "model = loadModel(config['model'])\n",
    "\n",
    "# initialize parameters\n",
    "for p in model.parameters():\n",
    "\tif p.dim() > 1:\n",
    "\t\ttorch.nn.init.xavier_uniform_(p)\n",
    "\n",
    "torch.save({'model': model.state_dict()}, config.localPath('test.chkpt'))\n"
   ]
  },
  {
   "cell_type": "code",
   "execution_count": 22,
   "metadata": {},
   "outputs": [
    {
     "name": "stdout",
     "output_type": "stream",
     "text": [
      "input: tensor([[[1., 2., 3., 4.]]])\n",
      "out: tensor([[[-1.2304, -0.1907, -0.1379,  1.5591]]])\n"
     ]
    }
   ],
   "source": [
    "# deduce test\n",
    "import torch\n",
    "\n",
    "from starry.utils.config import Configuration\n",
    "from starry.utils.model_factory import loadModel\n",
    "\n",
    "\n",
    "config = Configuration.createOrLoad('training/melody/20220526-testencoder')\n",
    "model = loadModel(config['model'])\n",
    "\n",
    "checkpoint = torch.load(config.localPath(config['best']), map_location='cpu')\n",
    "model.load_state_dict(checkpoint['model'])\n",
    "\n",
    "model.eval()\n",
    "\n",
    "with torch.no_grad():\n",
    "\tinput = torch.tensor([1, 2, 3, 4], dtype=torch.float32).reshape((1, 1, 4))\n",
    "\tprint('input:', input)\n",
    "\toutput = model(input)\n",
    "\tprint('out:', output)\n"
   ]
  },
  {
   "cell_type": "code",
   "execution_count": 4,
   "metadata": {},
   "outputs": [
    {
     "name": "stdout",
     "output_type": "stream",
     "text": [
      "matching: (tensor([[[1.0000, 1.0000],\n",
      "         [1.0000, 1.0000]]]), tensor([[[ 0.7071, -0.7071],\n",
      "         [ 0.7071, -0.7071]]]), tensor([[[ 0.7071,  0.7071],\n",
      "         [-0.7071, -0.7071]]]))\n"
     ]
    }
   ],
   "source": [
    "# MatchJointerRaw test\n",
    "import torch\n",
    "\n",
    "from starry.utils.config import Configuration\n",
    "from starry.utils.model_factory import loadModel\n",
    "\n",
    "\n",
    "config = Configuration.createOrLoad('training/melody/20220601-matchjointer-raw')\n",
    "model = loadModel(config['model'])\n",
    "\n",
    "checkpoint = torch.load(config.localPath(config['best']), map_location='cpu')\n",
    "model.load_state_dict(checkpoint['model'])\n",
    "\n",
    "model.eval()\n",
    "\n",
    "with torch.no_grad():\n",
    "\tc = torch.tensor([[[1, -1], [2, -2]]], dtype=torch.float32)\n",
    "\ts = torch.tensor([[[0, 0], [0, 0]]], dtype=torch.float32)\n",
    "\tmatching = model(c, s)\n",
    "\tprint('matching:', matching)\n"
   ]
  }
 ],
 "metadata": {
  "interpreter": {
   "hash": "31f2aee4e71d21fbe5cf8b01ff0e069b9275f58929596ceb00d14d90e3e16cd6"
  },
  "kernelspec": {
   "display_name": "Python 3.6.9 64-bit",
   "language": "python",
   "name": "python3"
  },
  "language_info": {
   "codemirror_mode": {
    "name": "ipython",
    "version": 3
   },
   "file_extension": ".py",
   "mimetype": "text/x-python",
   "name": "python",
   "nbconvert_exporter": "python",
   "pygments_lexer": "ipython3",
   "version": "3.6.9"
  },
  "orig_nbformat": 4
 },
 "nbformat": 4,
 "nbformat_minor": 2
}
