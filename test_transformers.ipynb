{
 "cells": [
  {
   "cell_type": "code",
   "execution_count": 1,
   "metadata": {},
   "outputs": [
    {
     "name": "stderr",
     "output_type": "stream",
     "text": [
      "/root/miniconda3/envs/lab/lib/python3.9/site-packages/tqdm/auto.py:22: TqdmWarning: IProgress not found. Please update jupyter and ipywidgets. See https://ipywidgets.readthedocs.io/en/stable/user_install.html\n",
      "  from .autonotebook import tqdm as notebook_tqdm\n"
     ]
    }
   ],
   "source": [
    "from typing import OrderedDict\n",
    "import torch\n",
    "\n",
    "from starry.utils.config import Configuration\n",
    "\n",
    "\n",
    "config = Configuration.createOrLoad('/safe/training/text/20221023.b-sentencegen-mj')\n",
    "checkpoint = torch.load(config.localPath(config['best']), map_location='cpu')\n",
    "\n",
    "#checkpoint['model'].keys()\n",
    "\n",
    "states = OrderedDict([(key[8:], checkpoint['model'][key]) for key in checkpoint['model'] if key.startswith('unembed.')])"
   ]
  },
  {
   "cell_type": "code",
   "execution_count": 2,
   "metadata": {},
   "outputs": [
    {
     "data": {
      "text/plain": [
       "<All keys matched successfully>"
      ]
     },
     "execution_count": 2,
     "metadata": {},
     "output_type": "execute_result"
    }
   ],
   "source": [
    "\n",
    "from transformers import AutoModel\n",
    "from starry.text.models.transformers.invWordEmbed import InvWordEmbed, InvWordEmbedConfig\n",
    "\n",
    "\n",
    "iwe_config = InvWordEmbedConfig(49408, 768)\n",
    "model = InvWordEmbed._from_config(iwe_config)\n",
    "model.load_state_dict(states)\n"
   ]
  },
  {
   "cell_type": "code",
   "execution_count": 3,
   "metadata": {},
   "outputs": [
    {
     "name": "stderr",
     "output_type": "stream",
     "text": [
      "/root/miniconda3/envs/lab/lib/python3.9/site-packages/huggingface_hub/utils/_deprecation.py:38: FutureWarning: Deprecated positional argument(s) used in 'create_repo': pass token='stable-diffusion-v1-4-inv-embed' as keyword args. From version 0.12 passing these as positional arguments will result in an error,\n",
      "  warnings.warn(\n",
      "/root/miniconda3/envs/lab/lib/python3.9/site-packages/huggingface_hub/hf_api.py:681: FutureWarning: `create_repo` now takes `token` as an optional positional argument. Be sure to adapt your code!\n",
      "  warnings.warn(\n",
      "Cloning https://huggingface.co/k-l-lambda/stable-diffusion-v1-4-inv-embed into local empty directory.\n",
      "WARNING:huggingface_hub.repository:Cloning https://huggingface.co/k-l-lambda/stable-diffusion-v1-4-inv-embed into local empty directory.\n",
      "Upload file pytorch_model.bin: 100%|█████████▉| 144M/145M [01:16<00:00, 2.00MB/s] remote: Scanning LFS files for validity, may be slow...        \n",
      "remote: LFS file scan complete.        \n",
      "To https://huggingface.co/k-l-lambda/stable-diffusion-v1-4-inv-embed\n",
      "   b3bee5c..5478903  main -> main\n",
      "\n",
      "WARNING:huggingface_hub.repository:remote: Scanning LFS files for validity, may be slow...        \n",
      "remote: LFS file scan complete.        \n",
      "To https://huggingface.co/k-l-lambda/stable-diffusion-v1-4-inv-embed\n",
      "   b3bee5c..5478903  main -> main\n",
      "\n",
      "Upload file pytorch_model.bin: 100%|██████████| 145M/145M [01:19<00:00, 1.92MB/s]\n"
     ]
    },
    {
     "data": {
      "text/plain": [
       "'https://huggingface.co/k-l-lambda/stable-diffusion-v1-4-inv-embed/commit/5478903184c401eee177a64170629f7f2c1a0e8c'"
      ]
     },
     "execution_count": 3,
     "metadata": {},
     "output_type": "execute_result"
    }
   ],
   "source": [
    "# push model to HuggingFace\n",
    "import os\n",
    "\n",
    "\n",
    "HF_PUSH_TOKEN = os.getenv('HF_PUSH_TOKEN')\n",
    "model.push_to_hub('stable-diffusion-v1-4-inv-embed', use_auth_token=HF_PUSH_TOKEN)"
   ]
  }
 ],
 "metadata": {
  "kernelspec": {
   "display_name": "Python 3.9.7 ('lab')",
   "language": "python",
   "name": "python3"
  },
  "language_info": {
   "codemirror_mode": {
    "name": "ipython",
    "version": 3
   },
   "file_extension": ".py",
   "mimetype": "text/x-python",
   "name": "python",
   "nbconvert_exporter": "python",
   "pygments_lexer": "ipython3",
   "version": "3.9.7"
  },
  "orig_nbformat": 4,
  "vscode": {
   "interpreter": {
    "hash": "559ac8c3a936a466693162aba0678bd1dca28c36485208963509806f12acae84"
   }
  }
 },
 "nbformat": 4,
 "nbformat_minor": 2
}
