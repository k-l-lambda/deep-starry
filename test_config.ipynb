{
 "cells": [
  {
   "cell_type": "code",
   "execution_count": null,
   "source": [
    "from starry.utils.config import *\n",
    "\n",
    "\n",
    "config = Configuration.create('./configs/chopin10-3x100.yaml')\n",
    "print('config:', config)\n",
    "\n",
    "print('id:', config.id)\n",
    "print('data.file_name:', config['data.file_name'])\n",
    "\n",
    "config['test.abc'] = 123\n",
    "print('test:', config['test.abc'])\n"
   ],
   "outputs": [],
   "metadata": {}
  }
 ],
 "metadata": {
  "orig_nbformat": 4,
  "language_info": {
   "name": "python",
   "version": "3.6.9",
   "mimetype": "text/x-python",
   "codemirror_mode": {
    "name": "ipython",
    "version": 3
   },
   "pygments_lexer": "ipython3",
   "nbconvert_exporter": "python",
   "file_extension": ".py"
  },
  "kernelspec": {
   "name": "python3",
   "display_name": "Python 3.6.9 64-bit"
  },
  "interpreter": {
   "hash": "31f2aee4e71d21fbe5cf8b01ff0e069b9275f58929596ceb00d14d90e3e16cd6"
  }
 },
 "nbformat": 4,
 "nbformat_minor": 2
}