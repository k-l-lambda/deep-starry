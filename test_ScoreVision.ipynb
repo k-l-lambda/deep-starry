{
 "cells": [
  {
   "cell_type": "code",
   "execution_count": null,
   "metadata": {},
   "outputs": [],
   "source": [
    "# model create\n",
    "from starry.utils.config import Configuration\n",
    "from starry.vision.models.scoreWidgets import *\n",
    "\n",
    "\n",
    "config = Configuration.create('configs/scorewidgets-test.yaml')\n",
    "model = ScoreWidgets(**config['model.args'])\n",
    "print('model:', model)\n",
    "print('buffers:', len(list(model.buffers())))\n"
   ]
  },
  {
   "cell_type": "code",
   "execution_count": null,
   "metadata": {},
   "outputs": [],
   "source": [
    "# model factory\n",
    "from starry.utils.config import Configuration\n",
    "from starry.utils import model_factory\n",
    "\n",
    "\n",
    "config = Configuration.create('configs/scorewidgets-test.yaml')\n",
    "model1 = model_factory.loadModel(config['model'])\n",
    "#print('model1:', model1)\n",
    "\n",
    "config = Configuration.create('configs/scoregauge-test.yaml')\n",
    "model2 = model_factory.loadModel(config['model'])\n",
    "#print('model2:', model2)\n",
    "\n",
    "config = Configuration.create('configs/scorelayout-residue-test.yaml')\n",
    "model3 = model_factory.loadModel(config['model'])\n",
    "print('model3:', model3)\n"
   ]
  }
 ],
 "metadata": {
  "interpreter": {
   "hash": "31f2aee4e71d21fbe5cf8b01ff0e069b9275f58929596ceb00d14d90e3e16cd6"
  },
  "kernelspec": {
   "display_name": "Python 3.6.9 64-bit",
   "name": "python3"
  },
  "language_info": {
   "codemirror_mode": {
    "name": "ipython",
    "version": 3
   },
   "file_extension": ".py",
   "mimetype": "text/x-python",
   "name": "python",
   "nbconvert_exporter": "python",
   "pygments_lexer": "ipython3",
   "version": "3.6.9"
  },
  "orig_nbformat": 4
 },
 "nbformat": 4,
 "nbformat_minor": 2
}
