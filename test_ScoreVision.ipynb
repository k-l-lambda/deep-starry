{
 "cells": [
  {
   "cell_type": "code",
   "execution_count": null,
   "source": [
    "# model create\n",
    "from starry.utils.config import Configuration\n",
    "from starry.vision.score_widgets import *\n",
    "\n",
    "\n",
    "config = Configuration.create('configs/scorewidgets-test.yaml')\n",
    "model = ScoreWidgets(**config['model.args'])\n",
    "print('model:', model)"
   ],
   "outputs": [],
   "metadata": {}
  },
  {
   "cell_type": "code",
   "execution_count": null,
   "source": [
    "# model factory\n",
    "from starry.utils.config import Configuration\n",
    "from starry.utils import model_factory\n",
    "\n",
    "\n",
    "config = Configuration.create('configs/scorewidgets-test.yaml')\n",
    "model = model_factory.loadModel(config['model'])\n",
    "print('model:', model)"
   ],
   "outputs": [],
   "metadata": {}
  }
 ],
 "metadata": {
  "orig_nbformat": 4,
  "language_info": {
   "name": "python",
   "version": "3.6.9",
   "mimetype": "text/x-python",
   "codemirror_mode": {
    "name": "ipython",
    "version": 3
   },
   "pygments_lexer": "ipython3",
   "nbconvert_exporter": "python",
   "file_extension": ".py"
  },
  "kernelspec": {
   "name": "python3",
   "display_name": "Python 3.6.9 64-bit"
  },
  "interpreter": {
   "hash": "31f2aee4e71d21fbe5cf8b01ff0e069b9275f58929596ceb00d14d90e3e16cd6"
  }
 },
 "nbformat": 4,
 "nbformat_minor": 2
}