{
 "cells": [
  {
   "cell_type": "code",
   "execution_count": 31,
   "metadata": {},
   "outputs": [
    {
     "name": "stdout",
     "output_type": "stream",
     "text": [
      "tensor([[49406,   320, 19646,   268,  6498,  4796, 18526,  5727,  1426,  1348,\n",
      "          2041,   638, 24155,   269, 49407, 49407, 49407, 49407, 49407, 49407,\n",
      "         49407, 49407, 49407, 49407, 49407, 49407, 49407, 49407, 49407, 49407,\n",
      "         49407, 49407, 49407, 49407, 49407, 49407, 49407, 49407, 49407, 49407,\n",
      "         49407, 49407, 49407, 49407, 49407, 49407, 49407, 49407, 49407, 49407,\n",
      "         49407, 49407, 49407, 49407, 49407, 49407, 49407, 49407, 49407, 49407,\n",
      "         49407, 49407, 49407, 49407, 49407, 49407, 49407, 49407, 49407, 49407,\n",
      "         49407, 49407, 49407, 49407, 49407, 49407, 49407]]) tensor([[1, 1, 1, 1, 1, 1, 1, 1, 1, 1, 1, 1, 1, 1, 1, 0, 0, 0, 0, 0, 0, 0, 0, 0,\n",
      "         0, 0, 0, 0, 0, 0, 0, 0, 0, 0, 0, 0, 0, 0, 0, 0, 0, 0, 0, 0, 0, 0, 0, 0,\n",
      "         0, 0, 0, 0, 0, 0, 0, 0, 0, 0, 0, 0, 0, 0, 0, 0, 0, 0, 0, 0, 0, 0, 0, 0,\n",
      "         0, 0, 0, 0, 0]])\n"
     ]
    },
    {
     "data": {
      "text/plain": [
       "(torch.Size([1, 77, 768]), torch.Size([1, 768]))"
      ]
     },
     "execution_count": 31,
     "metadata": {},
     "output_type": "execute_result"
    }
   ],
   "source": [
    "from transformers import CLIPTextModel, CLIPTokenizer, CLIPFeatureExtractor\n",
    "\n",
    "\n",
    "PRETRAINED_PATH = 'pretrained/models--CompVis--stable-diffusion-v1-4'\n",
    "\n",
    "tokenizer = CLIPTokenizer.from_pretrained(PRETRAINED_PATH, subfolder='tokenizer')\n",
    "text_encoder = CLIPTextModel.from_pretrained(PRETRAINED_PATH, subfolder='text_encoder')\n",
    "\n",
    "tokens = tokenizer('A spine-chillingly terrifying landscape never before seen by mankind.',\n",
    "\t\t\tpadding=\"max_length\",\n",
    "\t\t\tmax_length=tokenizer.model_max_length,\n",
    "\t\t\treturn_tensors=\"pt\",\n",
    "\t\t)\n",
    "print(tokens.input_ids, tokens.attention_mask)\n",
    "\n",
    "embeddings = text_encoder(tokens.input_ids)\n",
    "embeddings.last_hidden_state.shape, embeddings.pooler_output.shape\n"
   ]
  },
  {
   "cell_type": "code",
   "execution_count": 36,
   "metadata": {},
   "outputs": [
    {
     "data": {
      "text/plain": [
       "{'input_ids': [[49406, 49406, 49407], [49406, 49407, 49407], [49406, 320, 49407]], 'attention_mask': [[1, 1, 1], [1, 1, 1], [1, 1, 1]]}"
      ]
     },
     "execution_count": 36,
     "metadata": {},
     "output_type": "execute_result"
    }
   ],
   "source": [
    "tokenizer([tokenizer.bos_token, tokenizer.eos_token, 'a'])"
   ]
  },
  {
   "cell_type": "code",
   "execution_count": 18,
   "metadata": {},
   "outputs": [],
   "source": [
    "import torch\n",
    "\n",
    "\n",
    "VOCAB_SIZE = 49408\n",
    "\n",
    "for p in text_encoder.text_model.embeddings.parameters():\n",
    "\tp.requires_grad = False\n",
    "\n",
    "unembed = torch.nn.Linear(768, VOCAB_SIZE)\n",
    "\n",
    "mask = None #1 - torch.triu(torch.ones(1, tokenizer.model_max_length, tokenizer.model_max_length))\n",
    "embeddings = text_encoder(tokens.input_ids, attention_mask=mask)\n",
    "\n",
    "output_ids = unembed(embeddings.last_hidden_state)\n",
    "o2 = output_ids.permute(0, 2, 1)\n",
    "\n",
    "loss = torch.nn.functional.cross_entropy(o2, tokens.input_ids)\n",
    "loss.backward()"
   ]
  },
  {
   "cell_type": "code",
   "execution_count": 16,
   "metadata": {},
   "outputs": [
    {
     "data": {
      "text/plain": [
       "tensor([[[0., 0., 0., 0., 0.],\n",
       "         [1., 0., 0., 0., 0.],\n",
       "         [1., 1., 0., 0., 0.],\n",
       "         [1., 1., 1., 0., 0.],\n",
       "         [1., 1., 1., 1., 0.]]])"
      ]
     },
     "execution_count": 16,
     "metadata": {},
     "output_type": "execute_result"
    }
   ],
   "source": [
    "m = 1 - torch.triu(torch.ones(1, 5, 5))\n",
    "m"
   ]
  }
 ],
 "metadata": {
  "kernelspec": {
   "display_name": "Python 3.9.7 ('lab')",
   "language": "python",
   "name": "python3"
  },
  "language_info": {
   "codemirror_mode": {
    "name": "ipython",
    "version": 3
   },
   "file_extension": ".py",
   "mimetype": "text/x-python",
   "name": "python",
   "nbconvert_exporter": "python",
   "pygments_lexer": "ipython3",
   "version": "3.9.7"
  },
  "orig_nbformat": 4,
  "vscode": {
   "interpreter": {
    "hash": "559ac8c3a936a466693162aba0678bd1dca28c36485208963509806f12acae84"
   }
  }
 },
 "nbformat": 4,
 "nbformat_minor": 2
}
