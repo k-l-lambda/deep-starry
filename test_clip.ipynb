{
 "cells": [
  {
   "cell_type": "code",
   "execution_count": 7,
   "metadata": {},
   "outputs": [
    {
     "data": {
      "text/plain": [
       "(torch.Size([1, 77, 768]), torch.Size([1, 768]))"
      ]
     },
     "execution_count": 7,
     "metadata": {},
     "output_type": "execute_result"
    }
   ],
   "source": [
    "from transformers import CLIPTextModel, CLIPTokenizer, CLIPFeatureExtractor\n",
    "\n",
    "\n",
    "PRETRAINED_PATH = 'pretrained/models--CompVis--stable-diffusion-v1-4'\n",
    "\n",
    "tokenizer = CLIPTokenizer.from_pretrained(PRETRAINED_PATH, subfolder='tokenizer')\n",
    "text_encoder = CLIPTextModel.from_pretrained(PRETRAINED_PATH, subfolder='text_encoder')\n",
    "\n",
    "tokens = tokenizer('A spine-chillingly terrifying landscape never before seen by mankind.',\n",
    "\t\t\tpadding=\"max_length\",\n",
    "\t\t\tmax_length=tokenizer.model_max_length,\n",
    "\t\t\treturn_tensors=\"pt\",\n",
    "\t\t)\n",
    "\n",
    "embeddings = text_encoder(tokens.input_ids)\n",
    "embeddings.last_hidden_state.shape, embeddings.pooler_output.shape\n"
   ]
  }
 ],
 "metadata": {
  "kernelspec": {
   "display_name": "Python 3.9.7 ('lab')",
   "language": "python",
   "name": "python3"
  },
  "language_info": {
   "codemirror_mode": {
    "name": "ipython",
    "version": 3
   },
   "file_extension": ".py",
   "mimetype": "text/x-python",
   "name": "python",
   "nbconvert_exporter": "python",
   "pygments_lexer": "ipython3",
   "version": "3.9.7"
  },
  "orig_nbformat": 4,
  "vscode": {
   "interpreter": {
    "hash": "559ac8c3a936a466693162aba0678bd1dca28c36485208963509806f12acae84"
   }
  }
 },
 "nbformat": 4,
 "nbformat_minor": 2
}
