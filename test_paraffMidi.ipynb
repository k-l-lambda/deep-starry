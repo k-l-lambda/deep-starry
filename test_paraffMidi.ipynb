{
 "cells": [
  {
   "cell_type": "code",
   "execution_count": 1,
   "metadata": {},
   "outputs": [
    {
     "name": "stdout",
     "output_type": "stream",
     "text": [
      "reading index\n",
      "opening measurewise\n",
      "groups: 68\n"
     ]
    },
    {
     "name": "stderr",
     "output_type": "stream",
     "text": [
      "Loading measurewise: 100%|██████████| 140/140 [00:01<00:00, 127.08it/s]\n"
     ]
    }
   ],
   "source": [
    "# dataset\n",
    "import os\n",
    "import torch\n",
    "\n",
    "from starry.utils.config import Configuration\n",
    "from starry.utils.dataset_factory import loadDataset\n",
    "\n",
    "\n",
    "torch.set_printoptions(profile=\"full\")\n",
    "\n",
    "DATA_DIR = os.getenv('DATA_DIR')\n",
    "\n",
    "config = Configuration.create('configs/score-midi-data.yaml', volatile=True)\n",
    "data, = loadDataset(config, data_dir=DATA_DIR, splits='*0/100')\n",
    "\n",
    "#it = iter(data)\n",
    "#next(it)\n"
   ]
  },
  {
   "cell_type": "code",
   "execution_count": 2,
   "metadata": {},
   "outputs": [
    {
     "data": {
      "text/plain": [
       "{'name': '1002-11596-p0.[0-46]',\n",
       " 'group': '1002-11596-p0.',\n",
       " 'descriptors': [6, 4, 5],\n",
       " 'phaseTypes': [1,\n",
       "  3,\n",
       "  3,\n",
       "  3,\n",
       "  3,\n",
       "  3,\n",
       "  3,\n",
       "  3,\n",
       "  3,\n",
       "  3,\n",
       "  3,\n",
       "  3,\n",
       "  3,\n",
       "  3,\n",
       "  3,\n",
       "  3,\n",
       "  3,\n",
       "  3,\n",
       "  3,\n",
       "  3,\n",
       "  3,\n",
       "  3,\n",
       "  3,\n",
       "  3,\n",
       "  3,\n",
       "  3,\n",
       "  3,\n",
       "  3,\n",
       "  3,\n",
       "  3,\n",
       "  3,\n",
       "  3,\n",
       "  3,\n",
       "  3,\n",
       "  3,\n",
       "  3,\n",
       "  3,\n",
       "  3,\n",
       "  3,\n",
       "  3,\n",
       "  3,\n",
       "  3,\n",
       "  3,\n",
       "  3,\n",
       "  3,\n",
       "  3,\n",
       "  3,\n",
       "  3],\n",
       " 'phaseNumbers': [[0, 69],\n",
       "  [1, 68],\n",
       "  [2, 67],\n",
       "  [3, 66],\n",
       "  [4, 65],\n",
       "  [5, 64],\n",
       "  [6, 63],\n",
       "  [7, 62],\n",
       "  [8, 61],\n",
       "  [9, 60],\n",
       "  [10, 59],\n",
       "  [11, 58],\n",
       "  [12, 57],\n",
       "  [13, 56],\n",
       "  [14, 55],\n",
       "  [15, 54],\n",
       "  [16, 53],\n",
       "  [17, 52],\n",
       "  [18, 51],\n",
       "  [19, 50],\n",
       "  [20, 49],\n",
       "  [21, 48],\n",
       "  [22, 47],\n",
       "  [23, 46],\n",
       "  [24, 45],\n",
       "  [25, 44],\n",
       "  [26, 43],\n",
       "  [27, 42],\n",
       "  [28, 41],\n",
       "  [29, 40],\n",
       "  [30, 39],\n",
       "  [31, 38],\n",
       "  [32, 37],\n",
       "  [33, 36],\n",
       "  [34, 35],\n",
       "  [35, 34],\n",
       "  [36, 33],\n",
       "  [37, 32],\n",
       "  [38, 31],\n",
       "  [39, 30],\n",
       "  [40, 29],\n",
       "  [41, 28],\n",
       "  [42, 27],\n",
       "  [43, 26],\n",
       "  [44, 25],\n",
       "  [45, 24],\n",
       "  [46, 23],\n",
       "  [47, 22]],\n",
       " 'sentenceRange': [0, 47],\n",
       " 'midi': <starry.melody.data.measurewise.MeasurewiseScore at 0x7fdd82029a50>}"
      ]
     },
     "execution_count": 2,
     "metadata": {},
     "output_type": "execute_result"
    }
   ],
   "source": [
    "data.dataset.paragraphs[0]"
   ]
  },
  {
   "cell_type": "code",
   "execution_count": 4,
   "metadata": {},
   "outputs": [
    {
     "data": {
      "text/plain": [
       "[{'index': 0, 'tick': 0, 'duration': 1440},\n",
       " {'index': 1, 'tick': 1440, 'duration': 1440},\n",
       " {'index': 2, 'tick': 2880, 'duration': 1440},\n",
       " {'index': 3, 'tick': 4320, 'duration': 1440},\n",
       " {'index': 4, 'tick': 5760, 'duration': 1440},\n",
       " {'index': 5, 'tick': 7200, 'duration': 1440},\n",
       " {'index': 6, 'tick': 8640, 'duration': 1440},\n",
       " {'index': 7, 'tick': 10080, 'duration': 1440},\n",
       " {'index': 8, 'tick': 11520, 'duration': 1440},\n",
       " {'index': 9, 'tick': 12960, 'duration': 1440},\n",
       " {'index': 10, 'tick': 14400, 'duration': 1440},\n",
       " {'index': 11, 'tick': 15840, 'duration': 1440},\n",
       " {'index': 12, 'tick': 17280, 'duration': 1440},\n",
       " {'index': 13, 'tick': 18720, 'duration': 1440},\n",
       " {'index': 14, 'tick': 20160, 'duration': 1440},\n",
       " {'index': 15, 'tick': 21600, 'duration': 1440},\n",
       " {'index': 16, 'tick': 23040, 'duration': 1440},\n",
       " {'index': 17, 'tick': 24480, 'duration': 1440},\n",
       " {'index': 18, 'tick': 25920, 'duration': 1440},\n",
       " {'index': 19, 'tick': 27360, 'duration': 1440},\n",
       " {'index': 20, 'tick': 28800, 'duration': 1440},\n",
       " {'index': 21, 'tick': 30240, 'duration': 1440},\n",
       " {'index': 22, 'tick': 31680, 'duration': 1440},\n",
       " {'index': 23, 'tick': 33120, 'duration': 1440},\n",
       " {'index': 24, 'tick': 34560, 'duration': 1440},\n",
       " {'index': 25, 'tick': 36000, 'duration': 1440},\n",
       " {'index': 26, 'tick': 37440, 'duration': 1440},\n",
       " {'index': 27, 'tick': 38880, 'duration': 1440},\n",
       " {'index': 28, 'tick': 40320, 'duration': 1440},\n",
       " {'index': 29, 'tick': 41760, 'duration': 1440},\n",
       " {'index': 30, 'tick': 43200, 'duration': 1440},\n",
       " {'index': 31, 'tick': 44640, 'duration': 1440},\n",
       " {'index': 32, 'tick': 46080, 'duration': 1440},\n",
       " {'index': 33, 'tick': 47520, 'duration': 1440},\n",
       " {'index': 34, 'tick': 48960, 'duration': 1440},\n",
       " {'index': 35, 'tick': 50400, 'duration': 1440},\n",
       " {'index': 36, 'tick': 51840, 'duration': 1440},\n",
       " {'index': 37, 'tick': 53280, 'duration': 1440},\n",
       " {'index': 38, 'tick': 54720, 'duration': 1440},\n",
       " {'index': 39, 'tick': 56160, 'duration': 1440},\n",
       " {'index': 40, 'tick': 57600, 'duration': 1440},\n",
       " {'index': 41, 'tick': 59040, 'duration': 1440},\n",
       " {'index': 42, 'tick': 60480, 'duration': 1440},\n",
       " {'index': 43, 'tick': 61920, 'duration': 1440},\n",
       " {'index': 44, 'tick': 63360, 'duration': 1440},\n",
       " {'index': 45, 'tick': 64800, 'duration': 1200},\n",
       " {'index': 46, 'tick': 66000, 'duration': 1440}]"
      ]
     },
     "execution_count": 4,
     "metadata": {},
     "output_type": "execute_result"
    }
   ],
   "source": [
    "data.dataset.paragraphs[0]['midi'].measures"
   ]
  }
 ],
 "metadata": {
  "kernelspec": {
   "display_name": "env",
   "language": "python",
   "name": "python3"
  },
  "language_info": {
   "codemirror_mode": {
    "name": "ipython",
    "version": 3
   },
   "file_extension": ".py",
   "mimetype": "text/x-python",
   "name": "python",
   "nbconvert_exporter": "python",
   "pygments_lexer": "ipython3",
   "version": "3.10.12"
  }
 },
 "nbformat": 4,
 "nbformat_minor": 2
}
