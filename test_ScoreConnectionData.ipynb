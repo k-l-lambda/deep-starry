{
 "cells": [
  {
   "cell_type": "code",
   "execution_count": null,
   "source": [
    "from score_connection.data import *\n",
    "\n",
    "\n",
    "file = open('./test/test.json', 'rb')\n",
    "data = loadConnectionSet(file)\n"
   ],
   "outputs": [],
   "metadata": {}
  }
 ],
 "metadata": {
  "orig_nbformat": 4,
  "language_info": {
   "name": "python"
  }
 },
 "nbformat": 4,
 "nbformat_minor": 2
}