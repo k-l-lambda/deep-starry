{
 "cells": [
  {
   "cell_type": "code",
   "execution_count": 1,
   "metadata": {},
   "outputs": [
    {
     "name": "stdout",
     "output_type": "stream",
     "text": [
      "type:\n",
      " torch.Size([19])\n",
      "staff:\n",
      " torch.Size([19])\n",
      "feature:\n",
      " torch.Size([19, 15])\n",
      "x:\n",
      " torch.Size([19])\n",
      "y1:\n",
      " torch.Size([19])\n",
      "y2:\n",
      " torch.Size([19])\n",
      "matrixH:\n",
      " torch.Size([324])\n",
      "tickDiff:\n",
      " torch.Size([19, 19])\n",
      "maskT:\n",
      " torch.Size([19, 19])\n",
      "tick:\n",
      " torch.Size([19])\n",
      "division:\n",
      " torch.Size([19])\n",
      "dots:\n",
      " torch.Size([19])\n",
      "beam:\n",
      " torch.Size([19])\n",
      "stemDirection:\n",
      " torch.Size([19])\n",
      "grace:\n",
      " torch.Size([19])\n",
      "timeWarped:\n",
      " torch.Size([19])\n",
      "fullMeasure:\n",
      " torch.Size([19])\n",
      "fake:\n",
      " torch.Size([19])\n"
     ]
    }
   ],
   "source": [
    "# dataset\n",
    "import os\n",
    "from starry.utils.config import Configuration\n",
    "from starry.utils.dataset_factory import loadDataset\n",
    "\n",
    "\n",
    "DATA_DIR = os.environ.get('DATA_DIR')\n",
    "\n",
    "config = Configuration.create('configs/evtopo-test.yaml')\n",
    "train, val = loadDataset(config, data_dir=DATA_DIR, device='cpu')\n",
    "\n",
    "it = iter(val)\n",
    "tensors = next(it)\n",
    "\n",
    "for k, v in tensors.items():\n",
    "\tprint(f'{k}:\\n', v[0].shape)\n",
    "\n"
   ]
  },
  {
   "cell_type": "code",
   "execution_count": 11,
   "metadata": {},
   "outputs": [
    {
     "name": "stdout",
     "output_type": "stream",
     "text": [
      "tickDiff: \n",
      "0.0,\t0.0,\t0.0,\t-1920.0\n",
      "0.0,\t0.0,\t0.0,\t-1920.0\n",
      "0.0,\t0.0,\t0.0,\t-1920.0\n",
      "1920.0,\t1920.0,\t1920.0,\t0.0\n",
      "maskT: \n",
      "False,\tFalse,\tFalse,\tFalse\n",
      "True,\tFalse,\tFalse,\tFalse\n",
      "True,\tTrue,\tFalse,\tFalse\n",
      "False,\tTrue,\tTrue,\tFalse\n"
     ]
    }
   ],
   "source": [
    "# tickDiff & maskT\n",
    "tensors = next(it)\n",
    "\n",
    "m2s = lambda m: '\\n' + '\\n'.join([',\\t'.join(map(str, line)) for line in m.tolist()])\n",
    "\n",
    "print('tickDiff:', m2s(tensors['tickDiff'][0]))\n",
    "print('maskT:', m2s(tensors['maskT'][0]))\n"
   ]
  },
  {
   "cell_type": "code",
   "execution_count": 3,
   "metadata": {},
   "outputs": [
    {
     "name": "stdout",
     "output_type": "stream",
     "text": [
      "types: torch.Size([4, 23])\n",
      "rec: {'tick': tensor(-0.4209), 'division': tensor([0.1846, 0.1070, 0.1341, 0.1970, 0.0666, 0.1180, 0.1928]), 'dots': tensor([0.3660, 0.4169, 0.2171]), 'beam': tensor([0.3370, 0.3831, 0.0721, 0.2078]), 'stemDirection': tensor([0.5967, 0.1620, 0.2413]), 'grace': tensor(0.3963), 'timeWarped': tensor(0.5573), 'fullMeasure': tensor(0.6732), 'fake': tensor(0.4320)}\n",
      "j: 4 torch.Size([484])\n"
     ]
    }
   ],
   "source": [
    "# RectifySieveJointer\n",
    "import torch\n",
    "from starry.topology.models.rectifyJointer import RectifySieveJointer\n",
    "\n",
    "\n",
    "model = RectifySieveJointer(1, 1)\n",
    "\n",
    "with torch.no_grad():\n",
    "\trec, j = model(tensors)\n",
    "\n",
    "assert tensors['matrixH'][0].shape == j[0].shape\n",
    "\n",
    "print('types:', tensors['type'].shape)\n",
    "print('rec:', {k: v[0, 0] for k, v in rec.items()})\n",
    "print('j:', len(j), j[0].shape)\n"
   ]
  },
  {
   "cell_type": "code",
   "execution_count": 4,
   "metadata": {},
   "outputs": [
    {
     "name": "stdout",
     "output_type": "stream",
     "text": [
      "loss: tensor(21.1035)\n",
      "metrics: {'acc_topo': '0.0 (*1)', 'loss_topo': '1.1692346334457397 (*1)', 'error_tick': '987.3809814453125 (*92)', 'error_rel_tick': '209.44789123535156 (*168)', 'error_duration': '1918.701904296875 (*1)', 'acc_division': '0.33695653080940247 (*92)', 'acc_dots': '0.06521739065647125 (*92)', 'acc_beam': '0.28125 (*64)', 'acc_stemDirection': '0.078125 (*64)', 'acc_grace': '0.171875 (*64)', 'acc_timeWarped': '0.8913043737411499 (*92)', 'acc_fullMeasure': '0.8999999761581421 (*20)', 'acc_fake': '0.9347826242446899 (*92)'}\n"
     ]
    }
   ],
   "source": [
    "# RectifySieveJointerLoss\n",
    "import torch\n",
    "from starry.topology.models.rectifyJointer import RectifySieveJointerLoss\n",
    "\n",
    "\n",
    "model = RectifySieveJointerLoss(n_trunk_layers=1, n_rectifier_layers=1)\n",
    "\n",
    "with torch.no_grad():\n",
    "\tloss, metrics = model(tensors)\n",
    "\n",
    "print('loss:', loss)\n",
    "print('metrics:', {k: str(v) for k, v in metrics.items()})\n"
   ]
  },
  {
   "cell_type": "code",
   "execution_count": 5,
   "metadata": {},
   "outputs": [
    {
     "name": "stdout",
     "output_type": "stream",
     "text": [
      "loss: tensor(28.6344)\n",
      "metrics: {'acc_topo': '0.0 (*1)', 'loss_topo': '1.928647518157959 (*1)', 'error_tick': '1066.08203125 (*64)', 'error_rel_tick': '467.9246826171875 (*92)', 'error_duration': '1918.568603515625 (*1)', 'acc_division': '0.234375 (*64)', 'acc_dots': '0.0 (*64)', 'acc_beam': '0.23076923191547394 (*52)', 'acc_stemDirection': '0.11538461595773697 (*52)', 'acc_grace': '0.11538461595773697 (*52)', 'acc_timeWarped': '0.90625 (*64)', 'acc_fullMeasure': '1.0 (*4)', 'acc_fake': '0.984375 (*64)'}\n"
     ]
    }
   ],
   "source": [
    "tensors = next(it)\n",
    "\n",
    "with torch.no_grad():\n",
    "\tloss, metrics = model(tensors)\n",
    "\n",
    "print('loss:', loss)\n",
    "print('metrics:', {k: str(v) for k, v in metrics.items()})\n"
   ]
  },
  {
   "cell_type": "code",
   "execution_count": 1,
   "metadata": {},
   "outputs": [
    {
     "name": "stdout",
     "output_type": "stream",
     "text": [
      "loss: tensor(25.9126, grad_fn=<AddBackward0>)\n",
      "metric: {'acc_topo': 0.0, 'loss_topo': 1.5108212232589722, 'error_tick': 1079.7464599609375, 'error_rel_tick': 279.3047790527344, 'error_duration': 1919.5736083984375, 'acc_division': 0.19736842811107635, 'acc_dots': 0.3552631437778473, 'acc_beam': 0.3166666626930237, 'acc_stemDirection': 0.4000000059604645, 'acc_grace': 0.4833333194255829, 'acc_timeWarped': 0.07894736528396606, 'acc_fullMeasure': 0.0, 'acc_fake': 0.06578947603702545}\n"
     ]
    }
   ],
   "source": [
    "# RectifySieveJointer2\n",
    "import os\n",
    "import torch\n",
    "\n",
    "from starry.utils.config import Configuration\n",
    "from starry.utils.dataset_factory import loadDataset\n",
    "from starry.utils.model_factory import loadModel\n",
    "\n",
    "\n",
    "DATA_DIR = os.environ.get('DATA_DIR')\n",
    "\n",
    "config = Configuration.create('configs/evtopo-test2.yaml', volatile=True)\n",
    "train, val = loadDataset(config, data_dir=DATA_DIR, device='cpu')\n",
    "model = loadModel(config['model'], postfix='Loss')\n",
    "\n",
    "it = iter(val)\n",
    "\n",
    "batch = next(it)\n",
    "loss, metric = model(batch)\n",
    "\n",
    "print('loss:', loss)\n",
    "print('metric:', {key: metric[key].value for key in metric})\n"
   ]
  }
 ],
 "metadata": {
  "interpreter": {
   "hash": "31f2aee4e71d21fbe5cf8b01ff0e069b9275f58929596ceb00d14d90e3e16cd6"
  },
  "kernelspec": {
   "display_name": "Python 3.6.9 64-bit",
   "language": "python",
   "name": "python3"
  },
  "language_info": {
   "codemirror_mode": {
    "name": "ipython",
    "version": 3
   },
   "file_extension": ".py",
   "mimetype": "text/x-python",
   "name": "python",
   "nbconvert_exporter": "python",
   "pygments_lexer": "ipython3",
   "version": "3.6.9"
  },
  "orig_nbformat": 4
 },
 "nbformat": 4,
 "nbformat_minor": 2
}
