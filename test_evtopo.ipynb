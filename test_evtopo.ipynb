{
 "cells": [
  {
   "cell_type": "code",
   "execution_count": 1,
   "metadata": {},
   "outputs": [
    {
     "name": "stdout",
     "output_type": "stream",
     "text": [
      "type:\n",
      " torch.Size([19])\n",
      "staff:\n",
      " torch.Size([19])\n",
      "feature:\n",
      " torch.Size([19, 15])\n",
      "x:\n",
      " torch.Size([19])\n",
      "y1:\n",
      " torch.Size([19])\n",
      "y2:\n",
      " torch.Size([19])\n",
      "matrixH:\n",
      " torch.Size([324])\n",
      "tick:\n",
      " torch.Size([19])\n",
      "division:\n",
      " torch.Size([19])\n",
      "dots:\n",
      " torch.Size([19])\n",
      "beam:\n",
      " torch.Size([19])\n",
      "stemDirection:\n",
      " torch.Size([19])\n",
      "grace:\n",
      " torch.Size([19])\n",
      "timeWarped:\n",
      " torch.Size([19])\n",
      "fullMeasure:\n",
      " torch.Size([19])\n",
      "fake:\n",
      " torch.Size([19])\n"
     ]
    }
   ],
   "source": [
    "# dataset\n",
    "import os\n",
    "from starry.utils.config import Configuration\n",
    "from starry.utils.dataset_factory import loadDataset\n",
    "\n",
    "\n",
    "DATA_DIR = os.environ.get('DATA_DIR')\n",
    "\n",
    "config = Configuration.create('configs/evtopo-test.yaml')\n",
    "train, val = loadDataset(config, data_dir=DATA_DIR, device='cpu')\n",
    "\n",
    "it = iter(val)\n",
    "tensors = next(it)\n",
    "\n",
    "for k, v in tensors.items():\n",
    "\tprint(f'{k}:\\n', v[0].shape)\n"
   ]
  },
  {
   "cell_type": "code",
   "execution_count": 2,
   "metadata": {},
   "outputs": [
    {
     "name": "stdout",
     "output_type": "stream",
     "text": [
      "types: torch.Size([64, 19])\n",
      "rec: {'tick': tensor(0.7731), 'division': tensor([0.3088, 0.2697, 0.0939, 0.1620, 0.0754, 0.0462, 0.0438]), 'dots': tensor([0.2978, 0.5361, 0.1661]), 'beam': tensor([0.1714, 0.2564, 0.1247, 0.4474]), 'stemDirection': tensor([0.2084, 0.3240, 0.4676]), 'grace': tensor(0.4681), 'timeWarped': tensor(0.4583), 'fullMeasure': tensor(0.7600), 'fake': tensor(0.5281)}\n",
      "j: 64 torch.Size([324])\n"
     ]
    }
   ],
   "source": [
    "# RectifySieveJointer\n",
    "import torch\n",
    "from starry.topology.models.rectifyJointer import RectifySieveJointer\n",
    "\n",
    "\n",
    "model = RectifySieveJointer(1, 1)\n",
    "\n",
    "with torch.no_grad():\n",
    "\trec, j = model(tensors)\n",
    "\n",
    "assert tensors['matrixH'][0].shape == j[0].shape\n",
    "\n",
    "print('types:', tensors['type'].shape)\n",
    "print('rec:', {k: v[0, 0] for k, v in rec.items()})\n",
    "print('j:', len(j), j[0].shape)\n"
   ]
  },
  {
   "cell_type": "code",
   "execution_count": 6,
   "metadata": {},
   "outputs": [
    {
     "name": "stdout",
     "output_type": "stream",
     "text": [
      "loss: tensor(47.3543)\n",
      "metrics: {'acc_topo': '0.0 (1)', 'loss_topo': '3.637711524963379 (1)', 'error_tick': '1067.55615234375 (1024)', 'acc_division': '0.205078125 (1024)', 'acc_dots': '0.6318359375 (1024)', 'acc_beam': '0.21153846383094788 (832)', 'acc_stemDirection': '0.21995192766189575 (832)', 'acc_grace': '0.0012019231216982007 (832)', 'acc_timeWarped': '0.7607421875 (1024)', 'acc_fullMeasure': '0.8125 (64)', 'acc_fake': '0.208984375 (1024)'}\n"
     ]
    }
   ],
   "source": [
    "# RectifySieveJointerLoss\n",
    "import torch\n",
    "from starry.topology.models.rectifyJointer import RectifySieveJointerLoss\n",
    "\n",
    "\n",
    "model = RectifySieveJointerLoss(n_trunk_layers=1, n_rectifier_layers=1)\n",
    "\n",
    "with torch.no_grad():\n",
    "\tloss, metrics = model(tensors)\n",
    "\n",
    "print('loss:', loss)\n",
    "print('metrics:', {k: str(v) for k, v in metrics.items()})\n"
   ]
  },
  {
   "cell_type": "code",
   "execution_count": 5,
   "metadata": {},
   "outputs": [
    {
     "name": "stdout",
     "output_type": "stream",
     "text": [
      "loss: tensor(41.0790)\n",
      "metrics: {'acc_topo': '0.0 (1)', 'loss_topo': '3.0107696056365967 (1)', 'error_tick': '1068.025634765625 (1024)', 'acc_division': '0.0009765625 (1024)', 'acc_dots': '0.1201171875 (1024)', 'acc_beam': '0.2788461446762085 (832)', 'acc_stemDirection': '0.1430288404226303 (832)', 'acc_grace': '0.9387019276618958 (832)', 'acc_timeWarped': '0.0693359375 (1024)', 'acc_fullMeasure': '0.109375 (64)', 'acc_fake': '0.8427734375 (1024)'}\n"
     ]
    }
   ],
   "source": [
    "tensors = next(it)\n",
    "\n",
    "with torch.no_grad():\n",
    "\tloss, metrics = model(tensors)\n",
    "\n",
    "print('loss:', loss)\n",
    "print('metrics:', {k: str(v) for k, v in metrics.items()})\n"
   ]
  }
 ],
 "metadata": {
  "interpreter": {
   "hash": "31f2aee4e71d21fbe5cf8b01ff0e069b9275f58929596ceb00d14d90e3e16cd6"
  },
  "kernelspec": {
   "display_name": "Python 3.6.9 64-bit",
   "language": "python",
   "name": "python3"
  },
  "language_info": {
   "codemirror_mode": {
    "name": "ipython",
    "version": 3
   },
   "file_extension": ".py",
   "mimetype": "text/x-python",
   "name": "python",
   "nbconvert_exporter": "python",
   "pygments_lexer": "ipython3",
   "version": "3.6.9"
  },
  "orig_nbformat": 4
 },
 "nbformat": 4,
 "nbformat_minor": 2
}
