{
 "cells": [
  {
   "cell_type": "code",
   "execution_count": 6,
   "metadata": {},
   "outputs": [
    {
     "name": "stdout",
     "output_type": "stream",
     "text": [
      "type:\n",
      " torch.Size([25])\n",
      "staff:\n",
      " torch.Size([25])\n",
      "feature:\n",
      " torch.Size([25, 15])\n",
      "x:\n",
      " torch.Size([25])\n",
      "y1:\n",
      " torch.Size([25])\n",
      "y2:\n",
      " torch.Size([25])\n",
      "matrixH:\n",
      " torch.Size([625])\n",
      "tick:\n",
      " torch.Size([25])\n",
      "division:\n",
      " torch.Size([25])\n",
      "dots:\n",
      " torch.Size([25])\n",
      "beam:\n",
      " torch.Size([25])\n",
      "stemDirection:\n",
      " torch.Size([25])\n",
      "grace:\n",
      " torch.Size([25])\n",
      "timeWarped:\n",
      " torch.Size([25])\n",
      "fullMeasure:\n",
      " torch.Size([25])\n",
      "confidence:\n",
      " torch.Size([25])\n"
     ]
    }
   ],
   "source": [
    "# dataset\n",
    "import os\n",
    "from starry.utils.config import Configuration\n",
    "from starry.utils.dataset_factory import loadDataset\n",
    "\n",
    "\n",
    "DATA_DIR = os.environ.get('DATA_DIR')\n",
    "\n",
    "config = Configuration.create('configs/evtopo-test.yaml')\n",
    "train, val = loadDataset(config, data_dir=DATA_DIR, device='cpu')\n",
    "\n",
    "it = iter(train)\n",
    "tensors = next(it)\n",
    "\n",
    "for k, v in tensors.items():\n",
    "\tprint(f'{k}:\\n', v[0].shape)\n"
   ]
  },
  {
   "cell_type": "code",
   "execution_count": 7,
   "metadata": {},
   "outputs": [
    {
     "name": "stdout",
     "output_type": "stream",
     "text": [
      "types: torch.Size([64, 25])\n",
      "rec: {'tick': tensor([-0.3224]), 'division': tensor([ 1.5276, -0.3366, -0.7564,  1.0517, -0.2788,  0.0949,  0.7705]), 'dots': tensor([ 0.6420,  0.1313, -0.2466]), 'beam': tensor([ 0.3798,  0.0702, -0.6501, -0.1727]), 'stemDirection': tensor([ 0.0538, -0.1651, -0.0452]), 'grace': tensor([0.6614]), 'timeWarped': tensor([-0.0905]), 'fullMeasure': tensor([0.0407]), 'confidence': tensor([0.3727])}\n",
      "j: 64 torch.Size([576])\n"
     ]
    }
   ],
   "source": [
    "# RectifySieveJointer\n",
    "import torch\n",
    "from starry.topology.models.rectifyJointer import RectifySieveJointer\n",
    "\n",
    "\n",
    "model = RectifySieveJointer(1, 1)\n",
    "\n",
    "with torch.no_grad():\n",
    "\trec, j = model(tensors)\n",
    "\n",
    "print('types:', tensors['type'].shape)\n",
    "print('rec:', {k: v[0, 0] for k, v in rec.items()})\n",
    "print('j:', len(j), j[0].shape)\n"
   ]
  }
 ],
 "metadata": {
  "interpreter": {
   "hash": "31f2aee4e71d21fbe5cf8b01ff0e069b9275f58929596ceb00d14d90e3e16cd6"
  },
  "kernelspec": {
   "display_name": "Python 3.6.9 64-bit",
   "language": "python",
   "name": "python3"
  },
  "language_info": {
   "codemirror_mode": {
    "name": "ipython",
    "version": 3
   },
   "file_extension": ".py",
   "mimetype": "text/x-python",
   "name": "python",
   "nbconvert_exporter": "python",
   "pygments_lexer": "ipython3",
   "version": "3.6.9"
  },
  "orig_nbformat": 4
 },
 "nbformat": 4,
 "nbformat_minor": 2
}
