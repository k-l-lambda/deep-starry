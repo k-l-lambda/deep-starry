{
 "cells": [
  {
   "cell_type": "code",
   "execution_count": 1,
   "metadata": {},
   "outputs": [
    {
     "name": "stdout",
     "output_type": "stream",
     "text": [
      "type:\n",
      " torch.Size([19])\n",
      "staff:\n",
      " torch.Size([19])\n",
      "feature:\n",
      " torch.Size([19, 15])\n",
      "x:\n",
      " torch.Size([19])\n",
      "y1:\n",
      " torch.Size([19])\n",
      "y2:\n",
      " torch.Size([19])\n",
      "matrixH:\n",
      " torch.Size([324])\n",
      "tick:\n",
      " torch.Size([19])\n",
      "division:\n",
      " torch.Size([19])\n",
      "dots:\n",
      " torch.Size([19])\n",
      "beam:\n",
      " torch.Size([19])\n",
      "stemDirection:\n",
      " torch.Size([19])\n",
      "grace:\n",
      " torch.Size([19])\n",
      "timeWarped:\n",
      " torch.Size([19])\n",
      "fullMeasure:\n",
      " torch.Size([19])\n",
      "fake:\n",
      " torch.Size([19])\n"
     ]
    }
   ],
   "source": [
    "# dataset\n",
    "import os\n",
    "from starry.utils.config import Configuration\n",
    "from starry.utils.dataset_factory import loadDataset\n",
    "\n",
    "\n",
    "DATA_DIR = os.environ.get('DATA_DIR')\n",
    "\n",
    "config = Configuration.create('configs/evtopo-test.yaml')\n",
    "train, val = loadDataset(config, data_dir=DATA_DIR, device='cpu')\n",
    "\n",
    "it = iter(val)\n",
    "tensors = next(it)\n",
    "\n",
    "for k, v in tensors.items():\n",
    "\tprint(f'{k}:\\n', v[0].shape)\n"
   ]
  },
  {
   "cell_type": "code",
   "execution_count": 2,
   "metadata": {},
   "outputs": [
    {
     "name": "stdout",
     "output_type": "stream",
     "text": [
      "types: torch.Size([64, 19])\n",
      "rec: {'tick': tensor(0.7731), 'division': tensor([0.3088, 0.2697, 0.0939, 0.1620, 0.0754, 0.0462, 0.0438]), 'dots': tensor([0.2978, 0.5361, 0.1661]), 'beam': tensor([0.1714, 0.2564, 0.1247, 0.4474]), 'stemDirection': tensor([0.2084, 0.3240, 0.4676]), 'grace': tensor(0.4681), 'timeWarped': tensor(0.4583), 'fullMeasure': tensor(0.7600), 'fake': tensor(0.5281)}\n",
      "j: 64 torch.Size([324])\n"
     ]
    }
   ],
   "source": [
    "# RectifySieveJointer\n",
    "import torch\n",
    "from starry.topology.models.rectifyJointer import RectifySieveJointer\n",
    "\n",
    "\n",
    "model = RectifySieveJointer(1, 1)\n",
    "\n",
    "with torch.no_grad():\n",
    "\trec, j = model(tensors)\n",
    "\n",
    "assert tensors['matrixH'][0].shape == j[0].shape\n",
    "\n",
    "print('types:', tensors['type'].shape)\n",
    "print('rec:', {k: v[0, 0] for k, v in rec.items()})\n",
    "print('j:', len(j), j[0].shape)\n"
   ]
  },
  {
   "cell_type": "code",
   "execution_count": 3,
   "metadata": {},
   "outputs": [
    {
     "name": "stdout",
     "output_type": "stream",
     "text": [
      "loss: tensor(36.1220)\n",
      "metrics: {'acc_topo': '0.0 (*1)', 'loss_topo': '2.5140719413757324 (*1)', 'error_tick': '1081.2364501953125 (*1216)', 'acc_division': '0.004934210330247879 (*1216)', 'acc_dots': '0.16118420660495758 (*1216)', 'acc_beam': '0.2916666567325592 (*960)', 'acc_stemDirection': '0.10000000149011612 (*960)', 'acc_grace': '0.9927083253860474 (*960)', 'acc_timeWarped': '0.017269736155867577 (*1216)', 'acc_fullMeasure': '0.078125 (*128)', 'acc_fake': '0.9375 (*1216)'}\n"
     ]
    }
   ],
   "source": [
    "# RectifySieveJointerLoss\n",
    "import torch\n",
    "from starry.topology.models.rectifyJointer import RectifySieveJointerLoss\n",
    "\n",
    "\n",
    "model = RectifySieveJointerLoss(n_trunk_layers=1, n_rectifier_layers=1)\n",
    "\n",
    "with torch.no_grad():\n",
    "\tloss, metrics = model(tensors)\n",
    "\n",
    "print('loss:', loss)\n",
    "print('metrics:', {k: str(v) for k, v in metrics.items()})\n"
   ]
  },
  {
   "cell_type": "code",
   "execution_count": 4,
   "metadata": {},
   "outputs": [
    {
     "name": "stdout",
     "output_type": "stream",
     "text": [
      "loss: tensor(30.8275)\n",
      "metrics: {'acc_topo': '0.0 (*1)', 'loss_topo': '1.9818495512008667 (*1)', 'error_tick': '989.3164672851562 (*1472)', 'acc_division': '0.0006793478387407959 (*1472)', 'acc_dots': '0.07404891401529312 (*1472)', 'acc_beam': '0.240234375 (*1024)', 'acc_stemDirection': '0.1357421875 (*1024)', 'acc_grace': '0.9814453125 (*1024)', 'acc_timeWarped': '0.03736412897706032 (*1472)', 'acc_fullMeasure': '0.03125 (*320)', 'acc_fake': '0.8322010636329651 (*1472)'}\n"
     ]
    }
   ],
   "source": [
    "tensors = next(it)\n",
    "\n",
    "with torch.no_grad():\n",
    "\tloss, metrics = model(tensors)\n",
    "\n",
    "print('loss:', loss)\n",
    "print('metrics:', {k: str(v) for k, v in metrics.items()})\n"
   ]
  }
 ],
 "metadata": {
  "interpreter": {
   "hash": "31f2aee4e71d21fbe5cf8b01ff0e069b9275f58929596ceb00d14d90e3e16cd6"
  },
  "kernelspec": {
   "display_name": "Python 3.6.9 64-bit",
   "language": "python",
   "name": "python3"
  },
  "language_info": {
   "codemirror_mode": {
    "name": "ipython",
    "version": 3
   },
   "file_extension": ".py",
   "mimetype": "text/x-python",
   "name": "python",
   "nbconvert_exporter": "python",
   "pygments_lexer": "ipython3",
   "version": "3.6.9"
  },
  "orig_nbformat": 4
 },
 "nbformat": 4,
 "nbformat_minor": 2
}
