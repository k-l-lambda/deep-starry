{
 "cells": [
  {
   "cell_type": "code",
   "execution_count": 1,
   "metadata": {},
   "outputs": [
    {
     "name": "stdout",
     "output_type": "stream",
     "text": [
      "type:\n",
      " torch.Size([19])\n",
      "staff:\n",
      " torch.Size([19])\n",
      "feature:\n",
      " torch.Size([19, 15])\n",
      "x:\n",
      " torch.Size([19])\n",
      "y1:\n",
      " torch.Size([19])\n",
      "y2:\n",
      " torch.Size([19])\n",
      "matrixH:\n",
      " torch.Size([324])\n",
      "tick:\n",
      " torch.Size([19])\n",
      "division:\n",
      " torch.Size([19])\n",
      "dots:\n",
      " torch.Size([19])\n",
      "beam:\n",
      " torch.Size([19])\n",
      "stemDirection:\n",
      " torch.Size([19])\n",
      "grace:\n",
      " torch.Size([19])\n",
      "timeWarped:\n",
      " torch.Size([19])\n",
      "fullMeasure:\n",
      " torch.Size([19])\n",
      "confidence:\n",
      " torch.Size([19])\n"
     ]
    }
   ],
   "source": [
    "# dataset\n",
    "import os\n",
    "from starry.utils.config import Configuration\n",
    "from starry.utils.dataset_factory import loadDataset\n",
    "\n",
    "\n",
    "DATA_DIR = os.environ.get('DATA_DIR')\n",
    "\n",
    "config = Configuration.create('configs/evtopo-test.yaml')\n",
    "train, val = loadDataset(config, data_dir=DATA_DIR, device='cpu')\n",
    "\n",
    "it = iter(val)\n",
    "tensors = next(it)\n",
    "\n",
    "for k, v in tensors.items():\n",
    "\tprint(f'{k}:\\n', v[0].shape)\n"
   ]
  },
  {
   "cell_type": "code",
   "execution_count": 2,
   "metadata": {},
   "outputs": [
    {
     "name": "stdout",
     "output_type": "stream",
     "text": [
      "types: torch.Size([64, 19])\n",
      "rec: {'tick': tensor(0.8923), 'division': tensor([0.3243, 0.2669, 0.0895, 0.1557, 0.0744, 0.0472, 0.0419]), 'dots': tensor([0.3053, 0.5426, 0.1521]), 'beam': tensor([0.1633, 0.2843, 0.1290, 0.4234]), 'stemDirection': tensor([0.1937, 0.3201, 0.4862]), 'grace': tensor(0.4769), 'timeWarped': tensor(0.4685), 'fullMeasure': tensor(0.7561), 'confidence': tensor(0.5128)}\n",
      "j: 64 torch.Size([324])\n"
     ]
    }
   ],
   "source": [
    "# RectifySieveJointer\n",
    "import torch\n",
    "from starry.topology.models.rectifyJointer import RectifySieveJointer\n",
    "\n",
    "\n",
    "model = RectifySieveJointer(1, 1)\n",
    "\n",
    "with torch.no_grad():\n",
    "\trec, j = model(tensors)\n",
    "\n",
    "assert tensors['matrixH'][0].shape == j[0].shape\n",
    "\n",
    "print('types:', tensors['type'].shape)\n",
    "print('rec:', {k: v[0, 0] for k, v in rec.items()})\n",
    "print('j:', len(j), j[0].shape)\n"
   ]
  },
  {
   "cell_type": "code",
   "execution_count": 3,
   "metadata": {},
   "outputs": [
    {
     "name": "stdout",
     "output_type": "stream",
     "text": [
      "loss: tensor(37.5855)\n",
      "metrics: {'acc_topo': 0.0, 'loss_topo': 2.5409018993377686, 'error_tick': 1081.1961669921875, 'acc_division': 0.0024671051651239395, 'acc_dots': 0.15707236528396606, 'acc_beam': 0.3075657784938812, 'acc_stemDirection': 0.2524670958518982, 'acc_grace': 0.9901315569877625, 'acc_timeWarped': 0.02055921033024788, 'acc_fullMeasure': 0.037828948348760605, 'acc_confidence': 0.046875}\n"
     ]
    }
   ],
   "source": [
    "# RectifySieveJointerLoss\n",
    "import torch\n",
    "from starry.topology.models.rectifyJointer import RectifySieveJointerLoss\n",
    "\n",
    "\n",
    "model = RectifySieveJointerLoss(n_trunk_layers=1, n_rectifier_layers=1)\n",
    "\n",
    "with torch.no_grad():\n",
    "\tloss, metrics = model(tensors)\n",
    "\n",
    "print('loss:', loss)\n",
    "print('metrics:', metrics)\n"
   ]
  }
 ],
 "metadata": {
  "interpreter": {
   "hash": "31f2aee4e71d21fbe5cf8b01ff0e069b9275f58929596ceb00d14d90e3e16cd6"
  },
  "kernelspec": {
   "display_name": "Python 3.6.9 64-bit",
   "language": "python",
   "name": "python3"
  },
  "language_info": {
   "codemirror_mode": {
    "name": "ipython",
    "version": 3
   },
   "file_extension": ".py",
   "mimetype": "text/x-python",
   "name": "python",
   "nbconvert_exporter": "python",
   "pygments_lexer": "ipython3",
   "version": "3.6.9"
  },
  "orig_nbformat": 4
 },
 "nbformat": 4,
 "nbformat_minor": 2
}
