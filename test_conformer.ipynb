{
 "cells": [
  {
   "cell_type": "code",
   "execution_count": 3,
   "metadata": {},
   "outputs": [
    {
     "data": {
      "text/plain": [
       "(torch.Size([1, 15, 10]), tensor([15]))"
      ]
     },
     "execution_count": 3,
     "metadata": {},
     "output_type": "execute_result"
    }
   ],
   "source": [
    "\n",
    "import torch\n",
    "from starry.conformer import Conformer\n",
    "\n",
    "\n",
    "inputs = torch.rand(1, 64, 40)\n",
    "input_lengths = torch.LongTensor([64])\n",
    "\n",
    "model = Conformer(\n",
    "\tnum_classes=10,\n",
    "\tinput_dim=40,\n",
    "\tencoder_dim=32,\n",
    "\tnum_encoder_layers=3)\n",
    "\n",
    "outputs, output_lengths = model(inputs, input_lengths)\n",
    "\n",
    "(outputs.shape, output_lengths)"
   ]
  },
  {
   "cell_type": "code",
   "execution_count": 2,
   "metadata": {},
   "outputs": [
    {
     "data": {
      "text/plain": [
       "torch.Size([1, 64, 32])"
      ]
     },
     "execution_count": 2,
     "metadata": {},
     "output_type": "execute_result"
    }
   ],
   "source": [
    "\n",
    "import torch\n",
    "from starry.melody.models.conformerU import ConformerEncoderU\n",
    "\n",
    "\n",
    "model = ConformerEncoderU(input_dim=40, encoder_dim=32, num_layers=3)\n",
    "\n",
    "inputs = torch.rand(1, 64, 40)\n",
    "outputs = model(inputs)\n",
    "\n",
    "outputs.shape"
   ]
  }
 ],
 "metadata": {
  "kernelspec": {
   "display_name": "Python 3.6.9 ('env': venv)",
   "language": "python",
   "name": "python3"
  },
  "language_info": {
   "codemirror_mode": {
    "name": "ipython",
    "version": 3
   },
   "file_extension": ".py",
   "mimetype": "text/x-python",
   "name": "python",
   "nbconvert_exporter": "python",
   "pygments_lexer": "ipython3",
   "version": "3.6.9"
  },
  "orig_nbformat": 4,
  "vscode": {
   "interpreter": {
    "hash": "be3796fc9b55cd7f6a5d10711c997676f9730370d5a1c0260123ba12108861c5"
   }
  }
 },
 "nbformat": 4,
 "nbformat_minor": 2
}
