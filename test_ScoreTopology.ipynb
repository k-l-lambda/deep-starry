{
 "cells": [
  {
   "cell_type": "code",
   "execution_count": null,
   "source": [
    "# dataset preparation\n",
    "from score_topology.data import *\n",
    "\n",
    "\n",
    "file = open('./test/test.json', 'rb')\n",
    "data = loadConnectionSet(file)\n",
    "\n",
    "#seqs, matrixH, masks = exampleToTensors(data['connections'][0], 0x100, 0x200)\n",
    "#print(seqs, matrixH, masks)\n",
    "\n",
    "examples = list(map(lambda ex: exampleToTensors(ex, 0x100, 0x200), data['connections']))\n",
    "dataset = batchizeTensorExamples(examples, 4)\n",
    "\n",
    "print('dataset:', dataset[0]['seq_id'].shape, dataset[0]['seq_position'].shape, dataset[0]['mask'].shape, dataset[0]['matrixH'].shape)\n",
    "#print('seq_id.0', dataset[0]['seq_id'][0])\n",
    "#print('seq_position.0', dataset[0]['seq_position'][0][1])\n"
   ],
   "outputs": [],
   "metadata": {}
  },
  {
   "cell_type": "code",
   "execution_count": null,
   "source": [
    "# sequence masking\n",
    "import torch\n",
    "from transformer.models import get_subsequent_mask, get_pad_mask\n",
    "\n",
    "\n",
    "seq = torch.tensor([[3,2,1], [4,5,6]])\n",
    "mask1 = get_pad_mask(seq, 1)\n",
    "mask2 = get_subsequent_mask(seq)\n",
    "print(mask1)\n",
    "print(mask2)\n",
    "print(mask1 & mask2)\n"
   ],
   "outputs": [],
   "metadata": {}
  },
  {
   "cell_type": "code",
   "execution_count": null,
   "source": [
    "# model test\n",
    "from starry.score_topology.models import *\n",
    "\n",
    "\n",
    "model = TransformJointer()\n",
    "batch = dataset[0]\n",
    "pred = model(batch['seq_id'], batch['seq_position'], batch['mask'])\n"
   ],
   "outputs": [],
   "metadata": {}
  },
  {
   "cell_type": "code",
   "execution_count": null,
   "source": [
    "import torch\n",
    "\n",
    "\n",
    "t1 = torch.tensor([1,2,3])\n",
    "t2 = torch.tensor([4,5,6])\n",
    "\n",
    "t1 = t1.unsqueeze(0).repeat(2, 1, 1)\n",
    "t2 = t2.unsqueeze(1)\n",
    "print(t1, t2)\n",
    "\n",
    "p = t1.matmul(t2)\n",
    "print(p)\n"
   ],
   "outputs": [],
   "metadata": {}
  },
  {
   "cell_type": "code",
   "execution_count": null,
   "source": [
    "# predictor test\n",
    "from ipywidgets import interact, interact_manual\n",
    "import json\n",
    "from starry.utils.config import Configuration\n",
    "from starry.score_topology.data import *\n",
    "from starry.score_topology.predictor import *\n",
    "\n",
    "\n",
    "def test (config, clusters):\n",
    "\tpredictor = Predictor(config)\n",
    "\tresults = predictor.predict(clusters)\n",
    "\ttext = json.dumps(results)\n",
    "\n",
    "\tprint('results:', text)\n",
    "\n",
    "\n",
    "def setConfig(config_dir, topology_file):\n",
    "\tconfig = Configuration(config_dir)\n",
    "\tprint('config loaded:', config.id)\n",
    "\n",
    "\tfile = open(topology_file, 'r')\n",
    "\tdata = loadClusterSet(file)\n",
    "\tclusters = data.get('clusters', data['connections'])[:4]\n",
    "\ttest(config, clusters)\n",
    "\n",
    "\n",
    "interact_manual(setConfig, config_dir='', topology_file='')\n"
   ],
   "outputs": [],
   "metadata": {}
  }
 ],
 "metadata": {
  "orig_nbformat": 4,
  "language_info": {
   "name": "python",
   "version": "3.6.9",
   "mimetype": "text/x-python",
   "codemirror_mode": {
    "name": "ipython",
    "version": 3
   },
   "pygments_lexer": "ipython3",
   "nbconvert_exporter": "python",
   "file_extension": ".py"
  },
  "kernelspec": {
   "name": "python3",
   "display_name": "Python 3.6.9 64-bit"
  },
  "interpreter": {
   "hash": "31f2aee4e71d21fbe5cf8b01ff0e069b9275f58929596ceb00d14d90e3e16cd6"
  }
 },
 "nbformat": 4,
 "nbformat_minor": 2
}