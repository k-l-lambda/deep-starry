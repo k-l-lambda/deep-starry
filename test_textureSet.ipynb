{
 "cells": [
  {
   "cell_type": "code",
   "execution_count": null,
   "metadata": {},
   "outputs": [],
   "source": [
    "#from ipywidgets import interact, interact_manual\n",
    "import os\n",
    "import matplotlib.pyplot as plt\n",
    "\n",
    "from starry.vision.data.textureSet import TextureSet\n",
    "\n",
    "\n",
    "\n",
    "textures = TextureSet(os.path.expanduser('~/data/textures/coco2017 samples'))\n",
    "iter = textures.makeIterator(frame_size = (512, 512), frame_count = 4)\n",
    "\n",
    "_, axes = plt.subplots(1, 3)\n",
    "for i in range(3):\n",
    "    img = iter.get((120, 200), scale_range = (20, 50), blur_range = (0, 1))\n",
    "    axes[i].imshow(img, cmap='gray')\n",
    "plt.show()\n"
   ]
  },
  {
   "cell_type": "code",
   "execution_count": null,
   "metadata": {},
   "outputs": [],
   "source": []
  }
 ],
 "metadata": {
  "interpreter": {
   "hash": "31f2aee4e71d21fbe5cf8b01ff0e069b9275f58929596ceb00d14d90e3e16cd6"
  },
  "kernelspec": {
   "display_name": "Python 3.6.9 64-bit",
   "language": "python",
   "name": "python3"
  },
  "language_info": {
   "codemirror_mode": {
    "name": "ipython",
    "version": 3
   },
   "file_extension": ".py",
   "mimetype": "text/x-python",
   "name": "python",
   "nbconvert_exporter": "python",
   "pygments_lexer": "ipython3",
   "version": "3.6.9"
  },
  "metadata": {
   "interpreter": {
    "hash": "31f2aee4e71d21fbe5cf8b01ff0e069b9275f58929596ceb00d14d90e3e16cd6"
   }
  },
  "orig_nbformat": 2
 },
 "nbformat": 4,
 "nbformat_minor": 2
}
