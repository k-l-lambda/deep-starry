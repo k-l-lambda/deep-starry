{
 "cells": [
  {
   "cell_type": "code",
   "execution_count": 2,
   "metadata": {},
   "outputs": [
    {
     "name": "stdout",
     "output_type": "stream",
     "text": [
      "matching: torch.Size([1, 6, 10])\n",
      "c_vec: torch.Size([1, 6, 128])\n",
      "s_vec: torch.Size([1, 128, 10])\n"
     ]
    }
   ],
   "source": [
    "# MatchJointerRaw test\n",
    "import torch\n",
    "\n",
    "from starry.utils.config import Configuration\n",
    "from starry.utils.model_factory import loadModel\n",
    "\n",
    "\n",
    "config = Configuration.createOrLoad('configs/matchjointer1-test.yaml')\n",
    "model = loadModel(config['model'])\n",
    "\n",
    "\n",
    "c_time, c_pitch, c_velocity = torch.rand(1, 10) * 10000, torch.randint(128, (1, 10)), torch.rand(1, 10) * 127\n",
    "s_time, s_pitch, s_velocity = torch.rand(1, 6) * 10000, torch.randint(128, (1, 6)), torch.rand(1, 6) * 127\n",
    "\n",
    "matching, c_vec, s_vec = model(c_time, c_pitch, c_velocity, s_time, s_pitch, s_velocity)\n",
    "\n",
    "print('matching:', matching.shape)\n",
    "print('c_vec:', c_vec.shape)\n",
    "print('s_vec:', s_vec.shape)\n"
   ]
  },
  {
   "cell_type": "code",
   "execution_count": 5,
   "metadata": {},
   "outputs": [
    {
     "name": "stdout",
     "output_type": "stream",
     "text": [
      "n_examples: 14997 3809\n",
      "tensors: [(torch.Size([4, 64]), torch.float32), (torch.Size([4, 64]), torch.int64), (torch.Size([4, 64]), torch.float32)] [(torch.Size([4, 64]), torch.float32), (torch.Size([4, 64]), torch.int64), (torch.Size([4, 64]), torch.float32)] torch.Size([4, 64])\n",
      "cis: tensor([[ 3,  4,  5,  6,  7,  8, 10,  9, 11, 11, 13, 12, 14, 15, 16],\n",
      "        [ 4,  5,  6,  7,  8, 10,  9, 11, 11, 13, 12, 14, 15, 16, 17],\n",
      "        [ 5,  6,  7,  8, 10,  9, 11, 11, 13, 12, 14, 15, 16, 17, 19],\n",
      "        [ 6,  7,  8, 10,  9, 11, 11, 13, 12, 14, 15, 16, 17, 19, 18]])\n",
      "sample_mask: tensor([[False, False, False, False, False, False, False, False, False, False,\n",
      "         False, False, False, False, False, False, False, False, False, False,\n",
      "         False, False, False, False, False, False, False, False, False, False,\n",
      "         False, False, False, False, False, False, False, False, False, False,\n",
      "         False, False, False, False, False, False, False,  True,  True,  True,\n",
      "          True,  True,  True,  True,  True,  True,  True,  True,  True,  True,\n",
      "          True,  True,  True,  True],\n",
      "        [False, False, False, False, False, False, False, False, False, False,\n",
      "         False, False, False, False, False, False, False, False, False, False,\n",
      "         False, False, False, False, False, False, False, False, False, False,\n",
      "         False, False, False, False, False, False, False, False, False, False,\n",
      "         False, False, False, False, False, False,  True,  True,  True,  True,\n",
      "          True,  True,  True,  True,  True,  True,  True,  True,  True,  True,\n",
      "          True,  True,  True,  True],\n",
      "        [False, False, False, False, False, False, False, False, False, False,\n",
      "         False, False, False, False, False, False, False, False, False, False,\n",
      "         False, False, False, False, False, False, False, False, False, False,\n",
      "         False, False, False, False, False, False, False, False, False, False,\n",
      "         False, False, False, False, False,  True,  True,  True,  True,  True,\n",
      "          True,  True,  True,  True,  True,  True,  True,  True,  True,  True,\n",
      "          True,  True,  True,  True],\n",
      "        [False, False, False, False, False, False, False, False, False, False,\n",
      "         False, False, False, False, False, False, False, False, False, False,\n",
      "         False, False, False, False, False, False, False, False, False, False,\n",
      "         False, False, False, False, False, False, False, False, False, False,\n",
      "         False, False, False, False,  True,  True,  True,  True,  True,  True,\n",
      "          True,  True,  True,  True,  True,  True,  True,  True,  True,  True,\n",
      "          True,  True,  True,  True]])\n",
      "pitch-c tensor([[59, 47, 63, 66, 71, 61, 42, 70, 35, 71, 39, 59, 42, 47, 59, 42, 39, 59,\n",
      "         35, 63],\n",
      "        [58, 46, 62, 65, 70, 60, 41, 69, 34, 70, 38, 58, 41, 46, 58, 41, 38, 58,\n",
      "         34, 62],\n",
      "        [59, 47, 63, 66, 71, 61, 42, 70, 35, 71, 39, 59, 42, 47, 59, 42, 39, 59,\n",
      "         35, 63],\n",
      "        [74, 62, 78, 81, 86, 76, 57, 85, 50, 86, 54, 74, 57, 62, 74, 57, 54, 74,\n",
      "         50, 78]])\n",
      "pitch-s tensor([[ 0,  0,  0, 59, 47, 63, 66, 71, 61, 42, 70, 71, 35, 39, 37, 42, 59, 47,\n",
      "         59, 42],\n",
      "        [ 0,  0, 58, 46, 62, 65, 70, 60, 41, 69, 70, 34, 38, 36, 41, 58, 46, 58,\n",
      "         41, 38],\n",
      "        [ 0, 59, 47, 63, 66, 71, 61, 42, 70, 71, 35, 39, 37, 42, 59, 47, 59, 42,\n",
      "         39, 35],\n",
      "        [74, 62, 78, 81, 86, 76, 57, 85, 86, 50, 54, 52, 57, 74, 62, 74, 57, 54,\n",
      "         50, 74]])\n",
      "time-s: tensor([[    0.0000,     0.0000,     0.0000, -2638.9141, -2590.9790, -2373.4272,\n",
      "         -2083.3730, -1797.6362, -1450.8245, -1441.7054, -1174.4371,  -976.3993,\n",
      "          -956.0945,  -711.4910,  -711.1372,  -425.7183,  -380.9175,  -196.2190,\n",
      "           -47.2959,     0.0000],\n",
      "        [    0.0000,     0.0000, -2920.0220, -2872.0869, -2654.5352, -2364.4810,\n",
      "         -2078.7441, -1731.9324, -1722.8134, -1455.5450, -1257.5072, -1237.2024,\n",
      "          -992.5989,  -992.2451,  -706.8262,  -662.0254,  -477.3269,  -328.4038,\n",
      "          -281.1079,     0.0000],\n",
      "        [    0.0000, -3151.1797, -3103.2446, -2885.6929, -2595.6387, -2309.9019,\n",
      "         -1963.0901, -1953.9711, -1686.7028, -1488.6649, -1468.3601, -1223.7566,\n",
      "         -1223.4028,  -937.9839,  -893.1831,  -708.4846,  -559.5615,  -512.2656,\n",
      "          -231.1577,     0.0000],\n",
      "        [-3154.8738, -3106.9387, -2889.3870, -2599.3328, -2313.5959, -1966.7842,\n",
      "         -1957.6652, -1690.3969, -1492.3590, -1472.0542, -1227.4507, -1227.0969,\n",
      "          -941.6780,  -896.8772,  -712.1787,  -563.2556,  -515.9597,  -234.8518,\n",
      "            -3.6941,     0.0000]])\n"
     ]
    }
   ],
   "source": [
    "# dataset\n",
    "import os\n",
    "from starry.utils.config import Configuration\n",
    "from starry.utils.dataset_factory import loadDataset\n",
    "\n",
    "\n",
    "DATA_DIR = os.environ.get('DATA_DIR')\n",
    "\n",
    "config = Configuration.create('configs/matchjointer1-test.yaml')\n",
    "train, val = loadDataset(config, data_dir=DATA_DIR, device='cpu')\n",
    "\n",
    "print('n_examples:', train.dataset.n_examples, val.dataset.n_examples)\n",
    "\n",
    "it = iter(train)\n",
    "batch = next(it)\n",
    "print('tensors:', [(tensor.shape, tensor.dtype) for tensor in batch['criterion']], [(tensor.shape, tensor.dtype) for tensor in batch['sample']], batch['ci'].shape)\n",
    "\n",
    "next(it)\n",
    "next(it)\n",
    "next(it)\n",
    "batch = next(it)\n",
    "print('cis:', batch['ci'][:, -15:])\n",
    "print('sample_mask:', batch['sample'][1] > 0)\n",
    "print('pitch-c', batch['criterion'][1][:, :20])\n",
    "print('pitch-s', batch['sample'][1][:, -20:])\n",
    "print('time-s:', batch['sample'][0][:, -20:])\n"
   ]
  },
  {
   "cell_type": "code",
   "execution_count": 2,
   "metadata": {},
   "outputs": [
    {
     "name": "stdout",
     "output_type": "stream",
     "text": [
      "loss: tensor(0.9049, grad_fn=<AddBackward0>)\n",
      "metric: {'acc_full': 0.08108108108108109, 'acc_c1': 0.08108108108108109, 'acc_tail8': 0.03125, 'acc_tip': 0.0}\n"
     ]
    }
   ],
   "source": [
    "# MatchJointer1Loss\n",
    "import torch\n",
    "\n",
    "from starry.utils.config import Configuration\n",
    "from starry.utils.model_factory import loadModel\n",
    "\n",
    "\n",
    "config = Configuration.createOrLoad('configs/matchjointer1-test.yaml')\n",
    "model = loadModel(config['model'], postfix='Loss')\n",
    "\n",
    "loss, metric = model(batch)\n",
    "\n",
    "print('loss:', loss)\n",
    "print('metric:', metric)\n"
   ]
  },
  {
   "cell_type": "code",
   "execution_count": 2,
   "metadata": {},
   "outputs": [
    {
     "name": "stdout",
     "output_type": "stream",
     "text": [
      "prod: tensor([[[1.0000, 0.4778, 0.6071,  ..., 0.3946, 0.4345, 0.4036],\n",
      "         [0.4778, 1.0000, 0.2963,  ..., 0.3182, 0.3821, 0.3645],\n",
      "         [0.6071, 0.2963, 1.0000,  ..., 0.1527, 0.2537, 0.1823],\n",
      "         ...,\n",
      "         [0.3946, 0.3182, 0.1527,  ..., 1.0000, 0.8633, 0.8685],\n",
      "         [0.4345, 0.3821, 0.2537,  ..., 0.8633, 1.0000, 0.8511],\n",
      "         [0.4036, 0.3645, 0.1823,  ..., 0.8685, 0.8511, 1.0000]],\n",
      "\n",
      "        [[1.0000, 0.4223, 0.5442,  ..., 0.2787, 0.2422, 0.2816],\n",
      "         [0.4223, 1.0000, 0.4499,  ..., 0.2012, 0.1890, 0.2677],\n",
      "         [0.5442, 0.4499, 1.0000,  ..., 0.3435, 0.3205, 0.3489],\n",
      "         ...,\n",
      "         [0.2787, 0.2012, 0.3435,  ..., 1.0000, 0.9242, 0.8962],\n",
      "         [0.2422, 0.1890, 0.3205,  ..., 0.9242, 1.0000, 0.8573],\n",
      "         [0.2816, 0.2677, 0.3489,  ..., 0.8962, 0.8573, 1.0000]],\n",
      "\n",
      "        [[1.0000, 0.3276, 0.5554,  ..., 0.2657, 0.2640, 0.2050],\n",
      "         [0.3276, 1.0000, 0.3875,  ..., 0.2441, 0.2402, 0.1193],\n",
      "         [0.5554, 0.3875, 1.0000,  ..., 0.3520, 0.3444, 0.3180],\n",
      "         ...,\n",
      "         [0.2657, 0.2441, 0.3520,  ..., 1.0000, 0.9247, 0.8700],\n",
      "         [0.2640, 0.2402, 0.3444,  ..., 0.9247, 1.0000, 0.8542],\n",
      "         [0.2050, 0.1193, 0.3180,  ..., 0.8700, 0.8542, 1.0000]],\n",
      "\n",
      "        [[1.0000, 0.3770, 0.5595,  ..., 0.4652, 0.3734, 0.4110],\n",
      "         [0.3770, 1.0000, 0.4243,  ..., 0.4111, 0.3842, 0.3840],\n",
      "         [0.5595, 0.4243, 1.0000,  ..., 0.7057, 0.6107, 0.6367],\n",
      "         ...,\n",
      "         [0.4652, 0.4111, 0.7057,  ..., 1.0000, 0.8621, 0.8943],\n",
      "         [0.3734, 0.3842, 0.6107,  ..., 0.8621, 1.0000, 0.8232],\n",
      "         [0.4110, 0.3840, 0.6367,  ..., 0.8943, 0.8232, 1.0000]]],\n",
      "       grad_fn=<UnsafeViewBackward0>)\n"
     ]
    }
   ],
   "source": [
    "# tar * tar\n",
    "import torch\n",
    "\n",
    "from starry.utils.config import Configuration\n",
    "from starry.utils.model_factory import loadModel\n",
    "\n",
    "\n",
    "config = Configuration.createOrLoad('configs/matchjointer3-test.yaml')\n",
    "model = loadModel(config['model'])\n",
    "\n",
    "criterion, sample = batch['criterion'], batch['sample']\n",
    "matching, code_src, code_tar = model(*criterion, *sample)\n",
    "\n",
    "code_tar_trans = code_tar.transpose(-2, -1)\n",
    "prod = code_tar.matmul(code_tar_trans)\n",
    "\n",
    "print('prod:', prod)\n"
   ]
  }
 ],
 "metadata": {
  "interpreter": {
   "hash": "be3796fc9b55cd7f6a5d10711c997676f9730370d5a1c0260123ba12108861c5"
  },
  "kernelspec": {
   "display_name": "Python 3.6.9 ('env': venv)",
   "language": "python",
   "name": "python3"
  },
  "language_info": {
   "codemirror_mode": {
    "name": "ipython",
    "version": 3
   },
   "file_extension": ".py",
   "mimetype": "text/x-python",
   "name": "python",
   "nbconvert_exporter": "python",
   "pygments_lexer": "ipython3",
   "version": "3.6.9"
  },
  "orig_nbformat": 4
 },
 "nbformat": 4,
 "nbformat_minor": 2
}
