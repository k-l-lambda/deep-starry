{
 "cells": [
  {
   "cell_type": "code",
   "execution_count": 2,
   "metadata": {},
   "outputs": [
    {
     "name": "stdout",
     "output_type": "stream",
     "text": [
      "matching: torch.Size([1, 6, 10])\n",
      "c_vec: torch.Size([1, 6, 128])\n",
      "s_vec: torch.Size([1, 128, 10])\n"
     ]
    }
   ],
   "source": [
    "# MatchJointerRaw test\n",
    "import torch\n",
    "\n",
    "from starry.utils.config import Configuration\n",
    "from starry.utils.model_factory import loadModel\n",
    "\n",
    "\n",
    "config = Configuration.createOrLoad('configs/matchjointer1-test.yaml')\n",
    "model = loadModel(config['model'])\n",
    "\n",
    "\n",
    "c_time, c_pitch, c_velocity = torch.rand(1, 10) * 10000, torch.randint(128, (1, 10)), torch.rand(1, 10) * 127\n",
    "s_time, s_pitch, s_velocity = torch.rand(1, 6) * 10000, torch.randint(128, (1, 6)), torch.rand(1, 6) * 127\n",
    "\n",
    "matching, c_vec, s_vec = model(c_time, c_pitch, c_velocity, s_time, s_pitch, s_velocity)\n",
    "\n",
    "print('matching:', matching.shape)\n",
    "print('c_vec:', c_vec.shape)\n",
    "print('s_vec:', s_vec.shape)\n"
   ]
  },
  {
   "cell_type": "code",
   "execution_count": 2,
   "metadata": {},
   "outputs": [
    {
     "name": "stdout",
     "output_type": "stream",
     "text": [
      "n_examples: 14997 3809\n",
      "tensors: [(torch.Size([4, 64]), torch.float32), (torch.Size([4, 64]), torch.int64), (torch.Size([4, 64]), torch.float32)] [(torch.Size([4, 64]), torch.float32), (torch.Size([4, 64]), torch.int64), (torch.Size([4, 64]), torch.float32)] torch.Size([4, 64])\n",
      "cis: tensor([[ 3,  4,  5,  7,  6,  8,  9, 10, 11, 12, 13, 15, 14, 16, 16],\n",
      "        [ 4,  5,  7,  6,  8,  9, 10, 11, 12, 13, 15, 14, 16, 16, 17],\n",
      "        [ 5,  7,  6,  8,  9, 10, 11, 12, 13, 15, 14, 16, 16, 17, 18],\n",
      "        [ 7,  6,  8,  9, 10, 11, 12, 13, 15, 14, 16, 16, 17, 18, 19]])\n",
      "sample_mask: tensor([[False, False, False, False, False, False, False, False, False, False,\n",
      "         False, False, False, False, False, False, False, False, False, False,\n",
      "         False, False, False, False, False, False, False, False, False, False,\n",
      "         False, False, False, False, False, False, False, False, False, False,\n",
      "         False, False, False, False, False, False, False,  True,  True,  True,\n",
      "          True,  True,  True,  True,  True,  True,  True,  True,  True,  True,\n",
      "          True,  True,  True,  True],\n",
      "        [False, False, False, False, False, False, False, False, False, False,\n",
      "         False, False, False, False, False, False, False, False, False, False,\n",
      "         False, False, False, False, False, False, False, False, False, False,\n",
      "         False, False, False, False, False, False, False, False, False, False,\n",
      "         False, False, False, False, False, False,  True,  True,  True,  True,\n",
      "          True,  True,  True,  True,  True,  True,  True,  True,  True,  True,\n",
      "          True,  True,  True,  True],\n",
      "        [False, False, False, False, False, False, False, False, False, False,\n",
      "         False, False, False, False, False, False, False, False, False, False,\n",
      "         False, False, False, False, False, False, False, False, False, False,\n",
      "         False, False, False, False, False, False, False, False, False, False,\n",
      "         False, False, False, False, False,  True,  True,  True,  True,  True,\n",
      "          True,  True,  True,  True,  True,  True,  True,  True,  True,  True,\n",
      "          True,  True,  True,  True],\n",
      "        [False, False, False, False, False, False, False, False, False, False,\n",
      "         False, False, False, False, False, False, False, False, False, False,\n",
      "         False, False, False, False, False, False, False, False, False, False,\n",
      "         False, False, False, False, False, False, False, False, False, False,\n",
      "         False, False, False, False,  True,  True,  True,  True,  True,  True,\n",
      "          True,  True,  True,  True,  True,  True,  True,  True,  True,  True,\n",
      "          True,  True,  True,  True]])\n",
      "pitch-c tensor([[72, 68, 65, 70, 72, 73, 70, 53, 72, 68, 67, 70, 58, 68, 65, 67, 64, 60,\n",
      "         70, 68],\n",
      "        [69, 65, 62, 67, 69, 70, 67, 50, 69, 65, 64, 67, 55, 65, 62, 64, 61, 57,\n",
      "         67, 65],\n",
      "        [80, 76, 73, 78, 80, 81, 78, 61, 80, 76, 75, 78, 66, 76, 73, 75, 72, 68,\n",
      "         78, 76],\n",
      "        [74, 70, 67, 72, 74, 75, 72, 55, 74, 70, 69, 72, 60, 70, 67, 69, 66, 62,\n",
      "         72, 70]])\n",
      "pitch-s tensor([[ 0,  0,  0, 68, 72, 65, 70, 72, 70, 73, 53, 72, 68, 67, 70, 58, 65, 68,\n",
      "         67, 65],\n",
      "        [ 0,  0, 65, 69, 62, 67, 69, 67, 70, 50, 69, 65, 64, 67, 55, 62, 65, 64,\n",
      "         62, 61],\n",
      "        [ 0, 76, 80, 73, 78, 80, 78, 81, 61, 80, 76, 75, 78, 66, 73, 76, 75, 73,\n",
      "         72, 68],\n",
      "        [70, 74, 67, 72, 74, 72, 75, 55, 74, 70, 69, 72, 60, 67, 70, 69, 67, 66,\n",
      "         62, 72]])\n"
     ]
    }
   ],
   "source": [
    "# dataset\n",
    "import os\n",
    "from starry.utils.config import Configuration\n",
    "from starry.utils.dataset_factory import loadDataset\n",
    "\n",
    "\n",
    "DATA_DIR = os.environ.get('DATA_DIR')\n",
    "\n",
    "config = Configuration.create('configs/matchjointer1-test.yaml')\n",
    "train, val = loadDataset(config, data_dir=DATA_DIR, device='cpu')\n",
    "\n",
    "print('n_examples:', train.dataset.n_examples, val.dataset.n_examples)\n",
    "\n",
    "it = iter(train)\n",
    "batch = next(it)\n",
    "print('tensors:', [(tensor.shape, tensor.dtype) for tensor in batch['criterion']], [(tensor.shape, tensor.dtype) for tensor in batch['sample']], batch['ci'].shape)\n",
    "\n",
    "next(it)\n",
    "next(it)\n",
    "next(it)\n",
    "batch = next(it)\n",
    "print('cis:', batch['ci'][:, -15:])\n",
    "print('sample_mask:', batch['sample'][1] > 0)\n",
    "print('pitch-c', batch['criterion'][1][:, :20])\n",
    "print('pitch-s', batch['sample'][1][:, -20:])\n"
   ]
  },
  {
   "cell_type": "code",
   "execution_count": 3,
   "metadata": {},
   "outputs": [
    {
     "name": "stdout",
     "output_type": "stream",
     "text": [
      "loss: tensor(0.2318, grad_fn=<BinaryCrossEntropyBackward0>)\n",
      "metric: {'accuracy': 0.0}\n"
     ]
    }
   ],
   "source": [
    "# MatchJointer1Loss\n",
    "import torch\n",
    "\n",
    "from starry.utils.config import Configuration\n",
    "from starry.utils.model_factory import loadModel\n",
    "\n",
    "\n",
    "config = Configuration.createOrLoad('configs/matchjointer1-test.yaml')\n",
    "model = loadModel(config['model'], postfix='Loss')\n",
    "\n",
    "loss, metric = model(batch)\n",
    "\n",
    "print('loss:', loss)\n",
    "print('metric:', metric)\n"
   ]
  }
 ],
 "metadata": {
  "interpreter": {
   "hash": "be3796fc9b55cd7f6a5d10711c997676f9730370d5a1c0260123ba12108861c5"
  },
  "kernelspec": {
   "display_name": "Python 3.6.9 ('env': venv)",
   "language": "python",
   "name": "python3"
  },
  "language_info": {
   "codemirror_mode": {
    "name": "ipython",
    "version": 3
   },
   "file_extension": ".py",
   "mimetype": "text/x-python",
   "name": "python",
   "nbconvert_exporter": "python",
   "pygments_lexer": "ipython3",
   "version": "3.6.9"
  },
  "orig_nbformat": 4
 },
 "nbformat": 4,
 "nbformat_minor": 2
}
