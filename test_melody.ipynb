{
 "cells": [
  {
   "cell_type": "code",
   "execution_count": 2,
   "metadata": {},
   "outputs": [
    {
     "name": "stdout",
     "output_type": "stream",
     "text": [
      "matching: torch.Size([1, 6, 10])\n",
      "c_vec: torch.Size([1, 6, 128])\n",
      "s_vec: torch.Size([1, 128, 10])\n"
     ]
    }
   ],
   "source": [
    "# MatchJointerRaw test\n",
    "import torch\n",
    "\n",
    "from starry.utils.config import Configuration\n",
    "from starry.utils.model_factory import loadModel\n",
    "\n",
    "\n",
    "config = Configuration.createOrLoad('configs/matchjointer1-test.yaml')\n",
    "model = loadModel(config['model'])\n",
    "\n",
    "\n",
    "c_time, c_pitch, c_velocity = torch.rand(1, 10) * 10000, torch.randint(128, (1, 10)), torch.rand(1, 10) * 127\n",
    "s_time, s_pitch, s_velocity = torch.rand(1, 6) * 10000, torch.randint(128, (1, 6)), torch.rand(1, 6) * 127\n",
    "\n",
    "matching, c_vec, s_vec = model(c_time, c_pitch, c_velocity, s_time, s_pitch, s_velocity)\n",
    "\n",
    "print('matching:', matching.shape)\n",
    "print('c_vec:', c_vec.shape)\n",
    "print('s_vec:', s_vec.shape)\n"
   ]
  },
  {
   "cell_type": "code",
   "execution_count": 1,
   "metadata": {},
   "outputs": [
    {
     "name": "stderr",
     "output_type": "stream",
     "text": [
      "/home/xunan/work/deep-starry-melody/env/lib/python3.6/site-packages/tqdm/auto.py:22: TqdmWarning: IProgress not found. Please update jupyter and ipywidgets. See https://ipywidgets.readthedocs.io/en/stable/user_install.html\n",
      "  from .autonotebook import tqdm as notebook_tqdm\n"
     ]
    },
    {
     "name": "stdout",
     "output_type": "stream",
     "text": [
      "n_examples: 1135 847\n",
      "tensors: [(torch.Size([4, 64]), torch.float32), (torch.Size([4, 64]), torch.int64), (torch.Size([4, 64]), torch.float32)] [(torch.Size([4, 64]), torch.float32), (torch.Size([4, 64]), torch.int64), (torch.Size([4, 64]), torch.float32), (torch.Size([4, 64]), torch.float32), (torch.Size([4, 64]), torch.bool)] torch.Size([4, 64])\n",
      "cis: tensor([[ 1,  6,  4,  4,  5,  9,  8,  8,  7, 10, 12, 11, 13, 14, 15],\n",
      "        [ 6,  4,  4,  5,  9,  8,  8,  7, 10, 12, 11, 13, 14, 15, 16],\n",
      "        [ 4,  4,  5,  9,  8,  8,  7, 10, 12, 11, 13, 14, 15, 16, 17],\n",
      "        [ 4,  5,  9,  8,  8,  7, 10, 12, 11, 13, 14, 15, 16, 17, 18]])\n",
      "sample_mask: tensor([[False, False, False, False, False, False, False, False, False, False,\n",
      "         False, False, False, False, False, False, False, False, False, False,\n",
      "         False, False, False, False, False, False, False, False, False, False,\n",
      "         False, False, False, False, False, False, False, False, False, False,\n",
      "         False, False, False, False, False, False, False,  True,  True,  True,\n",
      "          True,  True,  True,  True,  True,  True,  True,  True,  True,  True,\n",
      "          True,  True,  True,  True],\n",
      "        [False, False, False, False, False, False, False, False, False, False,\n",
      "         False, False, False, False, False, False, False, False, False, False,\n",
      "         False, False, False, False, False, False, False, False, False, False,\n",
      "         False, False, False, False, False, False, False, False, False, False,\n",
      "         False, False, False, False, False, False,  True,  True,  True,  True,\n",
      "          True,  True,  True,  True,  True,  True,  True,  True,  True,  True,\n",
      "          True,  True,  True,  True],\n",
      "        [False, False, False, False, False, False, False, False, False, False,\n",
      "         False, False, False, False, False, False, False, False, False, False,\n",
      "         False, False, False, False, False, False, False, False, False, False,\n",
      "         False, False, False, False, False, False, False, False, False, False,\n",
      "         False, False, False, False, False,  True,  True,  True,  True,  True,\n",
      "          True,  True,  True,  True,  True,  True,  True,  True,  True,  True,\n",
      "          True,  True,  True,  True],\n",
      "        [False, False, False, False, False, False, False, False, False, False,\n",
      "         False, False, False, False, False, False, False, False, False, False,\n",
      "         False, False, False, False, False, False, False, False, False, False,\n",
      "         False, False, False, False, False, False, False, False, False, False,\n",
      "         False, False, False, False,  True,  True,  True,  True,  True,  True,\n",
      "          True,  True,  True,  True,  True,  True,  True,  True,  True,  True,\n",
      "          True,  True,  True,  True]])\n",
      "pitch-c tensor([[45, 61, 64, 62, 66, 45, 45, 59, 68, 61, 69, 45, 73, 64, 64, 45, 62, 66,\n",
      "         68, 66],\n",
      "        [66, 82, 85, 83, 87, 66, 66, 80, 89, 82, 90, 66, 94, 85, 85, 66, 83, 87,\n",
      "         89, 87],\n",
      "        [45, 61, 64, 62, 66, 45, 45, 59, 68, 61, 69, 45, 73, 64, 64, 45, 62, 66,\n",
      "         68, 66],\n",
      "        [46, 62, 65, 63, 67, 46, 46, 60, 69, 62, 70, 46, 74, 65, 65, 46, 63, 67,\n",
      "         69, 67]])\n",
      "pitch-s tensor([[ 0,  0,  0, 61, 64, 45, 45, 62, 60, 66, 68, 60, 59, 45, 61, 45, 69, 73,\n",
      "         64, 64],\n",
      "        [ 0,  0, 82, 85, 66, 66, 83, 81, 87, 89, 81, 80, 66, 82, 66, 90, 94, 85,\n",
      "         85, 66],\n",
      "        [ 0, 61, 64, 45, 45, 62, 60, 66, 68, 60, 59, 45, 61, 45, 69, 73, 64, 64,\n",
      "         45, 62],\n",
      "        [62, 65, 46, 46, 63, 61, 67, 69, 61, 60, 46, 62, 46, 70, 74, 65, 65, 46,\n",
      "         63, 67]])\n",
      "time-s: tensor([[    0.0000,     0.0000,     0.0000, -3099.0332, -3091.1050, -3087.2773,\n",
      "         -2063.5503, -2057.1853, -2056.3176, -2051.8582, -1251.2698, -1228.4396,\n",
      "         -1227.3978, -1207.3154,  -643.7817,  -611.3353,  -584.2770,  -373.6436,\n",
      "          -109.8283,     0.0000],\n",
      "        [    0.0000,     0.0000, -2930.0339, -2922.7192, -2919.1877, -1974.6582,\n",
      "         -1968.7859, -1967.9852, -1963.8708, -1225.2177, -1204.1537, -1203.1925,\n",
      "         -1184.6637,  -664.7262,  -634.7899,  -609.8249,  -415.4866,  -172.0806,\n",
      "           -70.7489,     0.0000],\n",
      "        [    0.0000, -3312.6111, -3304.3542, -3300.3679, -2234.1907, -2227.5618,\n",
      "         -2226.6582, -2222.0137, -1388.2280, -1364.4512, -1363.3662, -1342.4510,\n",
      "          -755.5497,  -721.7579,  -693.5776,  -474.2101,  -199.4554,   -85.0729,\n",
      "            -5.2121,     0.0000],\n",
      "        [-3089.5378, -3081.8960, -3078.2068, -2091.4478, -2085.3127, -2084.4763,\n",
      "         -2080.1780, -1308.5000, -1286.4943, -1285.4902, -1266.1329,  -722.9492,\n",
      "          -691.6746,  -665.5933,  -462.5663,  -208.2777,  -102.4154,   -28.5034,\n",
      "           -23.6795,     0.0000]])\n",
      "time-c: tensor([[-2235., -2235., -2225., -1450., -1450., -1440.,  -700.,  -700.,  -700.,\n",
      "           -10.,     0.,    10.,   335.,   510.,   670.,   710.,   735.,   755.,\n",
      "           815.,   885.,  1390.,  2055.,  2080.,  2380.,  2555.,  2730.,  2755.,\n",
      "          3075.,     0.,     0.,     0.,     0.,     0.,     0.,     0.,     0.,\n",
      "             0.,     0.,     0.,     0.,     0.,     0.,     0.,     0.,     0.,\n",
      "             0.,     0.,     0.,     0.,     0.,     0.,     0.,     0.,     0.,\n",
      "             0.,     0.,     0.,     0.,     0.,     0.,     0.,     0.,     0.,\n",
      "             0.],\n",
      "        [-2970., -2970., -2960., -2185., -2185., -2175., -1435., -1435., -1435.,\n",
      "          -745.,  -735.,  -725.,  -400.,  -225.,   -65.,   -25.,     0.,    20.,\n",
      "            80.,   150.,   655.,  1320.,  1345.,  1645.,  1820.,  1995.,  2020.,\n",
      "          2340.,  2510.,  2715.,  2720.,  3055.,  3230.,  3390.,     0.,     0.,\n",
      "             0.,     0.,     0.,     0.,     0.,     0.,     0.,     0.,     0.,\n",
      "             0.,     0.,     0.,     0.,     0.,     0.,     0.,     0.,     0.,\n",
      "             0.,     0.,     0.,     0.,     0.,     0.,     0.,     0.,     0.,\n",
      "             0.],\n",
      "        [-2945., -2945., -2935., -2160., -2160., -2150., -1410., -1410., -1410.,\n",
      "          -720.,  -710.,  -700.,  -375.,  -200.,   -40.,     0.,    25.,    45.,\n",
      "           105.,   175.,   680.,  1345.,  1370.,  1670.,  1845.,  2020.,  2045.,\n",
      "          2365.,  2535.,  2740.,  2745.,  3080.,  3255.,     0.,     0.,     0.,\n",
      "             0.,     0.,     0.,     0.,     0.,     0.,     0.,     0.,     0.,\n",
      "             0.,     0.,     0.,     0.,     0.,     0.,     0.,     0.,     0.,\n",
      "             0.,     0.,     0.,     0.,     0.,     0.,     0.,     0.,     0.,\n",
      "             0.],\n",
      "        [-3050., -3050., -3040., -2265., -2265., -2255., -1515., -1515., -1515.,\n",
      "          -825.,  -815.,  -805.,  -480.,  -305.,  -145.,  -105.,   -80.,   -60.,\n",
      "             0.,    70.,   575.,  1240.,  1265.,  1565.,  1740.,  1915.,  1940.,\n",
      "          2260.,  2430.,  2635.,  2640.,  2975.,  3150.,  3310.,  3330.,  3490.,\n",
      "             0.,     0.,     0.,     0.,     0.,     0.,     0.,     0.,     0.,\n",
      "             0.,     0.,     0.,     0.,     0.,     0.,     0.,     0.,     0.,\n",
      "             0.,     0.,     0.,     0.,     0.,     0.,     0.,     0.,     0.,\n",
      "             0.]])\n",
      "time-sc: tensor([[0., 0., 0., 0., 0., 0., 0., 0., 0., 0., 0., 0., 0., 0., 0., 0., 0., 0., 0., 0., 0., 0., 0., 0.,\n",
      "         0., 0., 0., 0., 0., 0., 0., 0., 0., 0., 0., 0., 0., 0., 0., 0., 0., 0., 0., 0., 0., 0., 0., 0.,\n",
      "         0., 0., 0., 0., 0., 0., 0., 0., 0., 0., 0., 0., 0., 0., 0., 0.],\n",
      "        [0., 0., 0., 0., 0., 0., 0., 0., 0., 0., 0., 0., 0., 0., 0., 0., 0., 0., 0., 0., 0., 0., 0., 0.,\n",
      "         0., 0., 0., 0., 0., 0., 0., 0., 0., 0., 0., 0., 0., 0., 0., 0., 0., 0., 0., 0., 0., 0., 0., 0.,\n",
      "         0., 0., 0., 0., 0., 0., 0., 0., 0., 0., 0., 0., 0., 0., 0., 0.],\n",
      "        [0., 0., 0., 0., 0., 0., 0., 0., 0., 0., 0., 0., 0., 0., 0., 0., 0., 0., 0., 0., 0., 0., 0., 0.,\n",
      "         0., 0., 0., 0., 0., 0., 0., 0., 0., 0., 0., 0., 0., 0., 0., 0., 0., 0., 0., 0., 0., 0., 0., 0.,\n",
      "         0., 0., 0., 0., 0., 0., 0., 0., 0., 0., 0., 0., 0., 0., 0., 0.],\n",
      "        [0., 0., 0., 0., 0., 0., 0., 0., 0., 0., 0., 0., 0., 0., 0., 0., 0., 0., 0., 0., 0., 0., 0., 0.,\n",
      "         0., 0., 0., 0., 0., 0., 0., 0., 0., 0., 0., 0., 0., 0., 0., 0., 0., 0., 0., 0., 0., 0., 0., 0.,\n",
      "         0., 0., 0., 0., 0., 0., 0., 0., 0., 0., 0., 0., 0., 0., 0., 0.]])\n",
      "time-sc-mask: tensor([[True, True, True, True, True, True, True, True, True, True, True, True,\n",
      "         True, True, True, True, True, True, True, True, True, True, True, True,\n",
      "         True, True, True, True, True, True, True, True, True, True, True, True,\n",
      "         True, True, True, True, True, True, True, True, True, True, True, True,\n",
      "         True, True, True, True, True, True, True, True, True, True, True, True,\n",
      "         True, True, True, True],\n",
      "        [True, True, True, True, True, True, True, True, True, True, True, True,\n",
      "         True, True, True, True, True, True, True, True, True, True, True, True,\n",
      "         True, True, True, True, True, True, True, True, True, True, True, True,\n",
      "         True, True, True, True, True, True, True, True, True, True, True, True,\n",
      "         True, True, True, True, True, True, True, True, True, True, True, True,\n",
      "         True, True, True, True],\n",
      "        [True, True, True, True, True, True, True, True, True, True, True, True,\n",
      "         True, True, True, True, True, True, True, True, True, True, True, True,\n",
      "         True, True, True, True, True, True, True, True, True, True, True, True,\n",
      "         True, True, True, True, True, True, True, True, True, True, True, True,\n",
      "         True, True, True, True, True, True, True, True, True, True, True, True,\n",
      "         True, True, True, True],\n",
      "        [True, True, True, True, True, True, True, True, True, True, True, True,\n",
      "         True, True, True, True, True, True, True, True, True, True, True, True,\n",
      "         True, True, True, True, True, True, True, True, True, True, True, True,\n",
      "         True, True, True, True, True, True, True, True, True, True, True, True,\n",
      "         True, True, True, True, True, True, True, True, True, True, True, True,\n",
      "         True, True, True, True]])\n"
     ]
    }
   ],
   "source": [
    "# dataset\n",
    "import os\n",
    "from starry.utils.config import Configuration\n",
    "from starry.utils.dataset_factory import loadDataset\n",
    "\n",
    "\n",
    "DATA_DIR = os.environ.get('DATA_DIR')\n",
    "\n",
    "config = Configuration.create('configs/matchjointer2-test.yaml')\n",
    "train, val = loadDataset(config, data_dir=DATA_DIR, device='cpu')\n",
    "\n",
    "print('n_examples:', train.dataset.n_examples, val.dataset.n_examples)\n",
    "\n",
    "it = iter(train)\n",
    "batch = next(it)\n",
    "print('tensors:', [(tensor.shape, tensor.dtype) for tensor in batch['criterion']], [(tensor.shape, tensor.dtype) for tensor in batch['sample']], batch['ci'].shape)\n",
    "\n",
    "next(it)\n",
    "next(it)\n",
    "next(it)\n",
    "batch = next(it)\n",
    "print('cis:', batch['ci'][:, -15:])\n",
    "print('sample_mask:', batch['sample'][1] > 0)\n",
    "print('pitch-c', batch['criterion'][1][:, :20])\n",
    "print('pitch-s', batch['sample'][1][:, -20:])\n",
    "print('time-s:', batch['sample'][0][:, -20:])\n",
    "print('time-c:', batch['criterion'][0][:, :])\n",
    "print('time-sc:', batch['sample'][3][:, :])\n",
    "print('time-sc-mask:', batch['sample'][4][:, :])\n"
   ]
  },
  {
   "cell_type": "code",
   "execution_count": 2,
   "metadata": {},
   "outputs": [
    {
     "name": "stdout",
     "output_type": "stream",
     "text": [
      "loss: tensor(0.9049, grad_fn=<AddBackward0>)\n",
      "metric: {'acc_full': 0.08108108108108109, 'acc_c1': 0.08108108108108109, 'acc_tail8': 0.03125, 'acc_tip': 0.0}\n"
     ]
    }
   ],
   "source": [
    "# MatchJointer1Loss\n",
    "import torch\n",
    "\n",
    "from starry.utils.config import Configuration\n",
    "from starry.utils.model_factory import loadModel\n",
    "\n",
    "\n",
    "config = Configuration.createOrLoad('configs/matchjointer1-test.yaml')\n",
    "model = loadModel(config['model'], postfix='Loss')\n",
    "\n",
    "loss, metric = model(batch)\n",
    "\n",
    "print('loss:', loss)\n",
    "print('metric:', metric)\n"
   ]
  },
  {
   "cell_type": "code",
   "execution_count": 2,
   "metadata": {},
   "outputs": [
    {
     "name": "stdout",
     "output_type": "stream",
     "text": [
      "loss: tensor(0.4326, grad_fn=<AddBackward0>)\n",
      "metric: {'loss_orth': tensor(0.5691, grad_fn=<MeanBackward0>), 'acc_full': 0.21621621621621623, 'acc_c1': 0.21621621621621623, 'acc_tail8': 0.28125, 'acc_tip': 0.0, 'acc_guid': 0.0, 'acc_ng': 0.21621621621621623}\n"
     ]
    }
   ],
   "source": [
    "# MatchJointer2PlusLoss\n",
    "import torch\n",
    "\n",
    "from starry.utils.config import Configuration\n",
    "from starry.utils.model_factory import loadModel\n",
    "\n",
    "\n",
    "config = Configuration.createOrLoad('configs/matchjointer2plusI-test.yaml')\n",
    "model = loadModel(config['model'], postfix='Loss')\n",
    "\n",
    "loss, metric = model(batch)\n",
    "\n",
    "print('loss:', loss)\n",
    "print('metric:', metric)\n"
   ]
  },
  {
   "cell_type": "code",
   "execution_count": 2,
   "metadata": {},
   "outputs": [
    {
     "name": "stdout",
     "output_type": "stream",
     "text": [
      "prod: tensor([[[1.0000, 0.4778, 0.6071,  ..., 0.3946, 0.4345, 0.4036],\n",
      "         [0.4778, 1.0000, 0.2963,  ..., 0.3182, 0.3821, 0.3645],\n",
      "         [0.6071, 0.2963, 1.0000,  ..., 0.1527, 0.2537, 0.1823],\n",
      "         ...,\n",
      "         [0.3946, 0.3182, 0.1527,  ..., 1.0000, 0.8633, 0.8685],\n",
      "         [0.4345, 0.3821, 0.2537,  ..., 0.8633, 1.0000, 0.8511],\n",
      "         [0.4036, 0.3645, 0.1823,  ..., 0.8685, 0.8511, 1.0000]],\n",
      "\n",
      "        [[1.0000, 0.4223, 0.5442,  ..., 0.2787, 0.2422, 0.2816],\n",
      "         [0.4223, 1.0000, 0.4499,  ..., 0.2012, 0.1890, 0.2677],\n",
      "         [0.5442, 0.4499, 1.0000,  ..., 0.3435, 0.3205, 0.3489],\n",
      "         ...,\n",
      "         [0.2787, 0.2012, 0.3435,  ..., 1.0000, 0.9242, 0.8962],\n",
      "         [0.2422, 0.1890, 0.3205,  ..., 0.9242, 1.0000, 0.8573],\n",
      "         [0.2816, 0.2677, 0.3489,  ..., 0.8962, 0.8573, 1.0000]],\n",
      "\n",
      "        [[1.0000, 0.3276, 0.5554,  ..., 0.2657, 0.2640, 0.2050],\n",
      "         [0.3276, 1.0000, 0.3875,  ..., 0.2441, 0.2402, 0.1193],\n",
      "         [0.5554, 0.3875, 1.0000,  ..., 0.3520, 0.3444, 0.3180],\n",
      "         ...,\n",
      "         [0.2657, 0.2441, 0.3520,  ..., 1.0000, 0.9247, 0.8700],\n",
      "         [0.2640, 0.2402, 0.3444,  ..., 0.9247, 1.0000, 0.8542],\n",
      "         [0.2050, 0.1193, 0.3180,  ..., 0.8700, 0.8542, 1.0000]],\n",
      "\n",
      "        [[1.0000, 0.3770, 0.5595,  ..., 0.4652, 0.3734, 0.4110],\n",
      "         [0.3770, 1.0000, 0.4243,  ..., 0.4111, 0.3842, 0.3840],\n",
      "         [0.5595, 0.4243, 1.0000,  ..., 0.7057, 0.6107, 0.6367],\n",
      "         ...,\n",
      "         [0.4652, 0.4111, 0.7057,  ..., 1.0000, 0.8621, 0.8943],\n",
      "         [0.3734, 0.3842, 0.6107,  ..., 0.8621, 1.0000, 0.8232],\n",
      "         [0.4110, 0.3840, 0.6367,  ..., 0.8943, 0.8232, 1.0000]]],\n",
      "       grad_fn=<UnsafeViewBackward0>)\n"
     ]
    }
   ],
   "source": [
    "# tar * tar\n",
    "import torch\n",
    "\n",
    "from starry.utils.config import Configuration\n",
    "from starry.utils.model_factory import loadModel\n",
    "\n",
    "\n",
    "config = Configuration.createOrLoad('configs/matchjointer3-test.yaml')\n",
    "model = loadModel(config['model'])\n",
    "\n",
    "criterion, sample = batch['criterion'], batch['sample']\n",
    "matching, code_src, code_tar = model(*criterion, *sample)\n",
    "\n",
    "code_tar_trans = code_tar.transpose(-2, -1)\n",
    "prod = code_tar.matmul(code_tar_trans)\n",
    "\n",
    "print('prod:', prod)\n"
   ]
  },
  {
   "cell_type": "code",
   "execution_count": 1,
   "metadata": {},
   "outputs": [
    {
     "name": "stderr",
     "output_type": "stream",
     "text": [
      "/home/xunan/work/deep-starry-melody/env/lib/python3.6/site-packages/tqdm/auto.py:22: TqdmWarning: IProgress not found. Please update jupyter and ipywidgets. See https://ipywidgets.readthedocs.io/en/stable/user_install.html\n",
      "  from .autonotebook import tqdm as notebook_tqdm\n"
     ]
    },
    {
     "name": "stdout",
     "output_type": "stream",
     "text": [
      "tensors: [(torch.Size([16, 32]), torch.float32), (torch.Size([16, 32, 88]), torch.float32)] [(torch.Size([16, 16]), torch.float32), (torch.Size([16, 16, 88]), torch.float32)] torch.Size([16, 16])\n"
     ]
    }
   ],
   "source": [
    "# FramePair\n",
    "import os\n",
    "from starry.utils.config import Configuration\n",
    "from starry.utils.dataset_factory import loadDataset\n",
    "\n",
    "\n",
    "DATA_DIR = os.environ.get('DATA_DIR')\n",
    "\n",
    "config = Configuration.create('configs/framepair.yaml')\n",
    "train, val = loadDataset(config, data_dir=DATA_DIR, device='cpu')\n",
    "\n",
    "it = iter(train)\n",
    "batch = next(it)\n",
    "print('tensors:', [(tensor.shape, tensor.dtype) for tensor in batch['criterion']], [(tensor.shape, tensor.dtype) for tensor in batch['sample']], batch['ci'].shape)\n"
   ]
  },
  {
   "cell_type": "code",
   "execution_count": 2,
   "metadata": {},
   "outputs": [
    {
     "name": "stdout",
     "output_type": "stream",
     "text": [
      "loss: tensor(0.4883, grad_fn=<AddBackward0>)\n",
      "metric: {'loss_orth': tensor(0.4126, grad_fn=<MeanBackward0>), 'acc_full': 0.11764705882352941, 'acc_c1': 0.11764705882352941, 'acc_tail8': 0.12, 'acc_tip': 0.0}\n"
     ]
    }
   ],
   "source": [
    "# FrameMatchJointerLoss\n",
    "import torch\n",
    "\n",
    "from starry.utils.config import Configuration\n",
    "from starry.utils.model_factory import loadModel\n",
    "\n",
    "\n",
    "config = Configuration.createOrLoad('configs/framematchjointer-test.yaml')\n",
    "model = loadModel(config['model'], postfix='Loss')\n",
    "\n",
    "loss, metric = model(batch)\n",
    "\n",
    "print('loss:', loss)\n",
    "print('metric:', metric)\n"
   ]
  }
 ],
 "metadata": {
  "interpreter": {
   "hash": "be3796fc9b55cd7f6a5d10711c997676f9730370d5a1c0260123ba12108861c5"
  },
  "kernelspec": {
   "display_name": "Python 3.6.9 ('env': venv)",
   "language": "python",
   "name": "python3"
  },
  "language_info": {
   "codemirror_mode": {
    "name": "ipython",
    "version": 3
   },
   "file_extension": ".py",
   "mimetype": "text/x-python",
   "name": "python",
   "nbconvert_exporter": "python",
   "pygments_lexer": "ipython3",
   "version": "3.6.9"
  },
  "orig_nbformat": 4
 },
 "nbformat": 4,
 "nbformat_minor": 2
}
