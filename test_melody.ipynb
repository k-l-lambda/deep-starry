{
 "cells": [
  {
   "cell_type": "code",
   "execution_count": 2,
   "metadata": {},
   "outputs": [
    {
     "name": "stdout",
     "output_type": "stream",
     "text": [
      "matching: torch.Size([1, 6, 10])\n",
      "c_vec: torch.Size([1, 6, 128])\n",
      "s_vec: torch.Size([1, 128, 10])\n"
     ]
    }
   ],
   "source": [
    "# MatchJointerRaw test\n",
    "import torch\n",
    "\n",
    "from starry.utils.config import Configuration\n",
    "from starry.utils.model_factory import loadModel\n",
    "\n",
    "\n",
    "config = Configuration.createOrLoad('configs/matchjointer1-test.yaml')\n",
    "model = loadModel(config['model'])\n",
    "\n",
    "\n",
    "c_time, c_pitch, c_velocity = torch.rand(1, 10) * 10000, torch.randint(128, (1, 10)), torch.rand(1, 10) * 127\n",
    "s_time, s_pitch, s_velocity = torch.rand(1, 6) * 10000, torch.randint(128, (1, 6)), torch.rand(1, 6) * 127\n",
    "\n",
    "matching, c_vec, s_vec = model(c_time, c_pitch, c_velocity, s_time, s_pitch, s_velocity)\n",
    "\n",
    "print('matching:', matching.shape)\n",
    "print('c_vec:', c_vec.shape)\n",
    "print('s_vec:', s_vec.shape)\n"
   ]
  },
  {
   "cell_type": "code",
   "execution_count": 1,
   "metadata": {},
   "outputs": [
    {
     "name": "stderr",
     "output_type": "stream",
     "text": [
      "/home/xunan/work/deep-starry-melody/env/lib/python3.6/site-packages/tqdm/auto.py:22: TqdmWarning: IProgress not found. Please update jupyter and ipywidgets. See https://ipywidgets.readthedocs.io/en/stable/user_install.html\n",
      "  from .autonotebook import tqdm as notebook_tqdm\n"
     ]
    },
    {
     "name": "stdout",
     "output_type": "stream",
     "text": [
      "n_examples: 2365991 1186625\n",
      "tensors: [(torch.Size([4, 64]), torch.float32), (torch.Size([4, 64]), torch.int64), (torch.Size([4, 64]), torch.float32)] [(torch.Size([4, 64]), torch.float32), (torch.Size([4, 64]), torch.int64), (torch.Size([4, 64]), torch.float32), (torch.Size([4, 64]), torch.int64), (torch.Size([4, 64]), torch.bool)] torch.Size([4, 64])\n",
      "cis: tensor([[ 3,  4,  7,  5,  8,  8, 10, 11, 11,  9, 12, 13, 13, 14, 16],\n",
      "        [ 4,  7,  5,  8,  8, 10, 11, 11,  9, 12, 13, 13, 14, 16, 15],\n",
      "        [ 7,  5,  8,  8, 10, 11, 11,  9, 12, 13, 13, 14, 16, 15, 17],\n",
      "        [ 5,  8,  8, 10, 11, 11,  9, 12, 13, 13, 14, 16, 15, 17, 18]])\n",
      "sample_mask: tensor([[False, False, False, False, False, False, False, False, False, False,\n",
      "         False, False, False, False, False, False, False, False, False, False,\n",
      "         False, False, False, False, False, False, False, False, False, False,\n",
      "         False, False, False, False, False, False, False, False, False, False,\n",
      "         False, False, False, False, False, False, False,  True,  True,  True,\n",
      "          True,  True,  True,  True,  True,  True,  True,  True,  True,  True,\n",
      "          True,  True,  True,  True],\n",
      "        [False, False, False, False, False, False, False, False, False, False,\n",
      "         False, False, False, False, False, False, False, False, False, False,\n",
      "         False, False, False, False, False, False, False, False, False, False,\n",
      "         False, False, False, False, False, False, False, False, False, False,\n",
      "         False, False, False, False, False, False,  True,  True,  True,  True,\n",
      "          True,  True,  True,  True,  True,  True,  True,  True,  True,  True,\n",
      "          True,  True,  True,  True],\n",
      "        [False, False, False, False, False, False, False, False, False, False,\n",
      "         False, False, False, False, False, False, False, False, False, False,\n",
      "         False, False, False, False, False, False, False, False, False, False,\n",
      "         False, False, False, False, False, False, False, False, False, False,\n",
      "         False, False, False, False, False,  True,  True,  True,  True,  True,\n",
      "          True,  True,  True,  True,  True,  True,  True,  True,  True,  True,\n",
      "          True,  True,  True,  True],\n",
      "        [False, False, False, False, False, False, False, False, False, False,\n",
      "         False, False, False, False, False, False, False, False, False, False,\n",
      "         False, False, False, False, False, False, False, False, False, False,\n",
      "         False, False, False, False, False, False, False, False, False, False,\n",
      "         False, False, False, False,  True,  True,  True,  True,  True,  True,\n",
      "          True,  True,  True,  True,  True,  True,  True,  True,  True,  True,\n",
      "          True,  True,  True,  True]])\n",
      "pitch-c tensor([[ 1, 57, 62, 74, 66, 69, 81, 74, 66, 69, 78, 81, 63, 73, 64, 81, 73, 67,\n",
      "         69, 76],\n",
      "        [ 1, 39, 44, 56, 48, 51, 63, 56, 48, 51, 60, 63, 45, 55, 46, 63, 55, 49,\n",
      "         51, 58],\n",
      "        [ 1, 56, 61, 73, 65, 68, 80, 73, 65, 68, 77, 80, 62, 72, 63, 80, 72, 66,\n",
      "         68, 75],\n",
      "        [ 1, 46, 51, 63, 55, 58, 70, 63, 55, 58, 67, 70, 52, 62, 53, 70, 62, 56,\n",
      "         58, 65]])\n",
      "pitch-s tensor([[ 0,  0,  0,  1, 57, 62, 74, 81, 66, 72, 74, 69, 80, 78, 66, 81, 65, 63,\n",
      "         73, 81],\n",
      "        [ 0,  0,  1, 39, 44, 56, 63, 48, 54, 56, 51, 62, 60, 48, 63, 47, 45, 55,\n",
      "         63, 46],\n",
      "        [ 0,  1, 56, 61, 73, 80, 65, 71, 73, 68, 79, 77, 65, 80, 64, 62, 72, 80,\n",
      "         63, 72],\n",
      "        [ 1, 46, 51, 63, 70, 55, 61, 63, 58, 69, 67, 55, 70, 54, 52, 62, 70, 53,\n",
      "         62, 56]])\n",
      "time-s: tensor([[ 0.0000e+00,  0.0000e+00,  0.0000e+00, -7.0847e+03, -7.0847e+03,\n",
      "         -5.8313e+03, -5.1565e+03, -4.1866e+03, -4.1850e+03, -3.5070e+03,\n",
      "         -3.5063e+03, -2.8806e+03, -2.8795e+03, -2.8793e+03, -2.8715e+03,\n",
      "         -2.0202e+03, -1.3141e+03, -1.3140e+03, -6.9758e+02,  0.0000e+00],\n",
      "        [ 0.0000e+00,  0.0000e+00, -6.4913e+03, -6.4913e+03, -5.3431e+03,\n",
      "         -4.7250e+03, -3.8365e+03, -3.8350e+03, -3.2140e+03, -3.2133e+03,\n",
      "         -2.6401e+03, -2.6392e+03, -2.6390e+03, -2.6318e+03, -1.8520e+03,\n",
      "         -1.2051e+03, -1.2051e+03, -6.4039e+02, -1.3652e+00,  0.0000e+00],\n",
      "        [ 0.0000e+00, -5.8455e+03, -5.8455e+03, -4.9096e+03, -4.4058e+03,\n",
      "         -3.6816e+03, -3.6804e+03, -3.1742e+03, -3.1736e+03, -2.7064e+03,\n",
      "         -2.7057e+03, -2.7055e+03, -2.6997e+03, -2.0641e+03, -1.5368e+03,\n",
      "         -1.5367e+03, -1.0765e+03, -5.5563e+02, -5.5452e+02,  0.0000e+00],\n",
      "        [-6.9390e+03, -6.9390e+03, -5.9174e+03, -5.3674e+03, -4.5769e+03,\n",
      "         -4.5756e+03, -4.0230e+03, -4.0224e+03, -3.5125e+03, -3.5116e+03,\n",
      "         -3.5114e+03, -3.5051e+03, -2.8113e+03, -2.2357e+03, -2.2357e+03,\n",
      "         -1.7333e+03, -1.1647e+03, -1.1635e+03, -5.5819e+02,  0.0000e+00]])\n",
      "time-c: tensor([[-4609.3740, -4609.3740, -3461.5378, -2884.6147, -2307.6919, -2307.6919,\n",
      "         -2307.6919, -1730.7688, -1153.8457, -1153.8457, -1153.8457,  -576.9229,\n",
      "             0.0000,   576.9233,  1153.8462,  1153.8462,  1730.7690,  2307.6924,\n",
      "          2307.6924,  2307.6924,  2884.6152,  3461.5381,  3461.5381,  4615.3838,\n",
      "          5769.2305,  6346.1533,  6923.0762,  6923.0762,  6923.0762,  7499.9990,\n",
      "          8076.9219,  8076.9219,     0.0000,     0.0000,     0.0000,     0.0000,\n",
      "             0.0000,     0.0000,     0.0000,     0.0000,     0.0000,     0.0000,\n",
      "             0.0000,     0.0000,     0.0000,     0.0000,     0.0000,     0.0000,\n",
      "             0.0000,     0.0000,     0.0000,     0.0000,     0.0000,     0.0000,\n",
      "             0.0000,     0.0000,     0.0000,     0.0000,     0.0000,     0.0000,\n",
      "             0.0000,     0.0000,     0.0000,     0.0000],\n",
      "        [-6917.0664, -6917.0664, -5769.2305, -5192.3071, -4615.3843, -4615.3843,\n",
      "         -4615.3843, -4038.4612, -3461.5381, -3461.5381, -3461.5381, -2884.6152,\n",
      "         -2307.6924, -1730.7690, -1153.8462, -1153.8462,  -576.9233,     0.0000,\n",
      "             0.0000,     0.0000,   576.9229,  1153.8457,  1153.8457,  2307.6914,\n",
      "          3461.5381,  4038.4609,  4615.3838,  4615.3838,  4615.3838,  5192.3066,\n",
      "          5769.2295,  5769.2295,  5769.2295,  6346.1523,  6923.0762,  7499.9990,\n",
      "          8076.9219,  8076.9219,     0.0000,     0.0000,     0.0000,     0.0000,\n",
      "             0.0000,     0.0000,     0.0000,     0.0000,     0.0000,     0.0000,\n",
      "             0.0000,     0.0000,     0.0000,     0.0000,     0.0000,     0.0000,\n",
      "             0.0000,     0.0000,     0.0000,     0.0000,     0.0000,     0.0000,\n",
      "             0.0000,     0.0000,     0.0000,     0.0000],\n",
      "        [-6340.1431, -6340.1431, -5192.3066, -4615.3838, -4038.4609, -4038.4609,\n",
      "         -4038.4609, -3461.5378, -2884.6147, -2884.6147, -2884.6147, -2307.6919,\n",
      "         -1730.7690, -1153.8457,  -576.9229,  -576.9229,     0.0000,   576.9233,\n",
      "           576.9233,   576.9233,  1153.8462,  1730.7690,  1730.7690,  2884.6147,\n",
      "          4038.4614,  4615.3843,  5192.3071,  5192.3071,  5192.3071,  5769.2300,\n",
      "          6346.1528,  6346.1528,  6346.1528,  6923.0757,  7499.9995,  8076.9224,\n",
      "             0.0000,     0.0000,     0.0000,     0.0000,     0.0000,     0.0000,\n",
      "             0.0000,     0.0000,     0.0000,     0.0000,     0.0000,     0.0000,\n",
      "             0.0000,     0.0000,     0.0000,     0.0000,     0.0000,     0.0000,\n",
      "             0.0000,     0.0000,     0.0000,     0.0000,     0.0000,     0.0000,\n",
      "             0.0000,     0.0000,     0.0000,     0.0000],\n",
      "        [-6917.0664, -6917.0664, -5769.2305, -5192.3071, -4615.3843, -4615.3843,\n",
      "         -4615.3843, -4038.4612, -3461.5381, -3461.5381, -3461.5381, -2884.6152,\n",
      "         -2307.6924, -1730.7690, -1153.8462, -1153.8462,  -576.9233,     0.0000,\n",
      "             0.0000,     0.0000,   576.9229,  1153.8457,  1153.8457,  2307.6914,\n",
      "          3461.5381,  4038.4609,  4615.3838,  4615.3838,  4615.3838,  5192.3066,\n",
      "          5769.2295,  5769.2295,  5769.2295,  6346.1523,  6923.0762,  7499.9990,\n",
      "          8076.9219,     0.0000,     0.0000,     0.0000,     0.0000,     0.0000,\n",
      "             0.0000,     0.0000,     0.0000,     0.0000,     0.0000,     0.0000,\n",
      "             0.0000,     0.0000,     0.0000,     0.0000,     0.0000,     0.0000,\n",
      "             0.0000,     0.0000,     0.0000,     0.0000,     0.0000,     0.0000,\n",
      "             0.0000,     0.0000,     0.0000,     0.0000]])\n",
      "time-sc: tensor([[ 0,  0,  0,  0,  0,  0,  0,  0,  0,  0,  0,  0,  0,  0,  0,  0,  0,  0,\n",
      "          0,  0,  0,  0,  0,  0,  0,  0,  0,  0,  0,  0,  0,  0,  0,  0,  0,  0,\n",
      "          0,  0,  0,  0,  0,  0,  0,  0,  0,  0,  0,  1,  2,  3,  4,  7,  5,  8,\n",
      "          8, 10, 11, 11,  9, 12, 13, 13, 14, 16],\n",
      "        [ 0,  0,  0,  0,  0,  0,  0,  0,  0,  0,  0,  0,  0,  0,  0,  0,  0,  0,\n",
      "          0,  0,  0,  0,  0,  0,  0,  0,  0,  0,  0,  0,  0,  0,  0,  0,  0,  0,\n",
      "          0,  0,  0,  0,  0,  0,  0,  0,  0,  0,  1,  2,  3,  4,  7,  5,  8,  8,\n",
      "         10, 11, 11,  9, 12, 13, 13, 14, 16, 15],\n",
      "        [ 0,  0,  0,  0,  0,  0,  0,  0,  0,  0,  0,  0,  0,  0,  0,  0,  0,  0,\n",
      "          0,  0,  0,  0,  0,  0,  0,  0,  0,  0,  0,  0,  0,  0,  0,  0,  0,  0,\n",
      "          0,  0,  0,  0,  0,  0,  0,  0,  0,  1,  2,  3,  4,  7,  5,  8,  8, 10,\n",
      "         11, 11,  9, 12, 13, 13, 14, 16, 15, 17],\n",
      "        [ 0,  0,  0,  0,  0,  0,  0,  0,  0,  0,  0,  0,  0,  0,  0,  0,  0,  0,\n",
      "          0,  0,  0,  0,  0,  0,  0,  0,  0,  0,  0,  0,  0,  0,  0,  0,  0,  0,\n",
      "          0,  0,  0,  0,  0,  0,  0,  0,  1,  2,  3,  4,  7,  5,  8,  8, 10, 11,\n",
      "         11,  9, 12, 13, 13, 14, 16, 15, 17, 18]])\n",
      "time-sc-mask: tensor([[ True,  True,  True,  True,  True,  True,  True,  True,  True,  True,\n",
      "          True,  True,  True,  True,  True,  True,  True,  True,  True,  True,\n",
      "          True,  True,  True,  True,  True,  True,  True,  True,  True,  True,\n",
      "          True,  True,  True,  True,  True,  True,  True,  True,  True,  True,\n",
      "          True,  True,  True,  True,  True,  True,  True,  True, False,  True,\n",
      "         False,  True, False, False,  True, False, False, False, False, False,\n",
      "          True,  True,  True,  True],\n",
      "        [ True,  True,  True,  True,  True,  True,  True,  True,  True,  True,\n",
      "          True,  True,  True,  True,  True,  True,  True,  True,  True,  True,\n",
      "          True,  True,  True,  True,  True,  True,  True,  True,  True,  True,\n",
      "          True,  True,  True,  True,  True,  True,  True,  True,  True,  True,\n",
      "          True,  True,  True,  True,  True,  True, False,  True,  True, False,\n",
      "         False, False,  True, False, False, False,  True, False,  True,  True,\n",
      "          True,  True,  True,  True],\n",
      "        [ True,  True,  True,  True,  True,  True,  True,  True,  True,  True,\n",
      "          True,  True,  True,  True,  True,  True,  True,  True,  True,  True,\n",
      "          True,  True,  True,  True,  True,  True,  True,  True,  True,  True,\n",
      "          True,  True,  True,  True,  True,  True,  True,  True,  True,  True,\n",
      "          True,  True,  True,  True,  True, False,  True, False,  True, False,\n",
      "         False, False,  True, False, False, False,  True, False,  True,  True,\n",
      "          True,  True,  True,  True],\n",
      "        [ True,  True,  True,  True,  True,  True,  True,  True,  True,  True,\n",
      "          True,  True,  True,  True,  True,  True,  True,  True,  True,  True,\n",
      "          True,  True,  True,  True,  True,  True,  True,  True,  True,  True,\n",
      "          True,  True,  True,  True,  True,  True,  True,  True,  True,  True,\n",
      "          True,  True,  True,  True, False, False, False, False, False, False,\n",
      "         False, False, False, False, False, False,  True, False, False, False,\n",
      "         False,  True,  True,  True]])\n"
     ]
    }
   ],
   "source": [
    "# dataset\n",
    "import os\n",
    "from starry.utils.config import Configuration\n",
    "from starry.utils.dataset_factory import loadDataset\n",
    "\n",
    "\n",
    "DATA_DIR = os.environ.get('DATA_DIR')\n",
    "\n",
    "config = Configuration.create('configs/matchjointer2plusI-test.yaml')\n",
    "train, val = loadDataset(config, data_dir=DATA_DIR, device='cpu')\n",
    "\n",
    "print('n_examples:', train.dataset.n_examples, val.dataset.n_examples)\n",
    "\n",
    "it = iter(train)\n",
    "batch = next(it)\n",
    "print('tensors:', [(tensor.shape, tensor.dtype) for tensor in batch['criterion']], [(tensor.shape, tensor.dtype) for tensor in batch['sample']], batch['ci'].shape)\n",
    "\n",
    "next(it)\n",
    "next(it)\n",
    "next(it)\n",
    "batch = next(it)\n",
    "print('cis:', batch['ci'][:, -15:])\n",
    "print('sample_mask:', batch['sample'][1] > 0)\n",
    "print('pitch-c', batch['criterion'][1][:, :20])\n",
    "print('pitch-s', batch['sample'][1][:, -20:])\n",
    "print('time-s:', batch['sample'][0][:, -20:])\n",
    "print('time-c:', batch['criterion'][0][:, :])\n",
    "print('time-sc:', batch['sample'][3][:, :])\n",
    "print('time-sc-mask:', batch['sample'][4][:, :])\n"
   ]
  },
  {
   "cell_type": "code",
   "execution_count": 2,
   "metadata": {},
   "outputs": [
    {
     "name": "stdout",
     "output_type": "stream",
     "text": [
      "loss: tensor(0.9049, grad_fn=<AddBackward0>)\n",
      "metric: {'acc_full': 0.08108108108108109, 'acc_c1': 0.08108108108108109, 'acc_tail8': 0.03125, 'acc_tip': 0.0}\n"
     ]
    }
   ],
   "source": [
    "# MatchJointer1Loss\n",
    "import torch\n",
    "\n",
    "from starry.utils.config import Configuration\n",
    "from starry.utils.model_factory import loadModel\n",
    "\n",
    "\n",
    "config = Configuration.createOrLoad('configs/matchjointer1-test.yaml')\n",
    "model = loadModel(config['model'], postfix='Loss')\n",
    "\n",
    "loss, metric = model(batch)\n",
    "\n",
    "print('loss:', loss)\n",
    "print('metric:', metric)\n"
   ]
  },
  {
   "cell_type": "code",
   "execution_count": 2,
   "metadata": {},
   "outputs": [
    {
     "name": "stdout",
     "output_type": "stream",
     "text": [
      "loss: tensor(0.5715, grad_fn=<AddBackward0>)\n",
      "metric: {'loss_orth': 0.608408510684967, 'acc_full': 0.40540540540540543, 'acc_c1': 0.40540540540540543, 'acc_tail8': 0.3181818181818182, 'acc_tip': 0.0, 'acc_guid': 0.5238095238095238, 'acc_ng': 0.25}\n"
     ]
    }
   ],
   "source": [
    "# MatchJointer2PlusLoss\n",
    "import torch\n",
    "\n",
    "from starry.utils.config import Configuration\n",
    "from starry.utils.model_factory import loadModel\n",
    "\n",
    "\n",
    "config = Configuration.createOrLoad('configs/matchjointer2plusI-test.yaml')\n",
    "model = loadModel(config['model'], postfix='Loss')\n",
    "\n",
    "loss, metric = model(batch)\n",
    "\n",
    "print('loss:', loss)\n",
    "print('metric:', {k: v.value for k, v in metric.items()})\n"
   ]
  },
  {
   "cell_type": "code",
   "execution_count": 2,
   "metadata": {},
   "outputs": [
    {
     "name": "stdout",
     "output_type": "stream",
     "text": [
      "prod: tensor([[[1.0000, 0.4778, 0.6071,  ..., 0.3946, 0.4345, 0.4036],\n",
      "         [0.4778, 1.0000, 0.2963,  ..., 0.3182, 0.3821, 0.3645],\n",
      "         [0.6071, 0.2963, 1.0000,  ..., 0.1527, 0.2537, 0.1823],\n",
      "         ...,\n",
      "         [0.3946, 0.3182, 0.1527,  ..., 1.0000, 0.8633, 0.8685],\n",
      "         [0.4345, 0.3821, 0.2537,  ..., 0.8633, 1.0000, 0.8511],\n",
      "         [0.4036, 0.3645, 0.1823,  ..., 0.8685, 0.8511, 1.0000]],\n",
      "\n",
      "        [[1.0000, 0.4223, 0.5442,  ..., 0.2787, 0.2422, 0.2816],\n",
      "         [0.4223, 1.0000, 0.4499,  ..., 0.2012, 0.1890, 0.2677],\n",
      "         [0.5442, 0.4499, 1.0000,  ..., 0.3435, 0.3205, 0.3489],\n",
      "         ...,\n",
      "         [0.2787, 0.2012, 0.3435,  ..., 1.0000, 0.9242, 0.8962],\n",
      "         [0.2422, 0.1890, 0.3205,  ..., 0.9242, 1.0000, 0.8573],\n",
      "         [0.2816, 0.2677, 0.3489,  ..., 0.8962, 0.8573, 1.0000]],\n",
      "\n",
      "        [[1.0000, 0.3276, 0.5554,  ..., 0.2657, 0.2640, 0.2050],\n",
      "         [0.3276, 1.0000, 0.3875,  ..., 0.2441, 0.2402, 0.1193],\n",
      "         [0.5554, 0.3875, 1.0000,  ..., 0.3520, 0.3444, 0.3180],\n",
      "         ...,\n",
      "         [0.2657, 0.2441, 0.3520,  ..., 1.0000, 0.9247, 0.8700],\n",
      "         [0.2640, 0.2402, 0.3444,  ..., 0.9247, 1.0000, 0.8542],\n",
      "         [0.2050, 0.1193, 0.3180,  ..., 0.8700, 0.8542, 1.0000]],\n",
      "\n",
      "        [[1.0000, 0.3770, 0.5595,  ..., 0.4652, 0.3734, 0.4110],\n",
      "         [0.3770, 1.0000, 0.4243,  ..., 0.4111, 0.3842, 0.3840],\n",
      "         [0.5595, 0.4243, 1.0000,  ..., 0.7057, 0.6107, 0.6367],\n",
      "         ...,\n",
      "         [0.4652, 0.4111, 0.7057,  ..., 1.0000, 0.8621, 0.8943],\n",
      "         [0.3734, 0.3842, 0.6107,  ..., 0.8621, 1.0000, 0.8232],\n",
      "         [0.4110, 0.3840, 0.6367,  ..., 0.8943, 0.8232, 1.0000]]],\n",
      "       grad_fn=<UnsafeViewBackward0>)\n"
     ]
    }
   ],
   "source": [
    "# tar * tar\n",
    "import torch\n",
    "\n",
    "from starry.utils.config import Configuration\n",
    "from starry.utils.model_factory import loadModel\n",
    "\n",
    "\n",
    "config = Configuration.createOrLoad('configs/matchjointer3-test.yaml')\n",
    "model = loadModel(config['model'])\n",
    "\n",
    "criterion, sample = batch['criterion'], batch['sample']\n",
    "matching, code_src, code_tar = model(*criterion, *sample)\n",
    "\n",
    "code_tar_trans = code_tar.transpose(-2, -1)\n",
    "prod = code_tar.matmul(code_tar_trans)\n",
    "\n",
    "print('prod:', prod)\n"
   ]
  },
  {
   "cell_type": "code",
   "execution_count": 1,
   "metadata": {},
   "outputs": [
    {
     "name": "stderr",
     "output_type": "stream",
     "text": [
      "/home/xunan/work/deep-starry-melody/env/lib/python3.6/site-packages/tqdm/auto.py:22: TqdmWarning: IProgress not found. Please update jupyter and ipywidgets. See https://ipywidgets.readthedocs.io/en/stable/user_install.html\n",
      "  from .autonotebook import tqdm as notebook_tqdm\n"
     ]
    },
    {
     "name": "stdout",
     "output_type": "stream",
     "text": [
      "tensors: [(torch.Size([16, 32]), torch.float32), (torch.Size([16, 32, 88]), torch.float32)] [(torch.Size([16, 16]), torch.float32), (torch.Size([16, 16, 88]), torch.float32)] torch.Size([16, 16])\n"
     ]
    }
   ],
   "source": [
    "# FramePair\n",
    "import os\n",
    "from starry.utils.config import Configuration\n",
    "from starry.utils.dataset_factory import loadDataset\n",
    "\n",
    "\n",
    "DATA_DIR = os.environ.get('DATA_DIR')\n",
    "\n",
    "config = Configuration.create('configs/framepair.yaml')\n",
    "train, val = loadDataset(config, data_dir=DATA_DIR, device='cpu')\n",
    "\n",
    "it = iter(train)\n",
    "batch = next(it)\n",
    "print('tensors:', [(tensor.shape, tensor.dtype) for tensor in batch['criterion']], [(tensor.shape, tensor.dtype) for tensor in batch['sample']], batch['ci'].shape)\n"
   ]
  },
  {
   "cell_type": "code",
   "execution_count": 2,
   "metadata": {},
   "outputs": [
    {
     "name": "stdout",
     "output_type": "stream",
     "text": [
      "loss: tensor(0.4883, grad_fn=<AddBackward0>)\n",
      "metric: {'loss_orth': tensor(0.4126, grad_fn=<MeanBackward0>), 'acc_full': 0.11764705882352941, 'acc_c1': 0.11764705882352941, 'acc_tail8': 0.12, 'acc_tip': 0.0}\n"
     ]
    }
   ],
   "source": [
    "# FrameMatchJointerLoss\n",
    "import torch\n",
    "\n",
    "from starry.utils.config import Configuration\n",
    "from starry.utils.model_factory import loadModel\n",
    "\n",
    "\n",
    "config = Configuration.createOrLoad('configs/framematchjointer-test.yaml')\n",
    "model = loadModel(config['model'], postfix='Loss')\n",
    "\n",
    "loss, metric = model(batch)\n",
    "\n",
    "print('loss:', loss)\n",
    "print('metric:', metric)\n"
   ]
  }
 ],
 "metadata": {
  "interpreter": {
   "hash": "be3796fc9b55cd7f6a5d10711c997676f9730370d5a1c0260123ba12108861c5"
  },
  "kernelspec": {
   "display_name": "Python 3.6.9 ('env': venv)",
   "language": "python",
   "name": "python3"
  },
  "language_info": {
   "codemirror_mode": {
    "name": "ipython",
    "version": 3
   },
   "file_extension": ".py",
   "mimetype": "text/x-python",
   "name": "python",
   "nbconvert_exporter": "python",
   "pygments_lexer": "ipython3",
   "version": "3.6.9"
  },
  "orig_nbformat": 4
 },
 "nbformat": 4,
 "nbformat_minor": 2
}
