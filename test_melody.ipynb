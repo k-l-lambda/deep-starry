{
 "cells": [
  {
   "cell_type": "code",
   "execution_count": 2,
   "metadata": {},
   "outputs": [
    {
     "name": "stdout",
     "output_type": "stream",
     "text": [
      "matching: torch.Size([1, 6, 10])\n",
      "c_vec: torch.Size([1, 6, 128])\n",
      "s_vec: torch.Size([1, 128, 10])\n"
     ]
    }
   ],
   "source": [
    "# MatchJointerRaw test\n",
    "import torch\n",
    "\n",
    "from starry.utils.config import Configuration\n",
    "from starry.utils.model_factory import loadModel\n",
    "\n",
    "\n",
    "config = Configuration.createOrLoad('configs/matchjointer1-test.yaml')\n",
    "model = loadModel(config['model'])\n",
    "\n",
    "\n",
    "c_time, c_pitch, c_velocity = torch.rand(1, 10) * 10000, torch.randint(128, (1, 10)), torch.rand(1, 10) * 127\n",
    "s_time, s_pitch, s_velocity = torch.rand(1, 6) * 10000, torch.randint(128, (1, 6)), torch.rand(1, 6) * 127\n",
    "\n",
    "matching, c_vec, s_vec = model(c_time, c_pitch, c_velocity, s_time, s_pitch, s_velocity)\n",
    "\n",
    "print('matching:', matching.shape)\n",
    "print('c_vec:', c_vec.shape)\n",
    "print('s_vec:', s_vec.shape)\n"
   ]
  },
  {
   "cell_type": "code",
   "execution_count": 1,
   "metadata": {},
   "outputs": [
    {
     "name": "stderr",
     "output_type": "stream",
     "text": [
      "/home/xunan/work/deep-starry-melody/env/lib/python3.6/site-packages/tqdm/auto.py:22: TqdmWarning: IProgress not found. Please update jupyter and ipywidgets. See https://ipywidgets.readthedocs.io/en/stable/user_install.html\n",
      "  from .autonotebook import tqdm as notebook_tqdm\n"
     ]
    },
    {
     "name": "stdout",
     "output_type": "stream",
     "text": [
      "n_examples: 1135 847\n",
      "tensors: [(torch.Size([4, 64]), torch.float32), (torch.Size([4, 64]), torch.int64), (torch.Size([4, 64]), torch.float32)] [(torch.Size([4, 64]), torch.float32), (torch.Size([4, 64]), torch.int64), (torch.Size([4, 64]), torch.float32), (torch.Size([4, 64]), torch.float32), (torch.Size([4, 64]), torch.bool)] torch.Size([4, 64])\n",
      "cis: tensor([[ 2,  3,  4,  6,  5,  8,  7,  9, 10, 12, 11, 13, 14, 15, 16],\n",
      "        [ 3,  4,  6,  5,  8,  7,  9, 10, 12, 11, 13, 14, 15, 16, 17],\n",
      "        [ 4,  6,  5,  8,  7,  9, 10, 12, 11, 13, 14, 15, 16, 17, 18],\n",
      "        [ 6,  5,  8,  7,  9, 10, 12, 11, 13, 14, 15, 16, 17, 18, 19]])\n",
      "sample_mask: tensor([[False, False, False, False, False, False, False, False, False, False,\n",
      "         False, False, False, False, False, False, False, False, False, False,\n",
      "         False, False, False, False, False, False, False, False, False, False,\n",
      "         False, False, False, False, False, False, False, False, False, False,\n",
      "         False, False, False, False, False, False, False,  True,  True,  True,\n",
      "          True,  True,  True,  True,  True,  True,  True,  True,  True,  True,\n",
      "          True,  True,  True,  True],\n",
      "        [False, False, False, False, False, False, False, False, False, False,\n",
      "         False, False, False, False, False, False, False, False, False, False,\n",
      "         False, False, False, False, False, False, False, False, False, False,\n",
      "         False, False, False, False, False, False, False, False, False, False,\n",
      "         False, False, False, False, False, False,  True,  True,  True,  True,\n",
      "          True,  True,  True,  True,  True,  True,  True,  True,  True,  True,\n",
      "          True,  True,  True,  True],\n",
      "        [False, False, False, False, False, False, False, False, False, False,\n",
      "         False, False, False, False, False, False, False, False, False, False,\n",
      "         False, False, False, False, False, False, False, False, False, False,\n",
      "         False, False, False, False, False, False, False, False, False, False,\n",
      "         False, False, False, False, False,  True,  True,  True,  True,  True,\n",
      "          True,  True,  True,  True,  True,  True,  True,  True,  True,  True,\n",
      "          True,  True,  True,  True],\n",
      "        [False, False, False, False, False, False, False, False, False, False,\n",
      "         False, False, False, False, False, False, False, False, False, False,\n",
      "         False, False, False, False, False, False, False, False, False, False,\n",
      "         False, False, False, False, False, False, False, False, False, False,\n",
      "         False, False, False, False,  True,  True,  True,  True,  True,  True,\n",
      "          True,  True,  True,  True,  True,  True,  True,  True,  True,  True,\n",
      "          True,  True,  True,  True]])\n",
      "pitch-c tensor([[63, 79, 82, 80, 84, 63, 63, 77, 86, 79, 87, 63, 91, 82, 82, 63, 80, 84,\n",
      "         86, 84],\n",
      "        [65, 81, 84, 82, 86, 65, 65, 79, 88, 81, 89, 65, 93, 84, 84, 65, 82, 86,\n",
      "         88, 86],\n",
      "        [45, 61, 64, 62, 66, 45, 45, 59, 68, 61, 69, 45, 73, 64, 64, 45, 62, 66,\n",
      "         68, 66],\n",
      "        [64, 80, 83, 81, 85, 64, 64, 78, 87, 80, 88, 64, 92, 83, 83, 64, 81, 85,\n",
      "         87, 85]])\n",
      "pitch-s tensor([[ 0,  0,  0, 63, 79, 80, 82, 80, 63, 84, 77, 63, 86, 79, 63, 87, 91, 82,\n",
      "         82, 63],\n",
      "        [ 0,  0, 65, 81, 82, 84, 82, 65, 86, 79, 65, 88, 81, 65, 89, 93, 84, 84,\n",
      "         65, 82],\n",
      "        [ 0, 45, 61, 62, 64, 62, 45, 66, 59, 45, 68, 61, 45, 69, 73, 64, 64, 45,\n",
      "         62, 66],\n",
      "        [64, 80, 81, 83, 81, 64, 85, 78, 64, 87, 80, 64, 88, 92, 83, 83, 64, 81,\n",
      "         85, 87]])\n",
      "time-s: tensor([[    0.0000,     0.0000,     0.0000, -2794.0288, -2779.9641, -2778.6355,\n",
      "         -2759.2361, -2320.1956, -2312.9890, -2297.6348, -1739.6119, -1738.2096,\n",
      "         -1736.4872,  -815.0702,  -794.8967,  -787.5295,  -574.0135,  -301.4458,\n",
      "           -52.2466,     0.0000],\n",
      "        [    0.0000,     0.0000, -2825.9834, -2811.8518, -2810.5168, -2791.0251,\n",
      "         -2349.8970, -2342.6562, -2327.2290, -1766.5529, -1765.1438, -1763.4133,\n",
      "          -837.6151,  -817.3456,  -809.9435,  -595.4123,  -321.5486,   -71.1645,\n",
      "           -18.6694,     0.0000],\n",
      "        [    0.0000, -3144.7795, -3129.1523, -3127.6760, -3106.1216, -2618.3057,\n",
      "         -2610.2986, -2593.2385, -1973.2224, -1971.6642, -1969.7505,  -945.9689,\n",
      "          -923.5543,  -915.3687,  -678.1323,  -375.2837,   -98.3997,   -40.3488,\n",
      "           -19.7035,     0.0000],\n",
      "        [-2768.0593, -2754.4773, -2753.1943, -2734.4604, -2310.4839, -2303.5249,\n",
      "         -2288.6973, -1749.8214, -1748.4670, -1746.8038,  -857.0022,  -837.5209,\n",
      "          -830.4066,  -624.2167,  -361.0013,  -120.3525,   -69.8986,   -51.9550,\n",
      "           -34.8301,     0.0000]])\n",
      "time-c: tensor([[-1535., -1535., -1525.,  -750.,  -750.,  -740.,     0.,     0.,     0.,\n",
      "           690.,   700.,   710.,  1035.,  1210.,  1370.,  1410.,  1435.,  1455.,\n",
      "          1515.,  1585.,  2090.,  2755.,  2780.,  3080.,     0.,     0.,     0.,\n",
      "             0.,     0.,     0.,     0.,     0.,     0.,     0.,     0.,     0.,\n",
      "             0.,     0.,     0.,     0.,     0.,     0.,     0.,     0.,     0.,\n",
      "             0.,     0.,     0.,     0.,     0.,     0.,     0.,     0.,     0.,\n",
      "             0.,     0.,     0.,     0.,     0.,     0.,     0.,     0.,     0.,\n",
      "             0.],\n",
      "        [-2905., -2905., -2895., -2120., -2120., -2110., -1370., -1370., -1370.,\n",
      "          -680.,  -670.,  -660.,  -335.,  -160.,     0.,    40.,    65.,    85.,\n",
      "           145.,   215.,   720.,  1385.,  1410.,  1710.,  1885.,  2060.,  2085.,\n",
      "          2405.,  2575.,  2780.,  2785.,  3120.,     0.,     0.,     0.,     0.,\n",
      "             0.,     0.,     0.,     0.,     0.,     0.,     0.,     0.,     0.,\n",
      "             0.,     0.,     0.,     0.,     0.,     0.,     0.,     0.,     0.,\n",
      "             0.,     0.,     0.,     0.,     0.,     0.,     0.,     0.,     0.,\n",
      "             0.],\n",
      "        [-3120., -3120., -3110., -2335., -2335., -2325., -1585., -1585., -1585.,\n",
      "          -895.,  -885.,  -875.,  -550.,  -375.,  -215.,  -175.,  -150.,  -130.,\n",
      "           -70.,     0.,   505.,  1170.,  1195.,  1495.,  1670.,  1845.,  1870.,\n",
      "          2190.,  2360.,  2565.,  2570.,  2905.,  3080.,  3240.,  3260.,  3420.,\n",
      "          3600.,     0.,     0.,     0.,     0.,     0.,     0.,     0.,     0.,\n",
      "             0.,     0.,     0.,     0.,     0.,     0.,     0.,     0.,     0.,\n",
      "             0.,     0.,     0.,     0.,     0.,     0.,     0.,     0.,     0.,\n",
      "             0.],\n",
      "        [-4615., -4615., -4605., -3830., -3830., -3820., -3080., -3080., -3080.,\n",
      "         -2390., -2380., -2370., -2045., -1870., -1710., -1670., -1645., -1625.,\n",
      "         -1565., -1495.,  -990.,  -325.,  -300.,     0.,   175.,   350.,   375.,\n",
      "           695.,   865.,  1070.,  1075.,  1410.,  1585.,  1745.,  1765.,  1925.,\n",
      "          2105.,  2270.,  2450.,  2635.,  2810.,     0.,     0.,     0.,     0.,\n",
      "             0.,     0.,     0.,     0.,     0.,     0.,     0.,     0.,     0.,\n",
      "             0.,     0.,     0.,     0.,     0.,     0.,     0.,     0.,     0.,\n",
      "             0.]])\n",
      "time-sc: tensor([[0., 0., 0., 0., 0., 0., 0., 0., 0., 0., 0., 0., 0., 0., 0., 0., 0., 0., 0., 0., 0., 0., 0., 0.,\n",
      "         0., 0., 0., 0., 0., 0., 0., 0., 0., 0., 0., 0., 0., 0., 0., 0., 0., 0., 0., 0., 0., 0., 0., 0.,\n",
      "         0., 0., 0., 0., 0., 0., 0., 0., 0., 0., 0., 0., 0., 0., 0., 0.],\n",
      "        [0., 0., 0., 0., 0., 0., 0., 0., 0., 0., 0., 0., 0., 0., 0., 0., 0., 0., 0., 0., 0., 0., 0., 0.,\n",
      "         0., 0., 0., 0., 0., 0., 0., 0., 0., 0., 0., 0., 0., 0., 0., 0., 0., 0., 0., 0., 0., 0., 0., 0.,\n",
      "         0., 0., 0., 0., 0., 0., 0., 0., 0., 0., 0., 0., 0., 0., 0., 0.],\n",
      "        [0., 0., 0., 0., 0., 0., 0., 0., 0., 0., 0., 0., 0., 0., 0., 0., 0., 0., 0., 0., 0., 0., 0., 0.,\n",
      "         0., 0., 0., 0., 0., 0., 0., 0., 0., 0., 0., 0., 0., 0., 0., 0., 0., 0., 0., 0., 0., 0., 0., 0.,\n",
      "         0., 0., 0., 0., 0., 0., 0., 0., 0., 0., 0., 0., 0., 0., 0., 0.],\n",
      "        [0., 0., 0., 0., 0., 0., 0., 0., 0., 0., 0., 0., 0., 0., 0., 0., 0., 0., 0., 0., 0., 0., 0., 0.,\n",
      "         0., 0., 0., 0., 0., 0., 0., 0., 0., 0., 0., 0., 0., 0., 0., 0., 0., 0., 0., 0., 0., 0., 0., 0.,\n",
      "         0., 0., 0., 0., 0., 0., 0., 0., 0., 0., 0., 0., 0., 0., 0., 0.]])\n",
      "time-sc-mask: tensor([[False, False, False, False, False, False, False, False, False, False,\n",
      "         False, False, False, False, False, False, False, False, False, False,\n",
      "         False, False, False, False, False, False, False, False, False, False,\n",
      "         False, False, False, False, False, False, False, False, False, False,\n",
      "         False, False, False, False, False, False, False, False, False, False,\n",
      "         False, False, False, False, False, False, False, False, False, False,\n",
      "         False, False, False, False],\n",
      "        [False, False, False, False, False, False, False, False, False, False,\n",
      "         False, False, False, False, False, False, False, False, False, False,\n",
      "         False, False, False, False, False, False, False, False, False, False,\n",
      "         False, False, False, False, False, False, False, False, False, False,\n",
      "         False, False, False, False, False, False, False, False, False, False,\n",
      "         False, False, False, False, False, False, False, False, False, False,\n",
      "         False, False, False, False],\n",
      "        [False, False, False, False, False, False, False, False, False, False,\n",
      "         False, False, False, False, False, False, False, False, False, False,\n",
      "         False, False, False, False, False, False, False, False, False, False,\n",
      "         False, False, False, False, False, False, False, False, False, False,\n",
      "         False, False, False, False, False, False, False, False, False, False,\n",
      "         False, False, False, False, False, False, False, False, False, False,\n",
      "         False, False, False, False],\n",
      "        [False, False, False, False, False, False, False, False, False, False,\n",
      "         False, False, False, False, False, False, False, False, False, False,\n",
      "         False, False, False, False, False, False, False, False, False, False,\n",
      "         False, False, False, False, False, False, False, False, False, False,\n",
      "         False, False, False, False, False, False, False, False, False, False,\n",
      "         False, False, False, False, False, False, False, False, False, False,\n",
      "         False, False, False, False]])\n"
     ]
    }
   ],
   "source": [
    "# dataset\n",
    "import os\n",
    "from starry.utils.config import Configuration\n",
    "from starry.utils.dataset_factory import loadDataset\n",
    "\n",
    "\n",
    "DATA_DIR = os.environ.get('DATA_DIR')\n",
    "\n",
    "config = Configuration.create('configs/matchjointer2-test.yaml')\n",
    "train, val = loadDataset(config, data_dir=DATA_DIR, device='cpu')\n",
    "\n",
    "print('n_examples:', train.dataset.n_examples, val.dataset.n_examples)\n",
    "\n",
    "it = iter(train)\n",
    "batch = next(it)\n",
    "print('tensors:', [(tensor.shape, tensor.dtype) for tensor in batch['criterion']], [(tensor.shape, tensor.dtype) for tensor in batch['sample']], batch['ci'].shape)\n",
    "\n",
    "next(it)\n",
    "next(it)\n",
    "next(it)\n",
    "batch = next(it)\n",
    "print('cis:', batch['ci'][:, -15:])\n",
    "print('sample_mask:', batch['sample'][1] > 0)\n",
    "print('pitch-c', batch['criterion'][1][:, :20])\n",
    "print('pitch-s', batch['sample'][1][:, -20:])\n",
    "print('time-s:', batch['sample'][0][:, -20:])\n",
    "print('time-c:', batch['criterion'][0][:, :])\n",
    "print('time-sc:', batch['sample'][3][:, :])\n",
    "print('time-sc-mask:', batch['sample'][4][:, :])\n"
   ]
  },
  {
   "cell_type": "code",
   "execution_count": 2,
   "metadata": {},
   "outputs": [
    {
     "name": "stdout",
     "output_type": "stream",
     "text": [
      "loss: tensor(0.9049, grad_fn=<AddBackward0>)\n",
      "metric: {'acc_full': 0.08108108108108109, 'acc_c1': 0.08108108108108109, 'acc_tail8': 0.03125, 'acc_tip': 0.0}\n"
     ]
    }
   ],
   "source": [
    "# MatchJointer1Loss\n",
    "import torch\n",
    "\n",
    "from starry.utils.config import Configuration\n",
    "from starry.utils.model_factory import loadModel\n",
    "\n",
    "\n",
    "config = Configuration.createOrLoad('configs/matchjointer1-test.yaml')\n",
    "model = loadModel(config['model'], postfix='Loss')\n",
    "\n",
    "loss, metric = model(batch)\n",
    "\n",
    "print('loss:', loss)\n",
    "print('metric:', metric)\n"
   ]
  },
  {
   "cell_type": "code",
   "execution_count": 2,
   "metadata": {},
   "outputs": [
    {
     "name": "stdout",
     "output_type": "stream",
     "text": [
      "loss: tensor(0.2982, grad_fn=<AddBackward0>)\n",
      "metric: {'loss_orth': tensor(0.4809, grad_fn=<MeanBackward0>), 'acc_full': 0.35135135135135137, 'acc_c1': 0.35135135135135137, 'acc_tail8': 0.21875, 'acc_tip': 0.0}\n"
     ]
    }
   ],
   "source": [
    "# MatchJointer2PlusLoss\n",
    "import torch\n",
    "\n",
    "from starry.utils.config import Configuration\n",
    "from starry.utils.model_factory import loadModel\n",
    "\n",
    "\n",
    "config = Configuration.createOrLoad('configs/matchjointer2plus-test.yaml')\n",
    "model = loadModel(config['model'], postfix='Loss')\n",
    "\n",
    "loss, metric = model(batch)\n",
    "\n",
    "print('loss:', loss)\n",
    "print('metric:', metric)\n"
   ]
  },
  {
   "cell_type": "code",
   "execution_count": 2,
   "metadata": {},
   "outputs": [
    {
     "name": "stdout",
     "output_type": "stream",
     "text": [
      "prod: tensor([[[1.0000, 0.4778, 0.6071,  ..., 0.3946, 0.4345, 0.4036],\n",
      "         [0.4778, 1.0000, 0.2963,  ..., 0.3182, 0.3821, 0.3645],\n",
      "         [0.6071, 0.2963, 1.0000,  ..., 0.1527, 0.2537, 0.1823],\n",
      "         ...,\n",
      "         [0.3946, 0.3182, 0.1527,  ..., 1.0000, 0.8633, 0.8685],\n",
      "         [0.4345, 0.3821, 0.2537,  ..., 0.8633, 1.0000, 0.8511],\n",
      "         [0.4036, 0.3645, 0.1823,  ..., 0.8685, 0.8511, 1.0000]],\n",
      "\n",
      "        [[1.0000, 0.4223, 0.5442,  ..., 0.2787, 0.2422, 0.2816],\n",
      "         [0.4223, 1.0000, 0.4499,  ..., 0.2012, 0.1890, 0.2677],\n",
      "         [0.5442, 0.4499, 1.0000,  ..., 0.3435, 0.3205, 0.3489],\n",
      "         ...,\n",
      "         [0.2787, 0.2012, 0.3435,  ..., 1.0000, 0.9242, 0.8962],\n",
      "         [0.2422, 0.1890, 0.3205,  ..., 0.9242, 1.0000, 0.8573],\n",
      "         [0.2816, 0.2677, 0.3489,  ..., 0.8962, 0.8573, 1.0000]],\n",
      "\n",
      "        [[1.0000, 0.3276, 0.5554,  ..., 0.2657, 0.2640, 0.2050],\n",
      "         [0.3276, 1.0000, 0.3875,  ..., 0.2441, 0.2402, 0.1193],\n",
      "         [0.5554, 0.3875, 1.0000,  ..., 0.3520, 0.3444, 0.3180],\n",
      "         ...,\n",
      "         [0.2657, 0.2441, 0.3520,  ..., 1.0000, 0.9247, 0.8700],\n",
      "         [0.2640, 0.2402, 0.3444,  ..., 0.9247, 1.0000, 0.8542],\n",
      "         [0.2050, 0.1193, 0.3180,  ..., 0.8700, 0.8542, 1.0000]],\n",
      "\n",
      "        [[1.0000, 0.3770, 0.5595,  ..., 0.4652, 0.3734, 0.4110],\n",
      "         [0.3770, 1.0000, 0.4243,  ..., 0.4111, 0.3842, 0.3840],\n",
      "         [0.5595, 0.4243, 1.0000,  ..., 0.7057, 0.6107, 0.6367],\n",
      "         ...,\n",
      "         [0.4652, 0.4111, 0.7057,  ..., 1.0000, 0.8621, 0.8943],\n",
      "         [0.3734, 0.3842, 0.6107,  ..., 0.8621, 1.0000, 0.8232],\n",
      "         [0.4110, 0.3840, 0.6367,  ..., 0.8943, 0.8232, 1.0000]]],\n",
      "       grad_fn=<UnsafeViewBackward0>)\n"
     ]
    }
   ],
   "source": [
    "# tar * tar\n",
    "import torch\n",
    "\n",
    "from starry.utils.config import Configuration\n",
    "from starry.utils.model_factory import loadModel\n",
    "\n",
    "\n",
    "config = Configuration.createOrLoad('configs/matchjointer3-test.yaml')\n",
    "model = loadModel(config['model'])\n",
    "\n",
    "criterion, sample = batch['criterion'], batch['sample']\n",
    "matching, code_src, code_tar = model(*criterion, *sample)\n",
    "\n",
    "code_tar_trans = code_tar.transpose(-2, -1)\n",
    "prod = code_tar.matmul(code_tar_trans)\n",
    "\n",
    "print('prod:', prod)\n"
   ]
  },
  {
   "cell_type": "code",
   "execution_count": 1,
   "metadata": {},
   "outputs": [
    {
     "name": "stderr",
     "output_type": "stream",
     "text": [
      "/home/xunan/work/deep-starry-melody/env/lib/python3.6/site-packages/tqdm/auto.py:22: TqdmWarning: IProgress not found. Please update jupyter and ipywidgets. See https://ipywidgets.readthedocs.io/en/stable/user_install.html\n",
      "  from .autonotebook import tqdm as notebook_tqdm\n"
     ]
    },
    {
     "name": "stdout",
     "output_type": "stream",
     "text": [
      "tensors: [(torch.Size([16, 32]), torch.float32), (torch.Size([16, 32, 88]), torch.float32)] [(torch.Size([16, 16]), torch.float32), (torch.Size([16, 16, 88]), torch.float32)] torch.Size([16, 16])\n"
     ]
    }
   ],
   "source": [
    "# FramePair\n",
    "import os\n",
    "from starry.utils.config import Configuration\n",
    "from starry.utils.dataset_factory import loadDataset\n",
    "\n",
    "\n",
    "DATA_DIR = os.environ.get('DATA_DIR')\n",
    "\n",
    "config = Configuration.create('configs/framepair.yaml')\n",
    "train, val = loadDataset(config, data_dir=DATA_DIR, device='cpu')\n",
    "\n",
    "it = iter(train)\n",
    "batch = next(it)\n",
    "print('tensors:', [(tensor.shape, tensor.dtype) for tensor in batch['criterion']], [(tensor.shape, tensor.dtype) for tensor in batch['sample']], batch['ci'].shape)\n"
   ]
  },
  {
   "cell_type": "code",
   "execution_count": 2,
   "metadata": {},
   "outputs": [
    {
     "name": "stdout",
     "output_type": "stream",
     "text": [
      "loss: tensor(0.4883, grad_fn=<AddBackward0>)\n",
      "metric: {'loss_orth': tensor(0.4126, grad_fn=<MeanBackward0>), 'acc_full': 0.11764705882352941, 'acc_c1': 0.11764705882352941, 'acc_tail8': 0.12, 'acc_tip': 0.0}\n"
     ]
    }
   ],
   "source": [
    "# FrameMatchJointerLoss\n",
    "import torch\n",
    "\n",
    "from starry.utils.config import Configuration\n",
    "from starry.utils.model_factory import loadModel\n",
    "\n",
    "\n",
    "config = Configuration.createOrLoad('configs/framematchjointer-test.yaml')\n",
    "model = loadModel(config['model'], postfix='Loss')\n",
    "\n",
    "loss, metric = model(batch)\n",
    "\n",
    "print('loss:', loss)\n",
    "print('metric:', metric)\n"
   ]
  }
 ],
 "metadata": {
  "interpreter": {
   "hash": "be3796fc9b55cd7f6a5d10711c997676f9730370d5a1c0260123ba12108861c5"
  },
  "kernelspec": {
   "display_name": "Python 3.6.9 ('env': venv)",
   "language": "python",
   "name": "python3"
  },
  "language_info": {
   "codemirror_mode": {
    "name": "ipython",
    "version": 3
   },
   "file_extension": ".py",
   "mimetype": "text/x-python",
   "name": "python",
   "nbconvert_exporter": "python",
   "pygments_lexer": "ipython3",
   "version": "3.6.9"
  },
  "orig_nbformat": 4
 },
 "nbformat": 4,
 "nbformat_minor": 2
}
