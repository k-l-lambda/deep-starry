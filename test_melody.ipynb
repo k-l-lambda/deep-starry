{
 "cells": [
  {
   "cell_type": "code",
   "execution_count": 2,
   "metadata": {},
   "outputs": [
    {
     "name": "stdout",
     "output_type": "stream",
     "text": [
      "matching: torch.Size([1, 6, 10])\n",
      "c_vec: torch.Size([1, 6, 128])\n",
      "s_vec: torch.Size([1, 128, 10])\n"
     ]
    }
   ],
   "source": [
    "# MatchJointerRaw test\n",
    "import torch\n",
    "\n",
    "from starry.utils.config import Configuration\n",
    "from starry.utils.model_factory import loadModel\n",
    "\n",
    "\n",
    "config = Configuration.createOrLoad('configs/matchjointer1-test.yaml')\n",
    "model = loadModel(config['model'])\n",
    "\n",
    "\n",
    "c_time, c_pitch, c_velocity = torch.rand(1, 10) * 10000, torch.randint(128, (1, 10)), torch.rand(1, 10) * 127\n",
    "s_time, s_pitch, s_velocity = torch.rand(1, 6) * 10000, torch.randint(128, (1, 6)), torch.rand(1, 6) * 127\n",
    "\n",
    "matching, c_vec, s_vec = model(c_time, c_pitch, c_velocity, s_time, s_pitch, s_velocity)\n",
    "\n",
    "print('matching:', matching.shape)\n",
    "print('c_vec:', c_vec.shape)\n",
    "print('s_vec:', s_vec.shape)\n"
   ]
  },
  {
   "cell_type": "code",
   "execution_count": 2,
   "metadata": {},
   "outputs": [
    {
     "name": "stdout",
     "output_type": "stream",
     "text": [
      "n_examples: 6490 373\n",
      "tensors: [(torch.Size([2, 256]), torch.float32), (torch.Size([2, 256]), torch.int64), (torch.Size([2, 256]), torch.float32)] [(torch.Size([2, 256]), torch.float32), (torch.Size([2, 256]), torch.int64), (torch.Size([2, 256]), torch.float32)] torch.Size([2, 256])\n",
      "cis: tensor([[0, 0, 0, 0, 0, 0, 1, 2, 3, 4, 5, 6, 7, 8, 8],\n",
      "        [0, 0, 0, 0, 0, 1, 2, 3, 4, 5, 6, 7, 8, 8, 9]])\n",
      "pitch-c tensor([[74, 62, 78, 81, 66, 83, 67, 85, 64, 86, 66, 81, 62, 90, 57, 90, 88, 86,\n",
      "         69, 85],\n",
      "        [60, 48, 64, 67, 52, 69, 53, 71, 50, 72, 52, 67, 48, 76, 43, 76, 74, 72,\n",
      "         55, 71]])\n",
      "pitch-s tensor([[ 0,  0,  0,  0,  0,  0,  0,  0,  0,  0,  0, 74, 62, 78, 81, 66, 83, 67,\n",
      "         85, 84],\n",
      "        [ 0,  0,  0,  0,  0,  0,  0,  0,  0,  0, 60, 48, 64, 67, 52, 69, 53, 71,\n",
      "         70, 50]])\n"
     ]
    }
   ],
   "source": [
    "# dataset\n",
    "import os\n",
    "from starry.utils.config import Configuration\n",
    "from starry.utils.dataset_factory import loadDataset\n",
    "\n",
    "\n",
    "DATA_DIR = os.environ.get('DATA_DIR')\n",
    "\n",
    "config = Configuration.create('configs/matchjointer1-test.yaml')\n",
    "train, val = loadDataset(config, data_dir=DATA_DIR, device='cpu')\n",
    "\n",
    "print('n_examples:', train.dataset.n_examples, val.dataset.n_examples)\n",
    "\n",
    "it = iter(train)\n",
    "batch = next(it)\n",
    "print('tensors:', [(tensor.shape, tensor.dtype) for tensor in batch['criterion']], [(tensor.shape, tensor.dtype) for tensor in batch['sample']], batch['ci'].shape)\n",
    "\n",
    "next(it)\n",
    "next(it)\n",
    "next(it)\n",
    "batch = next(it)\n",
    "print('cis:', batch['ci'][:, -15:])\n",
    "print('pitch-c', batch['criterion'][1][:, :20])\n",
    "print('pitch-s', batch['sample'][1][:, -20:])\n"
   ]
  },
  {
   "cell_type": "code",
   "execution_count": 3,
   "metadata": {},
   "outputs": [
    {
     "name": "stdout",
     "output_type": "stream",
     "text": [
      "loss: tensor(0.2318, grad_fn=<BinaryCrossEntropyBackward0>)\n",
      "metric: {'accuracy': 0.0}\n"
     ]
    }
   ],
   "source": [
    "# MatchJointer1Loss\n",
    "import torch\n",
    "\n",
    "from starry.utils.config import Configuration\n",
    "from starry.utils.model_factory import loadModel\n",
    "\n",
    "\n",
    "config = Configuration.createOrLoad('configs/matchjointer1-test.yaml')\n",
    "model = loadModel(config['model'], postfix='Loss')\n",
    "\n",
    "loss, metric = model(batch)\n",
    "\n",
    "print('loss:', loss)\n",
    "print('metric:', metric)\n"
   ]
  }
 ],
 "metadata": {
  "interpreter": {
   "hash": "be3796fc9b55cd7f6a5d10711c997676f9730370d5a1c0260123ba12108861c5"
  },
  "kernelspec": {
   "display_name": "Python 3.6.9 ('env': venv)",
   "language": "python",
   "name": "python3"
  },
  "language_info": {
   "codemirror_mode": {
    "name": "ipython",
    "version": 3
   },
   "file_extension": ".py",
   "mimetype": "text/x-python",
   "name": "python",
   "nbconvert_exporter": "python",
   "pygments_lexer": "ipython3",
   "version": "3.6.9"
  },
  "orig_nbformat": 4
 },
 "nbformat": 4,
 "nbformat_minor": 2
}
