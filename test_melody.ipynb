{
 "cells": [
  {
   "cell_type": "code",
   "execution_count": 2,
   "metadata": {},
   "outputs": [
    {
     "name": "stdout",
     "output_type": "stream",
     "text": [
      "matching: torch.Size([1, 6, 10])\n",
      "c_vec: torch.Size([1, 6, 128])\n",
      "s_vec: torch.Size([1, 128, 10])\n"
     ]
    }
   ],
   "source": [
    "# MatchJointerRaw test\n",
    "import torch\n",
    "\n",
    "from starry.utils.config import Configuration\n",
    "from starry.utils.model_factory import loadModel\n",
    "\n",
    "\n",
    "config = Configuration.createOrLoad('configs/matchjointer1-test.yaml')\n",
    "model = loadModel(config['model'])\n",
    "\n",
    "\n",
    "c_time, c_pitch, c_velocity = torch.rand(1, 10) * 10000, torch.randint(128, (1, 10)), torch.rand(1, 10) * 127\n",
    "s_time, s_pitch, s_velocity = torch.rand(1, 6) * 10000, torch.randint(128, (1, 6)), torch.rand(1, 6) * 127\n",
    "\n",
    "matching, c_vec, s_vec = model(c_time, c_pitch, c_velocity, s_time, s_pitch, s_velocity)\n",
    "\n",
    "print('matching:', matching.shape)\n",
    "print('c_vec:', c_vec.shape)\n",
    "print('s_vec:', s_vec.shape)\n"
   ]
  },
  {
   "cell_type": "code",
   "execution_count": 1,
   "metadata": {},
   "outputs": [
    {
     "name": "stderr",
     "output_type": "stream",
     "text": [
      "/home/xunan/work/deep-starry-melody/env/lib/python3.6/site-packages/tqdm/auto.py:22: TqdmWarning: IProgress not found. Please update jupyter and ipywidgets. See https://ipywidgets.readthedocs.io/en/stable/user_install.html\n",
      "  from .autonotebook import tqdm as notebook_tqdm\n"
     ]
    },
    {
     "name": "stdout",
     "output_type": "stream",
     "text": [
      "n_examples: 1135 847\n",
      "tensors: [(torch.Size([4, 64]), torch.float32), (torch.Size([4, 64]), torch.int64), (torch.Size([4, 64]), torch.float32)] [(torch.Size([4, 64]), torch.float32), (torch.Size([4, 64]), torch.int64), (torch.Size([4, 64]), torch.float32), (torch.Size([4, 64]), torch.float32), (torch.Size([4, 64]), torch.bool)] torch.Size([4, 64])\n",
      "cis: tensor([[ 2,  5,  4,  6,  9,  7,  8, 10, 11, 12, 13, 14, 15, 16, 18],\n",
      "        [ 5,  4,  6,  9,  7,  8, 10, 11, 12, 13, 14, 15, 16, 18, 17],\n",
      "        [ 4,  6,  9,  7,  8, 10, 11, 12, 13, 14, 15, 16, 18, 17, 20],\n",
      "        [ 6,  9,  7,  8, 10, 11, 12, 13, 14, 15, 16, 18, 17, 20, 19]])\n",
      "sample_mask: tensor([[False, False, False, False, False, False, False, False, False, False,\n",
      "         False, False, False, False, False, False, False, False, False, False,\n",
      "         False, False, False, False, False, False, False, False, False, False,\n",
      "         False, False, False, False, False, False, False, False, False, False,\n",
      "         False, False, False, False, False, False, False,  True,  True,  True,\n",
      "          True,  True,  True,  True,  True,  True,  True,  True,  True,  True,\n",
      "          True,  True,  True,  True],\n",
      "        [False, False, False, False, False, False, False, False, False, False,\n",
      "         False, False, False, False, False, False, False, False, False, False,\n",
      "         False, False, False, False, False, False, False, False, False, False,\n",
      "         False, False, False, False, False, False, False, False, False, False,\n",
      "         False, False, False, False, False, False,  True,  True,  True,  True,\n",
      "          True,  True,  True,  True,  True,  True,  True,  True,  True,  True,\n",
      "          True,  True,  True,  True],\n",
      "        [False, False, False, False, False, False, False, False, False, False,\n",
      "         False, False, False, False, False, False, False, False, False, False,\n",
      "         False, False, False, False, False, False, False, False, False, False,\n",
      "         False, False, False, False, False, False, False, False, False, False,\n",
      "         False, False, False, False, False,  True,  True,  True,  True,  True,\n",
      "          True,  True,  True,  True,  True,  True,  True,  True,  True,  True,\n",
      "          True,  True,  True,  True],\n",
      "        [False, False, False, False, False, False, False, False, False, False,\n",
      "         False, False, False, False, False, False, False, False, False, False,\n",
      "         False, False, False, False, False, False, False, False, False, False,\n",
      "         False, False, False, False, False, False, False, False, False, False,\n",
      "         False, False, False, False,  True,  True,  True,  True,  True,  True,\n",
      "          True,  True,  True,  True,  True,  True,  True,  True,  True,  True,\n",
      "          True,  True,  True,  True]])\n",
      "pitch-c tensor([[63, 79, 82, 80, 84, 63, 63, 77, 86, 79, 87, 63, 91, 82, 82, 63, 80, 84,\n",
      "         86, 84],\n",
      "        [58, 74, 77, 75, 79, 58, 58, 72, 81, 74, 82, 58, 86, 77, 77, 58, 75, 79,\n",
      "         81, 79],\n",
      "        [43, 59, 62, 60, 64, 43, 43, 57, 66, 59, 67, 43, 71, 62, 62, 43, 60, 64,\n",
      "         66, 64],\n",
      "        [52, 68, 71, 69, 73, 52, 52, 66, 75, 68, 76, 52, 80, 71, 71, 52, 69, 73,\n",
      "         75, 73]])\n",
      "pitch-s tensor([[ 0,  0,  0, 63, 82, 79, 84, 80, 63, 86, 63, 77, 79, 87, 63, 91, 82, 82,\n",
      "         63, 84],\n",
      "        [ 0,  0, 58, 77, 74, 79, 75, 58, 81, 58, 72, 74, 82, 58, 86, 77, 77, 58,\n",
      "         79, 75],\n",
      "        [ 0, 43, 62, 59, 64, 60, 43, 66, 43, 57, 59, 67, 43, 71, 62, 62, 43, 64,\n",
      "         60, 64],\n",
      "        [52, 71, 68, 73, 69, 52, 75, 52, 66, 68, 76, 52, 80, 71, 71, 52, 73, 69,\n",
      "         73, 75]])\n",
      "time-s: tensor([[    0.0000,     0.0000,     0.0000, -2872.8765, -2828.5823, -2807.2100,\n",
      "         -2016.1742, -1992.6045, -1986.5686, -1381.2867, -1371.9807, -1356.1215,\n",
      "          -722.0786,  -702.0251,  -687.7669,  -337.5944,  -210.0329,   -42.7782,\n",
      "           -16.4995,     0.0000],\n",
      "        [    0.0000,     0.0000, -3316.6750, -3265.6101, -3240.9707, -2329.0186,\n",
      "         -2301.8459, -2294.8875, -1597.0831, -1586.3546, -1568.0710,  -837.1094,\n",
      "          -813.9905,  -797.5529,  -393.8535,  -246.7931,   -53.9721,   -23.6765,\n",
      "            -4.6549,     0.0000],\n",
      "        [    0.0000, -3733.9053, -3677.8962, -3650.8713, -2650.6221, -2620.8188,\n",
      "         -2613.1865, -1847.8196, -1836.0524, -1815.9985, -1014.2640,  -988.9067,\n",
      "          -970.8775,  -528.0913,  -366.7923,  -155.3020,  -122.0731,  -101.2099,\n",
      "           -96.1042,     0.0000],\n",
      "        [-2922.2312, -2878.6538, -2857.6272, -2079.3948, -2056.2065, -2050.2683,\n",
      "         -1454.7832, -1445.6277, -1430.0251,  -806.2445,  -786.5156,  -772.4882,\n",
      "          -427.9833,  -302.4864,  -137.9388,  -112.0854,   -95.8530,   -91.8806,\n",
      "           -17.1078,     0.0000]])\n",
      "time-c: tensor([[-3625., -3625., -3615., -2840., -2840., -2830., -2090., -2090., -2090.,\n",
      "         -1400., -1390., -1380., -1055.,  -880.,  -720.,  -680.,  -655.,  -635.,\n",
      "          -575.,  -505.,     0.,   665.,   690.,   990.,  1165.,  1340.,  1365.,\n",
      "          1685.,  1855.,  2060.,  2065.,  2400.,  2575.,  2735.,  2755.,  2915.,\n",
      "          3095.,  3260.,     0.,     0.,     0.,     0.,     0.,     0.,     0.,\n",
      "             0.,     0.,     0.,     0.,     0.,     0.,     0.,     0.,     0.,\n",
      "             0.,     0.,     0.,     0.,     0.,     0.,     0.,     0.,     0.,\n",
      "             0.],\n",
      "        [-1535., -1535., -1525.,  -750.,  -750.,  -740.,     0.,     0.,     0.,\n",
      "           690.,   700.,   710.,  1035.,  1210.,  1370.,  1410.,  1435.,  1455.,\n",
      "          1515.,  1585.,  2090.,  2755.,  2780.,  3080.,  3255.,  3430.,     0.,\n",
      "             0.,     0.,     0.,     0.,     0.,     0.,     0.,     0.,     0.,\n",
      "             0.,     0.,     0.,     0.,     0.,     0.,     0.,     0.,     0.,\n",
      "             0.,     0.,     0.,     0.,     0.,     0.,     0.,     0.,     0.,\n",
      "             0.,     0.,     0.,     0.,     0.,     0.,     0.,     0.,     0.,\n",
      "             0.],\n",
      "        [-2945., -2945., -2935., -2160., -2160., -2150., -1410., -1410., -1410.,\n",
      "          -720.,  -710.,  -700.,  -375.,  -200.,   -40.,     0.,    25.,    45.,\n",
      "           105.,   175.,   680.,  1345.,  1370.,  1670.,  1845.,  2020.,  2045.,\n",
      "          2365.,  2535.,  2740.,  2745.,  3080.,  3255.,     0.,     0.,     0.,\n",
      "             0.,     0.,     0.,     0.,     0.,     0.,     0.,     0.,     0.,\n",
      "             0.,     0.,     0.,     0.,     0.,     0.,     0.,     0.,     0.,\n",
      "             0.,     0.,     0.,     0.,     0.,     0.,     0.,     0.,     0.,\n",
      "             0.],\n",
      "        [-4790., -4790., -4780., -4005., -4005., -3995., -3255., -3255., -3255.,\n",
      "         -2565., -2555., -2545., -2220., -2045., -1885., -1845., -1820., -1800.,\n",
      "         -1740., -1670., -1165.,  -500.,  -475.,  -175.,     0.,   175.,   200.,\n",
      "           520.,   690.,   895.,   900.,  1235.,  1410.,  1570.,  1590.,  1750.,\n",
      "          1930.,  2095.,  2275.,  2460.,  2635.,  2640.,     0.,     0.,     0.,\n",
      "             0.,     0.,     0.,     0.,     0.,     0.,     0.,     0.,     0.,\n",
      "             0.,     0.,     0.,     0.,     0.,     0.,     0.,     0.,     0.,\n",
      "             0.]])\n",
      "time-sc: tensor([[0., 0., 0., 0., 0., 0., 0., 0., 0., 0., 0., 0., 0., 0., 0., 0., 0., 0., 0., 0., 0., 0., 0., 0.,\n",
      "         0., 0., 0., 0., 0., 0., 0., 0., 0., 0., 0., 0., 0., 0., 0., 0., 0., 0., 0., 0., 0., 0., 0., 0.,\n",
      "         0., 0., 0., 0., 0., 0., 0., 0., 0., 0., 0., 0., 0., 0., 0., 0.],\n",
      "        [0., 0., 0., 0., 0., 0., 0., 0., 0., 0., 0., 0., 0., 0., 0., 0., 0., 0., 0., 0., 0., 0., 0., 0.,\n",
      "         0., 0., 0., 0., 0., 0., 0., 0., 0., 0., 0., 0., 0., 0., 0., 0., 0., 0., 0., 0., 0., 0., 0., 0.,\n",
      "         0., 0., 0., 0., 0., 0., 0., 0., 0., 0., 0., 0., 0., 0., 0., 0.],\n",
      "        [0., 0., 0., 0., 0., 0., 0., 0., 0., 0., 0., 0., 0., 0., 0., 0., 0., 0., 0., 0., 0., 0., 0., 0.,\n",
      "         0., 0., 0., 0., 0., 0., 0., 0., 0., 0., 0., 0., 0., 0., 0., 0., 0., 0., 0., 0., 0., 0., 0., 0.,\n",
      "         0., 0., 0., 0., 0., 0., 0., 0., 0., 0., 0., 0., 0., 0., 0., 0.],\n",
      "        [0., 0., 0., 0., 0., 0., 0., 0., 0., 0., 0., 0., 0., 0., 0., 0., 0., 0., 0., 0., 0., 0., 0., 0.,\n",
      "         0., 0., 0., 0., 0., 0., 0., 0., 0., 0., 0., 0., 0., 0., 0., 0., 0., 0., 0., 0., 0., 0., 0., 0.,\n",
      "         0., 0., 0., 0., 0., 0., 0., 0., 0., 0., 0., 0., 0., 0., 0., 0.]])\n",
      "time-sc-mask: tensor([[False, False, False, False, False, False, False, False, False, False,\n",
      "         False, False, False, False, False, False, False, False, False, False,\n",
      "         False, False, False, False, False, False, False, False, False, False,\n",
      "         False, False, False, False, False, False, False, False, False, False,\n",
      "         False, False, False, False, False, False, False, False, False, False,\n",
      "         False, False, False, False, False, False, False, False, False, False,\n",
      "         False, False, False, False],\n",
      "        [False, False, False, False, False, False, False, False, False, False,\n",
      "         False, False, False, False, False, False, False, False, False, False,\n",
      "         False, False, False, False, False, False, False, False, False, False,\n",
      "         False, False, False, False, False, False, False, False, False, False,\n",
      "         False, False, False, False, False, False, False, False, False, False,\n",
      "         False, False, False, False, False, False, False, False, False, False,\n",
      "         False, False, False, False],\n",
      "        [False, False, False, False, False, False, False, False, False, False,\n",
      "         False, False, False, False, False, False, False, False, False, False,\n",
      "         False, False, False, False, False, False, False, False, False, False,\n",
      "         False, False, False, False, False, False, False, False, False, False,\n",
      "         False, False, False, False, False, False, False, False, False, False,\n",
      "         False, False, False, False, False, False, False, False, False, False,\n",
      "         False, False, False, False],\n",
      "        [False, False, False, False, False, False, False, False, False, False,\n",
      "         False, False, False, False, False, False, False, False, False, False,\n",
      "         False, False, False, False, False, False, False, False, False, False,\n",
      "         False, False, False, False, False, False, False, False, False, False,\n",
      "         False, False, False, False, False, False, False, False, False, False,\n",
      "         False, False, False, False, False, False, False, False, False, False,\n",
      "         False, False, False, False]])\n"
     ]
    }
   ],
   "source": [
    "# dataset\n",
    "import os\n",
    "from starry.utils.config import Configuration\n",
    "from starry.utils.dataset_factory import loadDataset\n",
    "\n",
    "\n",
    "DATA_DIR = os.environ.get('DATA_DIR')\n",
    "\n",
    "config = Configuration.create('configs/matchjointer2-test.yaml')\n",
    "train, val = loadDataset(config, data_dir=DATA_DIR, device='cpu')\n",
    "\n",
    "print('n_examples:', train.dataset.n_examples, val.dataset.n_examples)\n",
    "\n",
    "it = iter(train)\n",
    "batch = next(it)\n",
    "print('tensors:', [(tensor.shape, tensor.dtype) for tensor in batch['criterion']], [(tensor.shape, tensor.dtype) for tensor in batch['sample']], batch['ci'].shape)\n",
    "\n",
    "next(it)\n",
    "next(it)\n",
    "next(it)\n",
    "batch = next(it)\n",
    "print('cis:', batch['ci'][:, -15:])\n",
    "print('sample_mask:', batch['sample'][1] > 0)\n",
    "print('pitch-c', batch['criterion'][1][:, :20])\n",
    "print('pitch-s', batch['sample'][1][:, -20:])\n",
    "print('time-s:', batch['sample'][0][:, -20:])\n",
    "print('time-c:', batch['criterion'][0][:, :])\n",
    "print('time-sc:', batch['sample'][3][:, :])\n",
    "print('time-sc-mask:', batch['sample'][4][:, :])\n"
   ]
  },
  {
   "cell_type": "code",
   "execution_count": 2,
   "metadata": {},
   "outputs": [
    {
     "name": "stdout",
     "output_type": "stream",
     "text": [
      "loss: tensor(0.9049, grad_fn=<AddBackward0>)\n",
      "metric: {'acc_full': 0.08108108108108109, 'acc_c1': 0.08108108108108109, 'acc_tail8': 0.03125, 'acc_tip': 0.0}\n"
     ]
    }
   ],
   "source": [
    "# MatchJointer1Loss\n",
    "import torch\n",
    "\n",
    "from starry.utils.config import Configuration\n",
    "from starry.utils.model_factory import loadModel\n",
    "\n",
    "\n",
    "config = Configuration.createOrLoad('configs/matchjointer1-test.yaml')\n",
    "model = loadModel(config['model'], postfix='Loss')\n",
    "\n",
    "loss, metric = model(batch)\n",
    "\n",
    "print('loss:', loss)\n",
    "print('metric:', metric)\n"
   ]
  },
  {
   "cell_type": "code",
   "execution_count": 2,
   "metadata": {},
   "outputs": [
    {
     "name": "stdout",
     "output_type": "stream",
     "text": [
      "loss: tensor(0.5079, grad_fn=<AddBackward0>)\n",
      "metric: {'loss_orth': tensor(0.5284, grad_fn=<MeanBackward0>), 'acc_full': 0.08108108108108109, 'acc_c1': 0.08108108108108109, 'acc_tail8': 0.0625, 'acc_tip': 0.0, 'acc_guid': 0.0, 'acc_ng': 0.0234375}\n"
     ]
    }
   ],
   "source": [
    "# MatchJointer2PlusLoss\n",
    "import torch\n",
    "\n",
    "from starry.utils.config import Configuration\n",
    "from starry.utils.model_factory import loadModel\n",
    "\n",
    "\n",
    "config = Configuration.createOrLoad('configs/matchjointer2plus-test.yaml')\n",
    "model = loadModel(config['model'], postfix='Loss')\n",
    "\n",
    "loss, metric = model(batch)\n",
    "\n",
    "print('loss:', loss)\n",
    "print('metric:', metric)\n"
   ]
  },
  {
   "cell_type": "code",
   "execution_count": 2,
   "metadata": {},
   "outputs": [
    {
     "name": "stdout",
     "output_type": "stream",
     "text": [
      "prod: tensor([[[1.0000, 0.4778, 0.6071,  ..., 0.3946, 0.4345, 0.4036],\n",
      "         [0.4778, 1.0000, 0.2963,  ..., 0.3182, 0.3821, 0.3645],\n",
      "         [0.6071, 0.2963, 1.0000,  ..., 0.1527, 0.2537, 0.1823],\n",
      "         ...,\n",
      "         [0.3946, 0.3182, 0.1527,  ..., 1.0000, 0.8633, 0.8685],\n",
      "         [0.4345, 0.3821, 0.2537,  ..., 0.8633, 1.0000, 0.8511],\n",
      "         [0.4036, 0.3645, 0.1823,  ..., 0.8685, 0.8511, 1.0000]],\n",
      "\n",
      "        [[1.0000, 0.4223, 0.5442,  ..., 0.2787, 0.2422, 0.2816],\n",
      "         [0.4223, 1.0000, 0.4499,  ..., 0.2012, 0.1890, 0.2677],\n",
      "         [0.5442, 0.4499, 1.0000,  ..., 0.3435, 0.3205, 0.3489],\n",
      "         ...,\n",
      "         [0.2787, 0.2012, 0.3435,  ..., 1.0000, 0.9242, 0.8962],\n",
      "         [0.2422, 0.1890, 0.3205,  ..., 0.9242, 1.0000, 0.8573],\n",
      "         [0.2816, 0.2677, 0.3489,  ..., 0.8962, 0.8573, 1.0000]],\n",
      "\n",
      "        [[1.0000, 0.3276, 0.5554,  ..., 0.2657, 0.2640, 0.2050],\n",
      "         [0.3276, 1.0000, 0.3875,  ..., 0.2441, 0.2402, 0.1193],\n",
      "         [0.5554, 0.3875, 1.0000,  ..., 0.3520, 0.3444, 0.3180],\n",
      "         ...,\n",
      "         [0.2657, 0.2441, 0.3520,  ..., 1.0000, 0.9247, 0.8700],\n",
      "         [0.2640, 0.2402, 0.3444,  ..., 0.9247, 1.0000, 0.8542],\n",
      "         [0.2050, 0.1193, 0.3180,  ..., 0.8700, 0.8542, 1.0000]],\n",
      "\n",
      "        [[1.0000, 0.3770, 0.5595,  ..., 0.4652, 0.3734, 0.4110],\n",
      "         [0.3770, 1.0000, 0.4243,  ..., 0.4111, 0.3842, 0.3840],\n",
      "         [0.5595, 0.4243, 1.0000,  ..., 0.7057, 0.6107, 0.6367],\n",
      "         ...,\n",
      "         [0.4652, 0.4111, 0.7057,  ..., 1.0000, 0.8621, 0.8943],\n",
      "         [0.3734, 0.3842, 0.6107,  ..., 0.8621, 1.0000, 0.8232],\n",
      "         [0.4110, 0.3840, 0.6367,  ..., 0.8943, 0.8232, 1.0000]]],\n",
      "       grad_fn=<UnsafeViewBackward0>)\n"
     ]
    }
   ],
   "source": [
    "# tar * tar\n",
    "import torch\n",
    "\n",
    "from starry.utils.config import Configuration\n",
    "from starry.utils.model_factory import loadModel\n",
    "\n",
    "\n",
    "config = Configuration.createOrLoad('configs/matchjointer3-test.yaml')\n",
    "model = loadModel(config['model'])\n",
    "\n",
    "criterion, sample = batch['criterion'], batch['sample']\n",
    "matching, code_src, code_tar = model(*criterion, *sample)\n",
    "\n",
    "code_tar_trans = code_tar.transpose(-2, -1)\n",
    "prod = code_tar.matmul(code_tar_trans)\n",
    "\n",
    "print('prod:', prod)\n"
   ]
  },
  {
   "cell_type": "code",
   "execution_count": 1,
   "metadata": {},
   "outputs": [
    {
     "name": "stderr",
     "output_type": "stream",
     "text": [
      "/home/xunan/work/deep-starry-melody/env/lib/python3.6/site-packages/tqdm/auto.py:22: TqdmWarning: IProgress not found. Please update jupyter and ipywidgets. See https://ipywidgets.readthedocs.io/en/stable/user_install.html\n",
      "  from .autonotebook import tqdm as notebook_tqdm\n"
     ]
    },
    {
     "name": "stdout",
     "output_type": "stream",
     "text": [
      "tensors: [(torch.Size([16, 32]), torch.float32), (torch.Size([16, 32, 88]), torch.float32)] [(torch.Size([16, 16]), torch.float32), (torch.Size([16, 16, 88]), torch.float32)] torch.Size([16, 16])\n"
     ]
    }
   ],
   "source": [
    "# FramePair\n",
    "import os\n",
    "from starry.utils.config import Configuration\n",
    "from starry.utils.dataset_factory import loadDataset\n",
    "\n",
    "\n",
    "DATA_DIR = os.environ.get('DATA_DIR')\n",
    "\n",
    "config = Configuration.create('configs/framepair.yaml')\n",
    "train, val = loadDataset(config, data_dir=DATA_DIR, device='cpu')\n",
    "\n",
    "it = iter(train)\n",
    "batch = next(it)\n",
    "print('tensors:', [(tensor.shape, tensor.dtype) for tensor in batch['criterion']], [(tensor.shape, tensor.dtype) for tensor in batch['sample']], batch['ci'].shape)\n"
   ]
  },
  {
   "cell_type": "code",
   "execution_count": 2,
   "metadata": {},
   "outputs": [
    {
     "name": "stdout",
     "output_type": "stream",
     "text": [
      "loss: tensor(0.4883, grad_fn=<AddBackward0>)\n",
      "metric: {'loss_orth': tensor(0.4126, grad_fn=<MeanBackward0>), 'acc_full': 0.11764705882352941, 'acc_c1': 0.11764705882352941, 'acc_tail8': 0.12, 'acc_tip': 0.0}\n"
     ]
    }
   ],
   "source": [
    "# FrameMatchJointerLoss\n",
    "import torch\n",
    "\n",
    "from starry.utils.config import Configuration\n",
    "from starry.utils.model_factory import loadModel\n",
    "\n",
    "\n",
    "config = Configuration.createOrLoad('configs/framematchjointer-test.yaml')\n",
    "model = loadModel(config['model'], postfix='Loss')\n",
    "\n",
    "loss, metric = model(batch)\n",
    "\n",
    "print('loss:', loss)\n",
    "print('metric:', metric)\n"
   ]
  }
 ],
 "metadata": {
  "interpreter": {
   "hash": "be3796fc9b55cd7f6a5d10711c997676f9730370d5a1c0260123ba12108861c5"
  },
  "kernelspec": {
   "display_name": "Python 3.6.9 ('env': venv)",
   "language": "python",
   "name": "python3"
  },
  "language_info": {
   "codemirror_mode": {
    "name": "ipython",
    "version": 3
   },
   "file_extension": ".py",
   "mimetype": "text/x-python",
   "name": "python",
   "nbconvert_exporter": "python",
   "pygments_lexer": "ipython3",
   "version": "3.6.9"
  },
  "orig_nbformat": 4
 },
 "nbformat": 4,
 "nbformat_minor": 2
}
