{
 "cells": [
  {
   "cell_type": "code",
   "execution_count": 1,
   "metadata": {},
   "outputs": [
    {
     "name": "stdout",
     "output_type": "stream",
     "text": [
      "type:\n",
      " torch.Size([2, 17])\n",
      "staff:\n",
      " torch.Size([2, 17])\n",
      "feature:\n",
      " torch.Size([2, 17, 15])\n",
      "x:\n",
      " torch.Size([2, 17])\n",
      "y1:\n",
      " torch.Size([2, 17])\n",
      "y2:\n",
      " torch.Size([2, 17])\n",
      "tickDiff:\n",
      " torch.Size([2, 17, 17])\n",
      "maskT:\n",
      " torch.Size([2, 17, 17])\n",
      "beading_pos:\n",
      " torch.Size([2, 17])\n",
      "tick:\n",
      " torch.Size([2, 17])\n",
      "division:\n",
      " torch.Size([2, 17])\n",
      "dots:\n",
      " torch.Size([2, 17])\n",
      "beam:\n",
      " torch.Size([2, 17])\n",
      "stemDirection:\n",
      " torch.Size([2, 17])\n",
      "grace:\n",
      " torch.Size([2, 17])\n",
      "timeWarped:\n",
      " torch.Size([2, 17])\n",
      "fullMeasure:\n",
      " torch.Size([2, 17])\n",
      "fake:\n",
      " torch.Size([2, 17])\n",
      "beading_pos: tensor([[ -5,  -4,  -3,  -2,  -1,   0,   0,   0,   0,   0,   0,   0,   0,   0,\n",
      "           0,  -6,   0],\n",
      "        [-11, -10,  -9,  -8,  -7,  -6,  -5,  -4,  -3,  -2,  -1,   0,   0,   0,\n",
      "           0, -12,   0]])\n"
     ]
    }
   ],
   "source": [
    "# dataset\n",
    "import os\n",
    "from starry.utils.config import Configuration\n",
    "from starry.utils.dataset_factory import loadDataset\n",
    "\n",
    "\n",
    "DATA_DIR = os.environ.get('DATA_DIR')\n",
    "\n",
    "config = Configuration.create('configs/bdtopo-test.yaml')\n",
    "train, val = loadDataset(config, data_dir=DATA_DIR, device='cpu')\n",
    "\n",
    "it = iter(val)\n",
    "tensors = next(it)\n",
    "\n",
    "for k, v in tensors.items():\n",
    "\tprint(f'{k}:\\n', v.shape)\n",
    "\n",
    "print('beading_pos:', tensors['beading_pos'])\n"
   ]
  },
  {
   "cell_type": "code",
   "execution_count": 3,
   "metadata": {},
   "outputs": [
    {
     "name": "stdout",
     "output_type": "stream",
     "text": [
      "beading_pos: tensor([[ -2, -14, -13, -12, -11, -10,  -9,  -8,  -7,  -6,  -5,  -4,  -3,  -1,\n",
      "           0,   0,   0,   0,   0,   0,   0,   0],\n",
      "        [ -4, -16, -15, -14, -13, -12, -11, -10,  -9,  -8,  -7,  -6,  -5,  -3,\n",
      "          -2,  -1,   0,   0,   0,   0,   0,   0]])\n"
     ]
    }
   ],
   "source": [
    "tensors = next(it)\n",
    "print('beading_pos:', tensors['beading_pos'])"
   ]
  }
 ],
 "metadata": {
  "interpreter": {
   "hash": "31f2aee4e71d21fbe5cf8b01ff0e069b9275f58929596ceb00d14d90e3e16cd6"
  },
  "kernelspec": {
   "display_name": "Python 3.6.9 64-bit",
   "language": "python",
   "name": "python3"
  },
  "language_info": {
   "codemirror_mode": {
    "name": "ipython",
    "version": 3
   },
   "file_extension": ".py",
   "mimetype": "text/x-python",
   "name": "python",
   "nbconvert_exporter": "python",
   "pygments_lexer": "ipython3",
   "version": "3.6.9"
  },
  "orig_nbformat": 4
 },
 "nbformat": 4,
 "nbformat_minor": 2
}
