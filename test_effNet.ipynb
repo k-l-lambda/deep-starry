{
 "cells": [
  {
   "cell_type": "code",
   "execution_count": 1,
   "metadata": {},
   "outputs": [
    {
     "name": "stdout",
     "output_type": "stream",
     "text": [
      "y: torch.Size([2, 1280])\n"
     ]
    }
   ],
   "source": [
    "import torch\n",
    "from starry.vision.models.effNet import HeadlessEffNet\n",
    "\n",
    "\n",
    "model = HeadlessEffNet(backbone='efficientnet_b0', mono_channel=True)\n",
    "y = model(torch.randn(2, 1, 32, 32))\n",
    "print('y:', y.shape)\n"
   ]
  },
  {
   "cell_type": "code",
   "execution_count": 43,
   "metadata": {},
   "outputs": [
    {
     "data": {
      "text/plain": [
       "[3.8218955993652344,\n",
       " 6.211456298828125,\n",
       " 7.344240188598633,\n",
       " 10.200721740722656,\n",
       " 16.73566436767578,\n",
       " 27.027877807617188,\n",
       " 38.848594665527344,\n",
       " 60.83198547363281]"
      ]
     },
     "execution_count": 43,
     "metadata": {},
     "output_type": "execute_result"
    }
   ],
   "source": [
    "import torch\n",
    "from starry.vision.models.effNet import HeadlessEffNet\n",
    "\n",
    "\n",
    "names = ['efficientnet_b0', 'efficientnet_b1', 'efficientnet_b2', 'efficientnet_b3', 'efficientnet_b4', 'efficientnet_b5', 'efficientnet_b6', 'efficientnet_b7']\n",
    "\n",
    "get_size = lambda model: sum([torch.numel(p) for p in model.parameters()])\n",
    "\n",
    "sizes = [get_size(HeadlessEffNet(backbone=name)) / 0x100000 for name in names]\n",
    "\n",
    "sizes"
   ]
  },
  {
   "cell_type": "code",
   "execution_count": 5,
   "metadata": {},
   "outputs": [
    {
     "data": {
      "text/plain": [
       "tensor([[-0.2689,  0.7310,  0.7303,  ...,  0.7307,  0.7311,  0.7306],\n",
       "        [ 0.7310, -0.2689, -0.2689,  ..., -0.2689, -0.2689, -0.2689]],\n",
       "       device='cuda:0', grad_fn=<ReshapeAliasBackward0>)"
      ]
     },
     "execution_count": 5,
     "metadata": {},
     "output_type": "execute_result"
    }
   ],
   "source": [
    "# device test\n",
    "import torch\n",
    "from starry.vision.models.effNet import HeadlessEffNet\n",
    "\n",
    "\n",
    "model = HeadlessEffNet(backbone='efficientnet_b0', mono_channel=True)\n",
    "model.to('cuda')\n",
    "\n",
    "#next(model.features.parameters()).device\n",
    "\n",
    "x = torch.randn(2, 1, 32, 32).cuda()\n",
    "model(x)\n",
    "\n"
   ]
  }
 ],
 "metadata": {
  "kernelspec": {
   "display_name": "Python 3.8.12 ('py38')",
   "language": "python",
   "name": "python3"
  },
  "language_info": {
   "codemirror_mode": {
    "name": "ipython",
    "version": 3
   },
   "file_extension": ".py",
   "mimetype": "text/x-python",
   "name": "python",
   "nbconvert_exporter": "python",
   "pygments_lexer": "ipython3",
   "version": "3.8.12"
  },
  "orig_nbformat": 4,
  "vscode": {
   "interpreter": {
    "hash": "2ca91291fcdaa4c3fcefc8cc72b285f2a0d47c9bf7386ba24a39744273d7fcb1"
   }
  }
 },
 "nbformat": 4,
 "nbformat_minor": 2
}
