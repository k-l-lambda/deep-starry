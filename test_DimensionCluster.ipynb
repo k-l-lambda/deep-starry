{
 "cells": [
  {
   "cell_type": "code",
   "execution_count": 1,
   "metadata": {},
   "outputs": [
    {
     "name": "stdout",
     "output_type": "stream",
     "text": [
      "['cat.647.jpg', 'cat.647.jpg', 'cat.647.jpg', 'cat.647.jpg', 'cat.647.jpg', 'cat.647.jpg', 'cat.647.jpg', 'cat.647.jpg']\n",
      "['cat.702.jpg', 'cat.86.jpg', 'cat.89.jpg', 'cat.329.jpg']\n",
      "['cat.86.jpg', 'cat.89.jpg', 'cat.329.jpg', 'cat.623.jpg']\n"
     ]
    }
   ],
   "source": [
    "from starry.vision.data.superImage import DimensionCluster\n",
    "\n",
    "\n",
    "cluster = DimensionCluster(r\"~\\Dataset\\cats_and_dogs_filtered\\train\\cats\\dimensions.csv\")\n",
    "#print(cluster.name_dict)\n",
    "\n",
    "it = iter(cluster)\n",
    "print(next(it))\n",
    "print(next(it))\n",
    "print(next(it))\n"
   ]
  }
 ],
 "metadata": {
  "kernelspec": {
   "display_name": "Python 3.6.8 64-bit",
   "language": "python",
   "name": "python3"
  },
  "language_info": {
   "codemirror_mode": {
    "name": "ipython",
    "version": 3
   },
   "file_extension": ".py",
   "mimetype": "text/x-python",
   "name": "python",
   "nbconvert_exporter": "python",
   "pygments_lexer": "ipython3",
   "version": "3.6.8"
  },
  "orig_nbformat": 4,
  "vscode": {
   "interpreter": {
    "hash": "a7d38e74bfe13cb98d9c208d510fb3d2ada38d33ea651cd79db8b0db1ba5c65d"
   }
  }
 },
 "nbformat": 4,
 "nbformat_minor": 2
}
