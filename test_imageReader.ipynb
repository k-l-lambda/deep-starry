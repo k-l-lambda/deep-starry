{
 "cells": [
  {
   "cell_type": "code",
   "execution_count": null,
   "metadata": {},
   "outputs": [],
   "source": [
    "import matplotlib.pyplot as plt\n",
    "\n",
    "from starry.vision.data.imageReader import ImageReader\n",
    "\n",
    "\n",
    "reader = ImageReader('~/data/score/vision/automate/test5')\n",
    "image1 = reader.readImage('_Staff/RANDOM.7e687132ff3b-1-1.png')\n",
    "print('image1:', image1.shape)\n",
    "plt.imshow(image1)\n"
   ]
  },
  {
   "cell_type": "code",
   "execution_count": null,
   "metadata": {},
   "outputs": [],
   "source": [
    "import matplotlib.pyplot as plt\n",
    "from starry.vision.data.imageReader import ImageReader\n",
    "\n",
    "\n",
    "readerZIP = ImageReader('zip://temp/test.zip')\n",
    "print('list:', list(readerZIP.listFiles('_Staff')))\n",
    "image2 = readerZIP.readImage('_Staff/RANDOM.7e687132ff3b-1-1.png')\n",
    "print('image2:', image2.shape)\n",
    "plt.imshow(image2)\n"
   ]
  },
  {
   "cell_type": "code",
   "execution_count": null,
   "metadata": {},
   "outputs": [],
   "source": [
    "import fs\n",
    "import os\n",
    "\n",
    "\n",
    "fs1 = fs.open_fs('./temp')\n",
    "fs2 = fs.open_fs('mem://')\n",
    "\n",
    "fs.copy.copy_file(fs1, 'test-0-mask.png', fs2, 'test.png')\n",
    "print('info:', fs2.getinfo('test.png'))\n",
    "\n",
    "fs2.makedir(os.path.dirname('dirx/test.png'))\n",
    "fs.copy.copy_file(fs1, 'test-0-mask.png', fs2, 'dirx/test.png')\n",
    "print('info:', fs2.getinfo('dirx/test.png'))\n"
   ]
  },
  {
   "cell_type": "code",
   "execution_count": null,
   "metadata": {},
   "outputs": [],
   "source": [
    "import fs\n",
    "\n",
    "\n",
    "fs2 = fs.open_fs('mem://')\n",
    "print('info:', fs2.getinfo('test.png'))\n"
   ]
  },
  {
   "cell_type": "code",
   "execution_count": null,
   "metadata": {},
   "outputs": [],
   "source": [
    "# write a large random file\n",
    "\n",
    "import numpy as np\n",
    "import cv2\n",
    "\n",
    "\n",
    "print('Writing...')\n",
    "r = np.random.rand(4096, 4096, 3)\n",
    "r = (r * 255).astype(np.uint8)\n",
    "cv2.imwrite('./temp/random.png', r)\n",
    "\n",
    "print('Done.')\n"
   ]
  },
  {
   "cell_type": "code",
   "execution_count": null,
   "metadata": {},
   "outputs": [],
   "source": [
    "\n",
    "import time\n",
    "\n",
    "from starry.vision.data.imageReader import CachedImageReader\n",
    "\n",
    "\n",
    "reader = CachedImageReader('./temp')\n",
    "\n",
    "t0 = time.time()\n",
    "\n",
    "i1 = reader.readImage('random.png')\n",
    "t1 = time.time()\n",
    "print('t1:', t1 - t0)\n",
    "\n",
    "i2 = reader.readImage('random.png')\n",
    "t2 = time.time()\n",
    "print('t2:', t2 - t1)\n"
   ]
  },
  {
   "cell_type": "code",
   "execution_count": null,
   "metadata": {},
   "outputs": [],
   "source": [
    "# PIL vs cv2 image loading\n",
    "import cv2\n",
    "import PIL.Image\n",
    "import numpy as np\n",
    "import matplotlib.pyplot as plt\n",
    "\n",
    "\n",
    "def compare_im (path):\n",
    "    i1 = cv2.imread(path)\n",
    "    i2 = np.array(PIL.Image.open(path))\n",
    "\n",
    "    i1 = cv2.cvtColor(i1, cv2.COLOR_BGRA2GRAY)\n",
    "    i2 = cv2.cvtColor(i2, cv2.COLOR_RGBA2GRAY)\n",
    "\n",
    "    print('shape:', i1.shape, i2.shape)\n",
    "\n",
    "    print('corner:', i1[:4, :4].flatten(), i2[:4, :4].flatten())\n",
    "\n",
    "    differ = (i1 - i2).astype(np.float32) / 255.\n",
    "    differ = cv2.GaussianBlur(differ * 1000, (7, 7), 0)\n",
    "    print('differ:', np.sum(differ))\n",
    "    plt.imshow(differ)\n",
    "\n",
    "compare_im('~/data/textures/coco2017 samples/000000000009.jpg')\n"
   ]
  },
  {
   "cell_type": "code",
   "execution_count": null,
   "metadata": {},
   "outputs": [],
   "source": [
    "# gaussian noise\n",
    "import numpy as np\n",
    "import cv2\n",
    "import matplotlib.pyplot as plt\n",
    "\n",
    "\n",
    "n = np.random.normal(0, 1, (480, 640))\n",
    "#plt.imshow(n)\n",
    "\n",
    "p0 = cv2.imread('~/data/textures/coco2017 samples/000000000009.jpg')\n",
    "p0 = cv2.cvtColor(p0, cv2.COLOR_BGRA2GRAY).astype(np.float32) / 255.\n",
    "plt.imshow(p0 + n * 0.3, cmap='gray')\n"
   ]
  },
  {
   "cell_type": "code",
   "execution_count": null,
   "metadata": {},
   "outputs": [],
   "source": []
  }
 ],
 "metadata": {
  "kernelspec": {
   "display_name": "Python 3.6.9 64-bit",
   "name": "python369jvsc74a57bd031f2aee4e71d21fbe5cf8b01ff0e069b9275f58929596ceb00d14d90e3e16cd6"
  },
  "language_info": {
   "codemirror_mode": {
    "name": "ipython",
    "version": 3
   },
   "file_extension": ".py",
   "mimetype": "text/x-python",
   "name": "python",
   "nbconvert_exporter": "python",
   "pygments_lexer": "ipython3",
   "version": "3.6.9"
  },
  "metadata": {
   "interpreter": {
    "hash": "31f2aee4e71d21fbe5cf8b01ff0e069b9275f58929596ceb00d14d90e3e16cd6"
   }
  },
  "orig_nbformat": 2
 },
 "nbformat": 4,
 "nbformat_minor": 2
}
