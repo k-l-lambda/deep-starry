{
 "cells": [
  {
   "cell_type": "code",
   "execution_count": null,
   "metadata": {},
   "outputs": [],
   "source": [
    "from os.path import expanduser\n",
    "from starry.vision.data.scoreFault import ScoreFault\n",
    "\n",
    "\n",
    "data, = ScoreFault.loadPackage(\"zip://\" + expanduser(\"~/data/score/vision/automate/test.zip\"), \"*0/1\", n_seq_max=64)\n",
    "print('len:', len(data))\n",
    "\n",
    "it = iter(data)\n",
    "print(next(it))\n",
    "print(next(it))\n",
    "print(next(it))"
   ]
  },
  {
   "cell_type": "code",
   "execution_count": null,
   "metadata": {},
   "outputs": [],
   "source": [
    "from torch.utils.data import DataLoader\n",
    "\n",
    "\n",
    "loader = DataLoader(data, batch_size=2, collate_fn=data.collateBatch)\n",
    "it = iter(loader)\n",
    "\n",
    "print(next(it))\n"
   ]
  },
  {
   "cell_type": "code",
   "execution_count": null,
   "metadata": {},
   "outputs": [],
   "source": [
    "# ScoreSemanticValue\n",
    "\n",
    "from starry.vision.models.scoreTransformer import ScoreSemanticValueLoss\n",
    "\n",
    "\n",
    "model = ScoreSemanticValueLoss()\n",
    "\n",
    "batch = next(it)\n",
    "\n",
    "loss, metric = model(batch)\n",
    "print('loss:', loss)\n",
    "print('metric:', metric)\n"
   ]
  }
 ],
 "metadata": {
  "interpreter": {
   "hash": "31f2aee4e71d21fbe5cf8b01ff0e069b9275f58929596ceb00d14d90e3e16cd6"
  },
  "kernelspec": {
   "display_name": "Python 3.6.9 64-bit",
   "language": "python",
   "name": "python3"
  },
  "language_info": {
   "codemirror_mode": {
    "name": "ipython",
    "version": 3
   },
   "file_extension": ".py",
   "mimetype": "text/x-python",
   "name": "python",
   "nbconvert_exporter": "python",
   "pygments_lexer": "ipython3",
   "version": "3.6.9"
  },
  "orig_nbformat": 4
 },
 "nbformat": 4,
 "nbformat_minor": 2
}
