{
 "cells": [
  {
   "cell_type": "code",
   "execution_count": null,
   "metadata": {},
   "outputs": [],
   "source": [
    "import cv2\n",
    "import torch\n",
    "import numpy as np\n",
    "import matplotlib.pyplot as plt\n",
    "from torchvision import transforms\n",
    "\n",
    "from starry.vision.data.augmentor2 import Augmentor2\n",
    "\n",
    "\n",
    "augmentor = Augmentor2({\n",
    "\t'size_limit': {\n",
    "\t\t'size': 600,\n",
    "\t},\n",
    "\t'affine': {\n",
    "\t\t'degrees': 5,\n",
    "\t\t'interpolation': transforms.InterpolationMode.BILINEAR,\n",
    "\t},\n",
    "})\n",
    "\n",
    "image = cv2.imread('./test/download2.jpg')\n",
    "image = torch.from_numpy((image / 255.).astype(np.float32)).permute(2, 0, 1)\n",
    "image = image.unsqueeze(0)\n",
    "\n",
    "augmented = augmentor.augment(image)\n",
    "augmented = augmented.squeeze(0).permute(1, 2, 0).numpy()\n",
    "augmented = (augmented * 255).astype(np.uint8)\n",
    "\n",
    "plt.imshow(augmented)\n",
    "plt.show()\n"
   ]
  }
 ],
 "metadata": {
  "interpreter": {
   "hash": "078bcf56f605c67cdda7655337024c2e7603822d51da37d4185dad0e464471a1"
  },
  "kernelspec": {
   "display_name": "Python 3.6.8 64-bit",
   "language": "python",
   "name": "python3"
  },
  "language_info": {
   "codemirror_mode": {
    "name": "ipython",
    "version": 3
   },
   "file_extension": ".py",
   "mimetype": "text/x-python",
   "name": "python",
   "nbconvert_exporter": "python",
   "pygments_lexer": "ipython3",
   "version": "3.6.8"
  },
  "orig_nbformat": 4
 },
 "nbformat": 4,
 "nbformat_minor": 2
}
