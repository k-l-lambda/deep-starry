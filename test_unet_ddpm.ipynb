{
 "cells": [
  {
   "cell_type": "code",
   "execution_count": 2,
   "metadata": {},
   "outputs": [
    {
     "name": "stdout",
     "output_type": "stream",
     "text": [
      "out: torch.Size([1, 3, 64, 64])\n"
     ]
    }
   ],
   "source": [
    "import torch\n",
    "from starry.unet_ddpm import UNetModel\n",
    "\n",
    "\n",
    "model = UNetModel(3, model_channels=64, out_channels=3, num_res_blocks=3, attention_resolutions=[4])\n",
    "\n",
    "x = torch.randn((1, 3, 64, 64))\n",
    "out = model(x)\n",
    "print('out:', out.shape)\n"
   ]
  }
 ],
 "metadata": {
  "kernelspec": {
   "display_name": "Python 3.6.9 64-bit",
   "language": "python",
   "name": "python3"
  },
  "language_info": {
   "codemirror_mode": {
    "name": "ipython",
    "version": 3
   },
   "file_extension": ".py",
   "mimetype": "text/x-python",
   "name": "python",
   "nbconvert_exporter": "python",
   "pygments_lexer": "ipython3",
   "version": "3.6.9"
  },
  "orig_nbformat": 4,
  "vscode": {
   "interpreter": {
    "hash": "31f2aee4e71d21fbe5cf8b01ff0e069b9275f58929596ceb00d14d90e3e16cd6"
   }
  }
 },
 "nbformat": 4,
 "nbformat_minor": 2
}
