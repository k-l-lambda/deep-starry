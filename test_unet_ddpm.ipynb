{
 "cells": [
  {
   "cell_type": "code",
   "execution_count": 2,
   "metadata": {},
   "outputs": [
    {
     "name": "stdout",
     "output_type": "stream",
     "text": [
      "out: torch.Size([1, 3, 64, 64])\n"
     ]
    }
   ],
   "source": [
    "import torch\n",
    "from starry.unet_ddpm import UNetModel\n",
    "\n",
    "\n",
    "model = UNetModel(3, model_channels=64, out_channels=3, num_res_blocks=3, attention_resolutions=[4])\n",
    "\n",
    "x = torch.randn((1, 3, 64, 64))\n",
    "out = model(x)\n",
    "print('out:', out.shape)\n"
   ]
  },
  {
   "cell_type": "code",
   "execution_count": 1,
   "metadata": {},
   "outputs": [
    {
     "name": "stdout",
     "output_type": "stream",
     "text": [
      "out: torch.Size([1, 3, 64, 64])\n",
      "out: torch.Size([1, 3, 72, 88])\n",
      "out: torch.Size([1, 3, 44, 52])\n"
     ]
    }
   ],
   "source": [
    "# random resolutions\n",
    "import torch\n",
    "from starry.unet_ddpm import UNetModel\n",
    "\n",
    "\n",
    "model = UNetModel(3, model_channels=64, out_channels=3, num_res_blocks=2, channel_mult=(1,2,4), attention_resolutions=[4])\n",
    "\n",
    "out = model(torch.randn((1, 3, 64, 64)))\n",
    "print('out:', out.shape)\n",
    "\n",
    "out = model(torch.randn((1, 3, 72, 88)))\n",
    "print('out:', out.shape)\n",
    "\n",
    "out = model(torch.randn((1, 3, 44, 52)))\n",
    "print('out:', out.shape)\n",
    "\n",
    "#out = model(torch.randn((1, 3, 46, 50)))\t# Sizes of tensors must match except in dimension 1. Got 24 and 23 in dimension 2 (The offending index is 1)\n",
    "#print('out:', out.shape)\n",
    "\n",
    "#out = model(torch.randn((1, 3, 127, 137)))\n",
    "#print('out:', out.shape)\n"
   ]
  },
  {
   "cell_type": "code",
   "execution_count": 1,
   "metadata": {},
   "outputs": [],
   "source": [
    "a = [1,2,3,4,5]\n",
    "\n",
    "def foo ():\n",
    "\twhile True:\n",
    "\t\tyield from a\n",
    "\n",
    "it = iter(foo())"
   ]
  },
  {
   "cell_type": "code",
   "execution_count": 14,
   "metadata": {},
   "outputs": [
    {
     "data": {
      "text/plain": [
       "3"
      ]
     },
     "execution_count": 14,
     "metadata": {},
     "output_type": "execute_result"
    }
   ],
   "source": [
    "next(it)"
   ]
  }
 ],
 "metadata": {
  "kernelspec": {
   "display_name": "Python 3.6.8 64-bit",
   "language": "python",
   "name": "python3"
  },
  "language_info": {
   "codemirror_mode": {
    "name": "ipython",
    "version": 3
   },
   "file_extension": ".py",
   "mimetype": "text/x-python",
   "name": "python",
   "nbconvert_exporter": "python",
   "pygments_lexer": "ipython3",
   "version": "3.6.8"
  },
  "orig_nbformat": 4,
  "vscode": {
   "interpreter": {
    "hash": "a7d38e74bfe13cb98d9c208d510fb3d2ada38d33ea651cd79db8b0db1ba5c65d"
   }
  }
 },
 "nbformat": 4,
 "nbformat_minor": 2
}
