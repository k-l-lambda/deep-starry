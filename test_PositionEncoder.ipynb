{
 "cells": [
  {
   "cell_type": "code",
   "execution_count": null,
   "metadata": {},
   "outputs": [],
   "source": [
    "# SinusoidEncoder\n",
    "\n",
    "import matplotlib.pyplot as plt\n",
    "import torch\n",
    "from starry.modules.positionEncoder import SinusoidEncoder\n",
    "\n",
    "\n",
    "encoder = SinusoidEncoder(angle_cycle=100)\n",
    "vec = encoder(torch.range(0, 100))\n",
    "print(vec.shape)\n",
    "\n",
    "plt.pcolormesh(vec[0], cmap='RdBu')\n",
    "plt.xlabel('Depth')\n",
    "plt.xlim((0, 512))\n",
    "plt.ylabel('Position')\n",
    "plt.colorbar()\n",
    "plt.show()\n"
   ]
  },
  {
   "cell_type": "code",
   "execution_count": null,
   "metadata": {},
   "outputs": [],
   "source": [
    "# SinusoidEncoderXYY\n",
    "\n",
    "import matplotlib.pyplot as plt\n",
    "import torch\n",
    "from starry.modules.positionEncoder import SinusoidEncoderXYY\n",
    "\n",
    "\n",
    "encoder = SinusoidEncoderXYY(angle_cycle=3)\n",
    "x, y1, y2 = torch.range(0, 99).unsqueeze(0), torch.randn((1, 100)), torch.randn((1, 100))\n",
    "vec = encoder(x, y1, y2)\n",
    "\n",
    "print(vec.shape)\n",
    "\n",
    "plt.pcolormesh(vec[0, :, :], cmap='RdBu')\n",
    "plt.xlabel('Depth')\n",
    "plt.xlim((0, 512))\n",
    "plt.ylabel('Position')\n",
    "plt.colorbar()\n",
    "plt.show()\n"
   ]
  }
 ],
 "metadata": {
  "interpreter": {
   "hash": "31f2aee4e71d21fbe5cf8b01ff0e069b9275f58929596ceb00d14d90e3e16cd6"
  },
  "kernelspec": {
   "display_name": "Python 3.6.9 64-bit",
   "language": "python",
   "name": "python3"
  },
  "language_info": {
   "codemirror_mode": {
    "name": "ipython",
    "version": 3
   },
   "file_extension": ".py",
   "mimetype": "text/x-python",
   "name": "python",
   "nbconvert_exporter": "python",
   "pygments_lexer": "ipython3",
   "version": "3.6.9"
  },
  "orig_nbformat": 4
 },
 "nbformat": 4,
 "nbformat_minor": 2
}
