{
 "cells": [
  {
   "cell_type": "code",
   "execution_count": null,
   "metadata": {},
   "outputs": [],
   "source": [
    "import os\n",
    "from collections import OrderedDict\n",
    "import torch\n",
    "\n",
    "import starry.utils.env\n",
    "from starry.schp import networks as schp_networks\n",
    "\n",
    "\n",
    "SCHP_PRETRAINED = os.getenv('SCHP_PRETRAINED')\n",
    "\n",
    "model = schp_networks.init_model('resnet101', num_classes=18, pretrained=None)\n",
    "\n",
    "state_dict = torch.load(SCHP_PRETRAINED)['state_dict']\n",
    "new_state_dict = OrderedDict()\n",
    "for k, v in state_dict.items():\n",
    "\tname = k[7:]  # remove `module.`\n",
    "\tnew_state_dict[name] = v\n",
    "model.load_state_dict(new_state_dict)\n",
    "\n",
    "model.eval()\n",
    "for param in model.parameters():\n",
    "\tparam.requires_grad = False\n",
    "\n",
    "result = model(torch.randn(1, 3, 256, 256))\n",
    "result\n"
   ]
  },
  {
   "cell_type": "code",
   "execution_count": 12,
   "metadata": {},
   "outputs": [
    {
     "data": {
      "text/plain": [
       "(torch.Size([1, 18, 64, 64]),\n",
       " torch.Size([1, 18, 64, 64]),\n",
       " torch.Size([1, 2, 64, 64]))"
      ]
     },
     "execution_count": 12,
     "metadata": {},
     "output_type": "execute_result"
    }
   ],
   "source": [
    "result[0][0].shape, result[0][1].shape, result[1][0].shape\n"
   ]
  }
 ],
 "metadata": {
  "interpreter": {
   "hash": "078bcf56f605c67cdda7655337024c2e7603822d51da37d4185dad0e464471a1"
  },
  "kernelspec": {
   "display_name": "Python 3.6.8 64-bit",
   "language": "python",
   "name": "python3"
  },
  "language_info": {
   "codemirror_mode": {
    "name": "ipython",
    "version": 3
   },
   "file_extension": ".py",
   "mimetype": "text/x-python",
   "name": "python",
   "nbconvert_exporter": "python",
   "pygments_lexer": "ipython3",
   "version": "3.9.7"
  },
  "orig_nbformat": 4
 },
 "nbformat": 4,
 "nbformat_minor": 2
}
