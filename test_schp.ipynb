{
 "cells": [
  {
   "cell_type": "code",
   "execution_count": null,
   "metadata": {},
   "outputs": [],
   "source": [
    "import os\n",
    "from collections import OrderedDict\n",
    "import torch\n",
    "\n",
    "import starry.utils.env\n",
    "from starry.schp import networks as schp_networks\n",
    "\n",
    "\n",
    "SCHP_PRETRAINED = os.getenv('SCHP_PRETRAINED')\n",
    "\n",
    "model = schp_networks.init_model('resnet101', num_classes=18, pretrained=None)\n",
    "\n",
    "state_dict = torch.load(SCHP_PRETRAINED)['state_dict']\n",
    "new_state_dict = OrderedDict()\n",
    "for k, v in state_dict.items():\n",
    "\tname = k[7:]  # remove `module.`\n",
    "\tnew_state_dict[name] = v\n",
    "model.load_state_dict(new_state_dict)\n",
    "\n",
    "model.eval()\n",
    "for param in model.parameters():\n",
    "\tparam.requires_grad = False\n",
    "\n",
    "result = model(torch.randn(1, 3, 256, 256))\n"
   ]
  },
  {
   "cell_type": "code",
   "execution_count": null,
   "metadata": {},
   "outputs": [],
   "source": [
    "result[0][0].shape, result[0][1].shape, result[1][0].shape\n"
   ]
  },
  {
   "cell_type": "code",
   "execution_count": null,
   "metadata": {},
   "outputs": [],
   "source": [
    "# load dataset\n",
    "import matplotlib.pyplot as plt\n",
    "import numpy as np\n",
    "\n",
    "from starry.utils.config import Configuration\n",
    "from starry.utils.dataset_factory import loadDataset\n",
    "\n",
    "\n",
    "DATA_DIR = os.getenv('DATA_DIR')\n",
    "\n",
    "config = Configuration.create('configs/peris-score-simple-b0-balance.local.yaml', volatile=True)\n",
    "data, = loadDataset(config, data_dir=DATA_DIR, splits='*0/1')\n",
    "\n",
    "it = iter(data)\n",
    "\n",
    "def showImage (tensor):\n",
    "\timage = tensor[0].permute(1, 2, 0).numpy()\n",
    "\timage = (image * 255).astype(np.uint8)\n",
    "\tplt.imshow(image)\n",
    "\tplt.show()\n",
    "\n",
    "def get_palette(num_cls):\n",
    "\tn = num_cls\n",
    "\tpalette = [0] * (n * 3)\n",
    "\tfor j in range(0, n):\n",
    "\t\tlab = j\n",
    "\t\tpalette[j * 3 + 0] = 0\n",
    "\t\tpalette[j * 3 + 1] = 0\n",
    "\t\tpalette[j * 3 + 2] = 0\n",
    "\t\ti = 0\n",
    "\t\twhile lab:\n",
    "\t\t\tpalette[j * 3 + 0] |= (((lab >> 0) & 1) << (7 - i))\n",
    "\t\t\tpalette[j * 3 + 1] |= (((lab >> 1) & 1) << (7 - i))\n",
    "\t\t\tpalette[j * 3 + 2] |= (((lab >> 2) & 1) << (7 - i))\n",
    "\t\t\ti += 1\n",
    "\t\t\tlab >>= 3\n",
    "\treturn palette\n",
    "\n",
    "palette = get_palette(18)\n",
    "#print('palette:', palette)\n"
   ]
  },
  {
   "cell_type": "code",
   "execution_count": null,
   "metadata": {},
   "outputs": [],
   "source": [
    "# show heatmap\n",
    "from torchvision import transforms\n",
    "from PIL import Image\n",
    "\n",
    "\n",
    "source, labels = next(it)\n",
    "print('origin shape:', source.shape)\n",
    "\n",
    "size = (512 * source.shape[2] // source.shape[3], 512)\n",
    "resize = transforms.Compose([transforms.Resize(size)])\n",
    "source = resize(source)\n",
    "print('resized shape:', source.shape)\n",
    "showImage(source)\n",
    "\n",
    "result = model(source)\n",
    "a = result[0][-1].numpy()\n",
    "amax, amin = np.max(a), np.min(a)\n",
    "showImage((result[0][-1][:, :3, :, :] + amin) / (amax - amin))\n",
    "\n",
    "image = result[0][-1][0].permute(1, 2, 0).numpy()\t# (h, w, c)\n",
    "parsing_result = np.argmax(image, axis=2)\t# (h, w)\n",
    "output_img = Image.fromarray(np.asarray(parsing_result, dtype=np.uint8))\n",
    "output_img.putpalette(palette)\n",
    "#showImage(parsing_result[:, :3, :, :])\n",
    "plt.imshow(np.array(output_img))\n",
    "plt.show()\n"
   ]
  }
 ],
 "metadata": {
  "interpreter": {
   "hash": "078bcf56f605c67cdda7655337024c2e7603822d51da37d4185dad0e464471a1"
  },
  "kernelspec": {
   "display_name": "Python 3.6.8 64-bit",
   "language": "python",
   "name": "python3"
  },
  "language_info": {
   "codemirror_mode": {
    "name": "ipython",
    "version": 3
   },
   "file_extension": ".py",
   "mimetype": "text/x-python",
   "name": "python",
   "nbconvert_exporter": "python",
   "pygments_lexer": "ipython3",
   "version": "3.9.7"
  },
  "orig_nbformat": 4
 },
 "nbformat": 4,
 "nbformat_minor": 2
}
