{
 "cells": [
  {
   "cell_type": "code",
   "execution_count": null,
   "metadata": {},
   "outputs": [],
   "source": [
    "# dataset\n",
    "from starry.stylegan.dataset import ImageFolderDataset\n",
    "\n",
    "\n",
    "data = ImageFolderDataset(r'.\\test.zip')\n",
    "print(data.label_shape, data.label_dim)\t# [0], 0"
   ]
  },
  {
   "cell_type": "code",
   "execution_count": null,
   "metadata": {},
   "outputs": [],
   "source": [
    "# generator\n",
    "import torch\n",
    "import matplotlib.pyplot as plt\n",
    "\n",
    "from starry.stylegan.models.networks_stylegan3 import Generator\n",
    "\n",
    "\n",
    "g = Generator(z_dim=512, c_dim=0, w_dim=512, img_resolution=256, img_channels=3)\n",
    "\n",
    "z = torch.randn(1, 512)\n",
    "x = g(z, 0)\t# [1, 3, 256, 256]\n",
    "x = x.detach().permute(0, 2, 3, 1)[0].numpy()\n",
    "\n",
    "plt.imshow(x[:, :, 0], cmap='jet')\n"
   ]
  },
  {
   "cell_type": "code",
   "execution_count": null,
   "metadata": {},
   "outputs": [],
   "source": [
    "# discriminator\n",
    "import torch\n",
    "\n",
    "from starry.stylegan.models.networks_stylegan2 import Discriminator\n",
    "\n",
    "\n",
    "d = Discriminator(0, img_resolution=256, img_channels=3)\n",
    "img = torch.randn(1, 3, 256, 256)\n",
    "z = d(img, 0)\n",
    "print('z:', z.shape)\t# [1, 1]\n",
    "\n",
    "loss = torch.nn.functional.softplus(z)\n",
    "print('loss:', loss.shape)\t# [1, 1]\n",
    "\n",
    "mean = loss.mean()\n",
    "print('mean:', mean.shape)\t# []\n"
   ]
  },
  {
   "cell_type": "code",
   "execution_count": null,
   "metadata": {},
   "outputs": [],
   "source": [
    "# logger\n",
    "import logging\n",
    "\n",
    "from starry.stylegan.dnnlib import Logger\n",
    "\n",
    "\n",
    "Logger(file_name='.\\log.txt', file_mode='a', should_flush=True)\n",
    "\n",
    "print('a test.')\n",
    "logging.info('logging test.')\t# not wrote\n",
    "print('2nd test.')\n"
   ]
  },
  {
   "cell_type": "code",
   "execution_count": null,
   "metadata": {},
   "outputs": [],
   "source": [
    "# logging with file\n",
    "import logging\n",
    "\n",
    "logging.basicConfig(filename='.\\log.txt', filemode='a', format='%(asctime)s\t%(name)s %(levelname)s\t%(message)s', datefmt='%H:%M:%S', level=logging.DEBUG)\n",
    "\n",
    "print('printing.')\n",
    "logging.info('test line.')"
   ]
  },
  {
   "cell_type": "code",
   "execution_count": null,
   "metadata": {},
   "outputs": [],
   "source": [
    "# HumanDiscriminator\n",
    "import torch\n",
    "\n",
    "import starry.utils.config\n",
    "from starry.stylegan.models.discriminators import HumanDiscriminator\n",
    "\n",
    "\n",
    "d = HumanDiscriminator(img_resolution=256, img_channels=3, c_dim=0)\n",
    "img = torch.randn(1, 3, 256, 256)\n",
    "z = d(img, 0)\n",
    "print('z:', z.shape)\t# [1, 2]\n"
   ]
  }
 ],
 "metadata": {
  "interpreter": {
   "hash": "078bcf56f605c67cdda7655337024c2e7603822d51da37d4185dad0e464471a1"
  },
  "kernelspec": {
   "display_name": "Python 3.6.8 64-bit",
   "language": "python",
   "name": "python3"
  },
  "language_info": {
   "codemirror_mode": {
    "name": "ipython",
    "version": 3
   },
   "file_extension": ".py",
   "mimetype": "text/x-python",
   "name": "python",
   "nbconvert_exporter": "python",
   "pygments_lexer": "ipython3",
   "version": "3.6.8"
  },
  "orig_nbformat": 4
 },
 "nbformat": 4,
 "nbformat_minor": 2
}
