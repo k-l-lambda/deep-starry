{
 "cells": [
  {
   "cell_type": "code",
   "execution_count": null,
   "metadata": {},
   "outputs": [],
   "source": [
    "import os\n",
    "import matplotlib.pyplot as plt\n",
    "import numpy as np\n",
    "\n",
    "import starry.utils.env\n",
    "from starry.vision.data.peris import PerisData\n",
    "\n",
    "\n",
    "DATA_DIR = os.getenv('DATA_DIR')\n",
    "data = PerisData(os.path.join(DATA_DIR, 'nse-100.zip'), os.path.join(DATA_DIR, 'labels-20220205.csv'), label_fields=['score'], shuffle=True)\n",
    "\n",
    "it = iter(data)\n",
    "source, labels = next(it)\n",
    "print(labels)\n",
    "plt.imshow((source[0] * 255).astype(np.uint8))\n",
    "plt.show()"
   ]
  },
  {
   "cell_type": "code",
   "execution_count": null,
   "metadata": {},
   "outputs": [],
   "source": [
    "# PerisSimple\n",
    "\n",
    "from torch.utils.data import DataLoader\n",
    "\n",
    "from starry.vision.models.peris import PerisSimpleLoss\n",
    "\n",
    "\n",
    "loader = DataLoader(data, batch_size=1, collate_fn=data.collateBatch)\n",
    "it = iter(loader)\n",
    "\n",
    "model = PerisSimpleLoss(backbone='efficientnet_b0')\n",
    "batch = next(it)\n",
    "\n",
    "loss, metrics = model(batch)\n",
    "loss, metrics"
   ]
  },
  {
   "cell_type": "code",
   "execution_count": null,
   "metadata": {},
   "outputs": [],
   "source": [
    "import os\n",
    "import matplotlib.pyplot as plt\n",
    "import numpy as np\n",
    "\n",
    "from starry.utils.config import Configuration\n",
    "from starry.utils.dataset_factory import loadDataset\n",
    "\n",
    "\n",
    "DATA_DIR = os.getenv('DATA_DIR')\n",
    "\n",
    "config = Configuration.create('configs/peris-score-simple.yaml', volatile=True)\n",
    "data, = loadDataset(config, data_dir=DATA_DIR, splits='*0/1')\n",
    "\n",
    "it = iter(data)\n",
    "source, labels = next(it)\n",
    "print(labels)\n",
    "\n",
    "source = source[0].permute(1, 2, 0).numpy()\n",
    "plt.imshow((source * 255).astype(np.uint8))\n",
    "plt.show()\n"
   ]
  },
  {
   "cell_type": "code",
   "execution_count": null,
   "metadata": {},
   "outputs": [],
   "source": [
    "# prediction\n",
    "import os\n",
    "import matplotlib.pyplot as plt\n",
    "import numpy as np\n",
    "import torch\n",
    "\n",
    "from starry.utils.config import Configuration\n",
    "from starry.utils.dataset_factory import loadDataset\n",
    "from starry.utils.model_factory import loadModel\n",
    "\n",
    "\n",
    "DATA_DIR = os.getenv('DATA_DIR')\n",
    "\n",
    "config = Configuration('training/peris/20220217-peris-score-simple')\n",
    "data, = loadDataset(config, data_dir=DATA_DIR, splits='*0/1')\n",
    "\n",
    "model = loadModel(config['model'])\n",
    "if config['best']:\n",
    "\tcheckpoint = torch.load(config.localPath(config['best']), map_location='cpu')\n",
    "\tmodel.load_state_dict(checkpoint['model'])\n",
    "\tprint(f'checkpoint loaded: {config[\"best\"]}')\n",
    "model.eval()\n",
    "\n",
    "it = iter(data)\n"
   ]
  },
  {
   "cell_type": "code",
   "execution_count": null,
   "metadata": {},
   "outputs": [],
   "source": [
    "# prediction iteration\n",
    "with torch.no_grad():\n",
    "\tsource, labels = next(it)\n",
    "\tpred = model(source)\n",
    "\tprint(labels, pred)\n",
    "\n",
    "source = source[0].permute(1, 2, 0).numpy()\n",
    "plt.imshow((source * 255).astype(np.uint8))\n",
    "plt.show()\n"
   ]
  },
  {
   "cell_type": "code",
   "execution_count": null,
   "metadata": {},
   "outputs": [],
   "source": [
    "# BalanceLabeledImage\n",
    "import os\n",
    "#import matplotlib.pyplot as plt\n",
    "import numpy as np\n",
    "\n",
    "from starry.utils.config import Configuration\n",
    "from starry.utils.dataset_factory import loadDataset\n",
    "\n",
    "\n",
    "DATA_DIR = os.getenv('DATA_DIR')\n",
    "\n",
    "config = Configuration.create('configs/peris-score-simple-balance.yaml', volatile=True)\n",
    "data, = loadDataset(config, data_dir=DATA_DIR, splits='*0/1')\n",
    "\n",
    "it = iter(data)\n",
    "source, labels = next(it)\n",
    "print(labels)"
   ]
  },
  {
   "cell_type": "code",
   "execution_count": null,
   "metadata": {},
   "outputs": [],
   "source": [
    "# BalanceLabeledImage iteration\n",
    "import matplotlib.pyplot as plt\n",
    "\n",
    "source, labels = next(it)\n",
    "print(labels)\n",
    "\n",
    "source = source[0].permute(1, 2, 0).numpy()\n",
    "plt.imshow((source * 255).astype(np.uint8))\n",
    "plt.show()"
   ]
  },
  {
   "cell_type": "code",
   "execution_count": null,
   "metadata": {},
   "outputs": [],
   "source": [
    "# dataset loading\n",
    "import os\n",
    "import numpy as np\n",
    "\n",
    "from starry.utils.config import Configuration\n",
    "from starry.utils.dataset_factory import loadDataset\n",
    "\n",
    "\n",
    "DATA_DIR = os.getenv('DATA_DIR')\n",
    "\n",
    "config = Configuration.create('configs/peris-score-balance-score_binary.yaml', volatile=True)\n",
    "data, = loadDataset(config, data_dir=DATA_DIR, splits='*0/1')\n",
    "\n",
    "it = iter(data)\n",
    "source, labels = next(it)\n",
    "print(labels)"
   ]
  },
  {
   "cell_type": "code",
   "execution_count": null,
   "metadata": {},
   "outputs": [],
   "source": [
    "# dataset iteration\n",
    "import matplotlib.pyplot as plt\n",
    "\n",
    "source, labels = next(it)\n",
    "print(labels)\n",
    "\n",
    "source = source[0].permute(1, 2, 0).numpy()\n",
    "plt.imshow((source * 255).astype(np.uint8))\n",
    "plt.show()"
   ]
  },
  {
   "cell_type": "code",
   "execution_count": null,
   "metadata": {},
   "outputs": [],
   "source": [
    "# model test with loss\n",
    "import os\n",
    "import matplotlib.pyplot as plt\n",
    "import numpy as np\n",
    "import torch\n",
    "\n",
    "from starry.utils.config import Configuration\n",
    "from starry.utils.dataset_factory import loadDataset\n",
    "from starry.utils.model_factory import loadModel\n",
    "\n",
    "\n",
    "DATA_DIR = os.getenv('DATA_DIR')\n",
    "\n",
    "config = Configuration.createOrLoad('configs/peris-score-balance-score_binary.yaml')\n",
    "data, = loadDataset(config, data_dir=DATA_DIR, splits='*0/1')\n",
    "\n",
    "model = loadModel(config['model'], postfix='Loss')\n",
    "\n",
    "it = iter(data)\n",
    "\n",
    "source, labels = next(it)\n",
    "pred = model((source, labels))\n",
    "print(labels, pred)\n"
   ]
  },
  {
   "cell_type": "code",
   "execution_count": null,
   "metadata": {},
   "outputs": [],
   "source": [
    "# model test with loss\n",
    "import os\n",
    "import matplotlib.pyplot as plt\n",
    "import numpy as np\n",
    "import torch\n",
    "\n",
    "from starry.utils.config import Configuration\n",
    "from starry.utils.dataset_factory import loadDataset\n",
    "from starry.utils.model_factory import loadModel\n",
    "\n",
    "\n",
    "DATA_DIR = os.getenv('DATA_DIR')\n",
    "\n",
    "config = Configuration.createOrLoad(r'training\\peris\\20220305-peris-score-balance-score_binary-b2')\n",
    "data, = loadDataset(config, data_dir=DATA_DIR, splits='*0/1')\n",
    "\n",
    "model = loadModel(config['model'])\n",
    "checkpoint = torch.load(config.localPath(config['best']), map_location='cpu')\n",
    "model.load_state_dict(checkpoint['model'])\n",
    "model.eval()\n"
   ]
  },
  {
   "cell_type": "code",
   "execution_count": null,
   "metadata": {},
   "outputs": [],
   "source": [
    "\n",
    "it = iter(data)\n",
    "\n",
    "with torch.no_grad():\n",
    "\tsource, labels = next(it)\n",
    "\tpred = model(source)\n",
    "\tprint(labels, pred)\n",
    "\n",
    "img = source[0].permute(1, 2, 0).numpy()\n",
    "plt.imshow((img * 255).astype(np.uint8))\n",
    "plt.show()\n"
   ]
  },
  {
   "cell_type": "code",
   "execution_count": null,
   "metadata": {},
   "outputs": [],
   "source": [
    "# PerisCaption\n",
    "import os\n",
    "import starry.utils.env\n",
    "from starry.vision.data import PerisCaption\n",
    "\n",
    "\n",
    "DATA_DIR = os.getenv('DATA_DIR')\n",
    "data = PerisCaption(os.path.join(DATA_DIR, 'nse-100.zip'), os.path.join(DATA_DIR, 'labels-20220921.csv'))\n",
    "\n",
    "it = iter(data)\n",
    "next(it)"
   ]
  },
  {
   "cell_type": "code",
   "execution_count": null,
   "metadata": {},
   "outputs": [],
   "source": [
    "next(it)[1]"
   ]
  }
 ],
 "metadata": {
  "kernelspec": {
   "display_name": "Python 3.6.8 64-bit",
   "language": "python",
   "name": "python3"
  },
  "language_info": {
   "codemirror_mode": {
    "name": "ipython",
    "version": 3
   },
   "file_extension": ".py",
   "mimetype": "text/x-python",
   "name": "python",
   "nbconvert_exporter": "python",
   "pygments_lexer": "ipython3",
   "version": "3.6.8"
  },
  "orig_nbformat": 4,
  "vscode": {
   "interpreter": {
    "hash": "a7d38e74bfe13cb98d9c208d510fb3d2ada38d33ea651cd79db8b0db1ba5c65d"
   }
  }
 },
 "nbformat": 4,
 "nbformat_minor": 2
}
