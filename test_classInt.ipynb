{
 "cells": [
  {
   "cell_type": "code",
   "execution_count": 1,
   "metadata": {},
   "outputs": [
    {
     "data": {
      "text/plain": [
       "([5, 3, 2, 2, 2, 2, 2, 2, 2], [1, 5, 15, 30, 60, 120, 240, 480, 960])"
      ]
     },
     "execution_count": 1,
     "metadata": {},
     "output_type": "execute_result"
    }
   ],
   "source": [
    "from starry.modules.classInt import Int2PClass\n",
    "\n",
    "\n",
    "ci = Int2PClass(1920)\n",
    "ci.factors, ci.pfactors"
   ]
  },
  {
   "cell_type": "code",
   "execution_count": 2,
   "metadata": {},
   "outputs": [
    {
     "data": {
      "text/plain": [
       "tensor([[[0, 0, 0, 0, 0, 0, 0, 0, 0, 0, 0, 1, 0],\n",
       "         [0, 0, 0, 0, 0, 0, 0, 0, 0, 1, 1, 0, 1],\n",
       "         [0, 0, 0, 1, 0, 0, 0, 1, 0, 0, 1, 0, 1],\n",
       "         [0, 0, 0, 1, 0, 1, 1, 1, 1, 1, 1, 1, 1]]])"
      ]
     },
     "execution_count": 2,
     "metadata": {},
     "output_type": "execute_result"
    }
   ],
   "source": [
    "import torch\n",
    "\n",
    "\n",
    "ci(torch.tensor([[480, 1320, 1234, 1919]]))\n"
   ]
  },
  {
   "cell_type": "code",
   "execution_count": 1,
   "metadata": {},
   "outputs": [
    {
     "data": {
      "text/plain": [
       "[0, 4, 6, 7, 8, 9, 10, 11, 12]"
      ]
     },
     "execution_count": 1,
     "metadata": {},
     "output_type": "execute_result"
    }
   ],
   "source": [
    "from starry.modules.classInt import PClass2Int\n",
    "\n",
    "pi = PClass2Int(1920)\n",
    "pi.digit_pos"
   ]
  },
  {
   "cell_type": "code",
   "execution_count": 2,
   "metadata": {},
   "outputs": [
    {
     "data": {
      "text/plain": [
       "tensor([ 480., 1320., 1234., 1919.])"
      ]
     },
     "execution_count": 2,
     "metadata": {},
     "output_type": "execute_result"
    }
   ],
   "source": [
    "import torch\n",
    "\n",
    "pi(torch.tensor([\n",
    "\t[-1, -1, -1, -1, -1, -1, -1, -1, -1, -1, -1, 1, -1],\n",
    "\t[-1, -1, -1, -1, -1, -1, -1, -1, -1, 1, 1, -1, 1],\n",
    "\t[-1, -1, -1, 1, -1, -1, -1, 1, -1, -1, 1, -1, 1],\n",
    "\t[-1, -1, -1, 1, -1, 1, 1, 1, 1, 1, 1, 1, 1],\n",
    "]))"
   ]
  }
 ],
 "metadata": {
  "kernelspec": {
   "display_name": "env",
   "language": "python",
   "name": "python3"
  },
  "language_info": {
   "codemirror_mode": {
    "name": "ipython",
    "version": 3
   },
   "file_extension": ".py",
   "mimetype": "text/x-python",
   "name": "python",
   "nbconvert_exporter": "python",
   "pygments_lexer": "ipython3",
   "version": "3.10.12"
  },
  "orig_nbformat": 4
 },
 "nbformat": 4,
 "nbformat_minor": 2
}
